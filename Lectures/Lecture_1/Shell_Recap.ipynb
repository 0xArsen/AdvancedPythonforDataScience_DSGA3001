{
 "cells": [
  {
   "cell_type": "markdown",
   "metadata": {},
   "source": [
    "# DS-GA-3001.001 Advanced Python\n",
    "# Lecture 1: Shell Recap"
   ]
  },
  {
   "cell_type": "markdown",
   "metadata": {},
   "source": [
    "----\n",
    "## <font color='blue'>Shell Basics</font>\n",
    "----"
   ]
  },
  {
   "cell_type": "markdown",
   "metadata": {},
   "source": [
    "### File System\n",
    "<img src=\"figs/filesystem.png\" alt=\"Drawing\" style=\"width: 500px;\"/>"
   ]
  },
  {
   "cell_type": "code",
   "execution_count": 2,
   "metadata": {},
   "outputs": [
    {
     "name": "stdout",
     "output_type": "stream",
     "text": [
      "\u001b[30m\u001b[42mShared\u001b[m\u001b[m   \u001b[34mlgnonato\u001b[m\u001b[m\r\n"
     ]
    }
   ],
   "source": [
    "!ls /Users"
   ]
  },
  {
   "cell_type": "markdown",
   "metadata": {},
   "source": [
    "### Main Commands: \n",
    "__ls__: list<br>\n",
    "__pwd__: show path<br>\n",
    "__cd__: change directory<br>\n",
    "__mkdir__: create directory<br>\n",
    "__cp__: copy<br>\n",
    "__mv__: move<br>\n",
    "__rm__: remove<br>\n",
    "__chmod__: change permissions"
   ]
  },
  {
   "cell_type": "code",
   "execution_count": 8,
   "metadata": {},
   "outputs": [
    {
     "name": "stdout",
     "output_type": "stream",
     "text": [
      "total 6632\n",
      "drwxr-xr-x@ 7 lgnonato  staff      224 Jan 23 12:10 \u001b[34m.\u001b[m\u001b[m\n",
      "-rw-r--r--@ 1 lgnonato  staff     1640 Jan 23 12:10 Shell+Python Recap.ipynb\n",
      "-rw-r--r--@ 1 lgnonato  staff     8196 Jan 23 11:49 .DS_Store\n",
      "drwxr-xr-x@ 3 lgnonato  staff       96 Jan 23 11:47 \u001b[34mfigs\u001b[m\u001b[m\n",
      "drwxr-xr-x@ 4 lgnonato  staff      128 Jan 23 11:42 \u001b[34m..\u001b[m\u001b[m\n",
      "-rwxr-xr-x@ 1 lgnonato  staff  3375112 Jan 23 11:41 \u001b[31mDS-GA-3001_APDS L1 Shell + Git.key\u001b[m\u001b[m\n",
      "drwxr-xr-x@ 3 lgnonato  staff       96 Jan 23 11:33 \u001b[34m.ipynb_checkpoints\u001b[m\u001b[m\n",
      "/Users/lgnonato/Dropbox/Cursos/DS-GA-3001-Adv_Python_4_DS/Lectures/Shell+Python\n"
     ]
    }
   ],
   "source": [
    "!ls -lta\n",
    "!pwd"
   ]
  },
  {
   "cell_type": "markdown",
   "metadata": {},
   "source": [
    "### Pipes: connect the output of one command to the input of another"
   ]
  },
  {
   "cell_type": "code",
   "execution_count": 13,
   "metadata": {},
   "outputs": [
    {
     "name": "stdout",
     "output_type": "stream",
     "text": [
      "total 6608\n",
      "-rwxr-xr-x@ 1 lgnonato  staff  3375112 Jan 23 11:41 \u001b[31mDS-GA-3001_APDS L1 Shell + Git.key\u001b[m\u001b[m\n",
      "-rw-r--r--@ 1 lgnonato  staff     3120 Jan 23 12:20 Shell+Python Recap.ipynb\n",
      "drwxr-xr-x@ 3 lgnonato  staff       96 Jan 23 11:47 \u001b[34mfigs\u001b[m\u001b[m\n",
      "       4      34     232\n"
     ]
    }
   ],
   "source": [
    "!ls -l\n",
    "!ls -l | wc"
   ]
  },
  {
   "cell_type": "markdown",
   "metadata": {},
   "source": [
    "### Shell scripts"
   ]
  },
  {
   "cell_type": "code",
   "execution_count": 29,
   "metadata": {},
   "outputs": [
    {
     "name": "stdout",
     "output_type": "stream",
     "text": [
      "#!/bin/sh\r\n",
      "name=\"Testing scripts\"\r\n",
      "if [ \"$#\" -eq \"0\" ]\r\n",
      "then\r\n",
      "   echo $name\r\n",
      "else\r\n",
      "   echo \"parameters are:\"\r\n",
      "   param=\"$@\"\r\n",
      "   for i in $param\r\n",
      "   do\r\n",
      "       echo $i\r\n",
      "   done\r\n",
      "fi\r\n",
      "\r\n"
     ]
    }
   ],
   "source": [
    "!cat my_script.sh"
   ]
  },
  {
   "cell_type": "code",
   "execution_count": 31,
   "metadata": {},
   "outputs": [
    {
     "name": "stdout",
     "output_type": "stream",
     "text": [
      "parameters are:\r\n",
      "test\r\n"
     ]
    }
   ],
   "source": [
    "!./my_script.sh test"
   ]
  },
  {
   "cell_type": "markdown",
   "metadata": {},
   "source": [
    "### Makefile"
   ]
  },
  {
   "cell_type": "code",
   "execution_count": 32,
   "metadata": {},
   "outputs": [
    {
     "name": "stdout",
     "output_type": "stream",
     "text": [
      "my_c_prog: my_c_prog.c my_c_prog.h\r\n",
      "\tgcc -o my_c_prog my_c_prog.c\r\n"
     ]
    }
   ],
   "source": [
    "!cat makefile"
   ]
  },
  {
   "cell_type": "code",
   "execution_count": 35,
   "metadata": {},
   "outputs": [
    {
     "name": "stdout",
     "output_type": "stream",
     "text": [
      "---my_c_prog.c---\n",
      "#include \"my_c_prog.h\"\n",
      "\n",
      "int main(void){\n",
      "    printf(\"Hello Folks !!\");\n",
      "    return(0);\n",
      "}\n",
      "---my_c_prog.h---\n",
      "#include <stdio.h>\n"
     ]
    }
   ],
   "source": [
    "!echo ---my_c_prog.c---\n",
    "!cat my_c_prog.c\n",
    "\n",
    "!echo ---my_c_prog.h---\n",
    "!cat my_c_prog.h"
   ]
  },
  {
   "cell_type": "code",
   "execution_count": null,
   "metadata": {
    "collapsed": true
   },
   "outputs": [],
   "source": []
  }
 ],
 "metadata": {
  "kernelspec": {
   "display_name": "Python 3",
   "language": "python",
   "name": "python3"
  },
  "language_info": {
   "codemirror_mode": {
    "name": "ipython",
    "version": 3
   },
   "file_extension": ".py",
   "mimetype": "text/x-python",
   "name": "python",
   "nbconvert_exporter": "python",
   "pygments_lexer": "ipython3",
   "version": "3.6.2"
  }
 },
 "nbformat": 4,
 "nbformat_minor": 2
}
