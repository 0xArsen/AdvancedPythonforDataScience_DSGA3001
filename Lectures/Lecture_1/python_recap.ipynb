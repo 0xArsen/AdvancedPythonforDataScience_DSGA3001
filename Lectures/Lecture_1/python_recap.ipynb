{
 "cells": [
  {
   "cell_type": "markdown",
   "metadata": {},
   "source": [
    "# DS-GA-3001.001 Advanced Python\n",
    "# Lecture 1: Python Recap"
   ]
  },
  {
   "cell_type": "markdown",
   "metadata": {},
   "source": [
    "----\n",
    "## <font color='blue'>Timing the code</font>\n",
    "----"
   ]
  },
  {
   "cell_type": "code",
   "execution_count": 39,
   "metadata": {},
   "outputs": [
    {
     "name": "stdout",
     "output_type": "stream",
     "text": [
      "0.02439399999999914\n",
      "0.00916000000000139\n",
      "\"Comprehension\" is 2.663 times faster than the \"for+append\"\n"
     ]
    }
   ],
   "source": [
    "import time\n",
    "\n",
    "t = time.process_time()\n",
    "l1 = []\n",
    "for i in range(100000):\n",
    "    l1.append(i)\n",
    "elapsed_time1 = time.process_time() - t\n",
    "print(elapsed_time1)\n",
    "\n",
    "t = time.process_time()\n",
    "l1 = [i for i in range(100000)]\n",
    "elapsed_time2 = time.process_time() - t\n",
    "print(elapsed_time2)\n",
    "\n",
    "if (elapsed_time1 > elapsed_time2):\n",
    "    speed = elapsed_time1/elapsed_time2\n",
    "    print('\\\"Comprehension\\\" is %.3f' %speed,'times faster than the \\\"for+append\\\"')\n",
    "else:\n",
    "    speed = elapsed_time2/elapsed_time1    \n",
    "    print('\\\"for+append\\\" is %.3f' %speed,'times faster than the \\\"Comprehension\\\"')\n"
   ]
  },
  {
   "cell_type": "code",
   "execution_count": 40,
   "metadata": {},
   "outputs": [
    {
     "name": "stdout",
     "output_type": "stream",
     "text": [
      "         100031 function calls in 0.059 seconds\n",
      "\n",
      "   Ordered by: standard name\n",
      "\n",
      "   ncalls  tottime  percall  cumtime  percall filename:lineno(function)\n",
      "        1    0.002    0.002    0.048    0.048 <ipython-input-40-a7567dae838d>:14(<module>)\n",
      "        1    0.003    0.003    0.011    0.011 <ipython-input-40-a7567dae838d>:15(<module>)\n",
      "        1    0.000    0.000    0.000    0.000 <ipython-input-40-a7567dae838d>:17(<module>)\n",
      "        1    0.033    0.033    0.046    0.046 <ipython-input-40-a7567dae838d>:3(list_by_append)\n",
      "        1    0.000    0.000    0.008    0.008 <ipython-input-40-a7567dae838d>:8(list_by_comprehension)\n",
      "        1    0.008    0.008    0.008    0.008 <ipython-input-40-a7567dae838d>:9(<listcomp>)\n",
      "        3    0.000    0.000    0.000    0.000 codeop.py:132(__call__)\n",
      "        3    0.000    0.000    0.000    0.000 hooks.py:142(__call__)\n",
      "        3    0.000    0.000    0.000    0.000 hooks.py:207(pre_run_code_hook)\n",
      "        3    0.000    0.000    0.000    0.000 interactiveshell.py:1055(user_global_ns)\n",
      "        3    0.000    0.000    0.059    0.020 interactiveshell.py:2832(run_code)\n",
      "        3    0.000    0.000    0.000    0.000 ipstruct.py:125(__getattr__)\n",
      "        3    0.000    0.000    0.000    0.000 {built-in method builtins.compile}\n",
      "        3    0.000    0.000    0.059    0.020 {built-in method builtins.exec}\n",
      "   100000    0.013    0.000    0.013    0.000 {method 'append' of 'list' objects}\n",
      "        1    0.000    0.000    0.000    0.000 {method 'disable' of '_lsprof.Profiler' objects}\n",
      "\n",
      "\n"
     ]
    }
   ],
   "source": [
    "import cProfile\n",
    "\n",
    "def list_by_append():\n",
    "    l1 = []\n",
    "    for i in range(100000):\n",
    "        l1.append(i)\n",
    "        \n",
    "def list_by_comprehension():\n",
    "    l1 = [i for i in range(100000)]\n",
    "\n",
    "cp = cProfile.Profile()\n",
    "cp.enable()\n",
    "\n",
    "list_by_append()\n",
    "list_by_comprehension()\n",
    "\n",
    "cp.disable()\n",
    "cp.print_stats()\n"
   ]
  },
  {
   "cell_type": "code",
   "execution_count": 41,
   "metadata": {},
   "outputs": [
    {
     "name": "stdout",
     "output_type": "stream",
     "text": [
      "         100004 function calls in 0.023 seconds\n",
      "\n",
      "   Ordered by: standard name\n",
      "\n",
      "   ncalls  tottime  percall  cumtime  percall filename:lineno(function)\n",
      "        1    0.015    0.015    0.022    0.022 <ipython-input-40-a7567dae838d>:3(list_by_append)\n",
      "        1    0.001    0.001    0.023    0.023 <string>:1(<module>)\n",
      "        1    0.000    0.000    0.023    0.023 {built-in method builtins.exec}\n",
      "   100000    0.007    0.000    0.007    0.000 {method 'append' of 'list' objects}\n",
      "        1    0.000    0.000    0.000    0.000 {method 'disable' of '_lsprof.Profiler' objects}\n",
      "\n",
      "\n",
      "         5 function calls in 0.009 seconds\n",
      "\n",
      "   Ordered by: standard name\n",
      "\n",
      "   ncalls  tottime  percall  cumtime  percall filename:lineno(function)\n",
      "        1    0.000    0.000    0.007    0.007 <ipython-input-40-a7567dae838d>:8(list_by_comprehension)\n",
      "        1    0.007    0.007    0.007    0.007 <ipython-input-40-a7567dae838d>:9(<listcomp>)\n",
      "        1    0.002    0.002    0.009    0.009 <string>:1(<module>)\n",
      "        1    0.000    0.000    0.009    0.009 {built-in method builtins.exec}\n",
      "        1    0.000    0.000    0.000    0.000 {method 'disable' of '_lsprof.Profiler' objects}\n",
      "\n",
      "\n"
     ]
    }
   ],
   "source": [
    "cProfile.run('list_by_append()')\n",
    "cProfile.run('list_by_comprehension()')"
   ]
  },
  {
   "cell_type": "markdown",
   "metadata": {},
   "source": [
    "---\n",
    "### File comprehensionXappend.py\n",
    "```python\n",
    "def list_by_append():\n",
    "    l1 = []\n",
    "    for i in range(100000):\n",
    "        l1.append(i)\n",
    "\n",
    "def list_by_comprehension():\n",
    "    l1 = [i for i in range(100000)]\n",
    "\n",
    "if __name__==\"__main__\":\n",
    "    list_by_append()\n",
    "    list_by_comprehension()\n",
    "```"
   ]
  },
  {
   "cell_type": "markdown",
   "metadata": {},
   "source": [
    "### the command\n",
    "python3 -m cProfile -o timeStats.profile comprehensionXappend.py\n",
    "### creates the file _timeStats.profile_ which can be analyzed via\n",
    "python3 -m pstats timeStats.profile"
   ]
  },
  {
   "cell_type": "markdown",
   "metadata": {},
   "source": [
    "----\n",
    "## <font color='blue'>Numpy</font>\n",
    "----"
   ]
  },
  {
   "cell_type": "markdown",
   "metadata": {},
   "source": [
    "### Broadcasting"
   ]
  },
  {
   "cell_type": "code",
   "execution_count": 43,
   "metadata": {},
   "outputs": [
    {
     "name": "stdout",
     "output_type": "stream",
     "text": [
      "         3 function calls in 0.590 seconds\n",
      "\n",
      "   Ordered by: standard name\n",
      "\n",
      "   ncalls  tottime  percall  cumtime  percall filename:lineno(function)\n",
      "        1    0.590    0.590    0.590    0.590 <string>:1(<module>)\n",
      "        1    0.000    0.000    0.590    0.590 {built-in method builtins.exec}\n",
      "        1    0.000    0.000    0.000    0.000 {method 'disable' of '_lsprof.Profiler' objects}\n",
      "\n",
      "\n",
      "         3 function calls in 0.642 seconds\n",
      "\n",
      "   Ordered by: standard name\n",
      "\n",
      "   ncalls  tottime  percall  cumtime  percall filename:lineno(function)\n",
      "        1    0.642    0.642    0.642    0.642 <string>:1(<module>)\n",
      "        1    0.000    0.000    0.642    0.642 {built-in method builtins.exec}\n",
      "        1    0.000    0.000    0.000    0.000 {method 'disable' of '_lsprof.Profiler' objects}\n",
      "\n",
      "\n",
      "         3 function calls in 0.768 seconds\n",
      "\n",
      "   Ordered by: standard name\n",
      "\n",
      "   ncalls  tottime  percall  cumtime  percall filename:lineno(function)\n",
      "        1    0.768    0.768    0.768    0.768 <string>:1(<module>)\n",
      "        1    0.000    0.000    0.768    0.768 {built-in method builtins.exec}\n",
      "        1    0.000    0.000    0.000    0.000 {method 'disable' of '_lsprof.Profiler' objects}\n",
      "\n",
      "\n",
      "         3 function calls in 0.661 seconds\n",
      "\n",
      "   Ordered by: standard name\n",
      "\n",
      "   ncalls  tottime  percall  cumtime  percall filename:lineno(function)\n",
      "        1    0.661    0.661    0.661    0.661 <string>:1(<module>)\n",
      "        1    0.000    0.000    0.661    0.661 {built-in method builtins.exec}\n",
      "        1    0.000    0.000    0.000    0.000 {method 'disable' of '_lsprof.Profiler' objects}\n",
      "\n",
      "\n"
     ]
    }
   ],
   "source": [
    "import cProfile \n",
    "import numpy as np\n",
    "\n",
    "n = 10000\n",
    "M = np.random.uniform(low=0,high=1,size=(n,n))\n",
    "cProfile.run('M*2')  # the constant 2 is broadcasted in a n X n matrix\n",
    "\n",
    "M2 = np.broadcast_to(2, (n,n)) # broadcasting manually the constant 2\n",
    "cProfile.run('M*M2')\n",
    "\n",
    "v = np.linspace(0,1,n)\n",
    "cProfile.run('M - v') # v is broadcasted in a matrix before subtraction\n",
    "\n",
    "Mv = np.broadcast_to(v, (n, n)) # broadcasting manually the array v\n",
    "cProfile.run('M - Mv')"
   ]
  },
  {
   "cell_type": "markdown",
   "metadata": {},
   "source": [
    "### Slicing and assigments"
   ]
  },
  {
   "cell_type": "code",
   "execution_count": 49,
   "metadata": {},
   "outputs": [
    {
     "name": "stdout",
     "output_type": "stream",
     "text": [
      "[[ 0  1  2  3  4]\n",
      " [ 5  6  7  8  9]\n",
      " [10 11 12 13 14]\n",
      " [15 16 17 18 19]]\n"
     ]
    }
   ],
   "source": [
    "A = np.arange(20).reshape(4,5)\n",
    "print(A)"
   ]
  },
  {
   "cell_type": "code",
   "execution_count": 50,
   "metadata": {},
   "outputs": [
    {
     "name": "stdout",
     "output_type": "stream",
     "text": [
      "Modifyin particular rows\n",
      "[[ 0  0  0  0  0]\n",
      " [ 0  0  0  0  0]\n",
      " [10 11 12 13 14]\n",
      " [15 16 17 18 19]] \n",
      "\n",
      "Modifyin particular rows and columns\n",
      "[[ 0  0 -1 -1 -1]\n",
      " [ 0  0 -1 -1 -1]\n",
      " [10 11 12 13 14]\n",
      " [15 16 17 18 19]] \n",
      "\n",
      "Fancy index\n",
      "[[ 0  0 -1 -1 -1]\n",
      " [ 0  0 -1 -1 -1]\n",
      " [10 11 12 13 14]\n",
      " [15 16 17 18 19]] \n",
      "\n",
      "Fancy index with replacement\n",
      "[[ 0  0 -3 -1 -1]\n",
      " [ 0  0 -1 -1 -1]\n",
      " [10 11 12 13 -3]\n",
      " [15 16 17 18 19]] \n",
      "\n",
      "The content of A is also modified\n",
      "[[ 0  0 -3 -1 -1]\n",
      " [ 0  0 -1 -1 -1]\n",
      " [10 11 12 13 -3]\n",
      " [15 16 17 18 19]]\n"
     ]
    }
   ],
   "source": [
    "B = A[:,:] # B is a view of A (not a copy nor a reference)\n",
    "\n",
    "B[:2] = 0\n",
    "print('Modifyin particular rows')\n",
    "print(B,'\\n')\n",
    "\n",
    "B[:2,2:] = -1\n",
    "print('Modifyin particular rows and columns')\n",
    "print(B,'\\n')\n",
    "\n",
    "B[[0,2]][:,[2,4]] = -3 # fancy index does not modify B\n",
    "print('Fancy index')\n",
    "print(B,'\\n')\n",
    "\n",
    "B[[0,2],[2,4]] = -3  # why is B modified now?\n",
    "print('Fancy index with replacement')\n",
    "print(B,'\\n')\n",
    "\n",
    "print('The content of A is also modified')\n",
    "print(A)\n"
   ]
  },
  {
   "cell_type": "markdown",
   "metadata": {},
   "source": [
    "### Numerical and Algebrical Operations"
   ]
  },
  {
   "cell_type": "code",
   "execution_count": 46,
   "metadata": {},
   "outputs": [
    {
     "name": "stdout",
     "output_type": "stream",
     "text": [
      "---element-wise---\n",
      "[False False  True False]\n",
      "---array-wise---\n",
      "False\n"
     ]
    }
   ],
   "source": [
    "# Comparisons\n",
    "\n",
    "a = np.array([1, 2, 3, 4])\n",
    "b = np.array([4, 2, 2, 4])\n",
    "\n",
    "print('---element-wise---')\n",
    "print(a>b) \n",
    "\n",
    "print('---array-wise---')\n",
    "print(np.array_equal(a,b)) "
   ]
  },
  {
   "cell_type": "code",
   "execution_count": 54,
   "metadata": {},
   "outputs": [
    {
     "name": "stdout",
     "output_type": "stream",
     "text": [
      "[[ 0.  1.  2.  3.  4.  5.  6.  7.  8.  9.]\n",
      " [ 0.  1.  2.  3.  4.  5.  6.  7.  8.  9.]\n",
      " [ 0.  1.  2.  3.  4.  5.  6.  7.  8.  9.]\n",
      " [ 0.  1.  2.  3.  4.  5.  6.  7.  8.  9.]\n",
      " [ 0.  1.  2.  3.  4.  5.  6.  7.  8.  9.]\n",
      " [ 0.  1.  2.  3.  4.  5.  6.  7.  8.  9.]\n",
      " [ 0.  1.  2.  3.  4.  5.  6.  7.  8.  9.]\n",
      " [ 0.  1.  2.  3.  4.  5.  6.  7.  8.  9.]\n",
      " [ 0.  1.  2.  3.  4.  5.  6.  7.  8.  9.]\n",
      " [ 0.  1.  2.  3.  4.  5.  6.  7.  8.  9.]]\n",
      "sum\n",
      "450.0\n",
      "450.0\n",
      "sum in a particular axis\n",
      "[  0.  10.  20.  30.  40.  50.  60.  70.  80.  90.]\n",
      "[ 45.  45.  45.  45.  45.  45.  45.  45.  45.  45.]\n"
     ]
    }
   ],
   "source": [
    "# Reductions\n",
    "\n",
    "C = np.zeros((10,10))\n",
    "C[:] = np.arange(10)\n",
    "print(C)\n",
    "\n",
    "print('sum')\n",
    "print(C.sum())\n",
    "print(np.sum(C))\n",
    "\n",
    "print('sum in a particular axis')\n",
    "print(C.sum(axis=0))\n",
    "print(C.sum(axis=1))"
   ]
  },
  {
   "cell_type": "code",
   "execution_count": 57,
   "metadata": {},
   "outputs": [
    {
     "name": "stdout",
     "output_type": "stream",
     "text": [
      "matrix vector multiplication\n",
      "[[ 0.41666667]\n",
      " [ 1.45833333]\n",
      " [ 2.5       ]\n",
      " [ 3.54166667]\n",
      " [ 4.58333333]]\n",
      "Very different from H*d\n",
      "[[ 0.          0.04166667  0.08333333  0.125       0.16666667]\n",
      " [ 0.20833333  0.25        0.29166667  0.33333333  0.375     ]\n",
      " [ 0.41666667  0.45833333  0.5         0.54166667  0.58333333]\n",
      " [ 0.625       0.66666667  0.70833333  0.75        0.79166667]\n",
      " [ 0.83333333  0.875       0.91666667  0.95833333  1.        ]]\n"
     ]
    },
    {
     "ename": "ValueError",
     "evalue": "shapes (5,1) and (5,5) not aligned: 1 (dim 1) != 5 (dim 0)",
     "output_type": "error",
     "traceback": [
      "\u001b[0;31m---------------------------------------------------------------------------\u001b[0m",
      "\u001b[0;31mValueError\u001b[0m                                Traceback (most recent call last)",
      "\u001b[0;32m<ipython-input-57-e3bbb91ae5ed>\u001b[0m in \u001b[0;36m<module>\u001b[0;34m()\u001b[0m\n\u001b[1;32m     10\u001b[0m \u001b[0mprint\u001b[0m\u001b[0;34m(\u001b[0m\u001b[0mH\u001b[0m\u001b[0;34m*\u001b[0m\u001b[0md\u001b[0m\u001b[0;34m)\u001b[0m\u001b[0;34m\u001b[0m\u001b[0m\n\u001b[1;32m     11\u001b[0m \u001b[0;34m\u001b[0m\u001b[0m\n\u001b[0;32m---> 12\u001b[0;31m \u001b[0mprint\u001b[0m\u001b[0;34m(\u001b[0m\u001b[0mnp\u001b[0m\u001b[0;34m.\u001b[0m\u001b[0mdot\u001b[0m\u001b[0;34m(\u001b[0m\u001b[0md\u001b[0m\u001b[0;34m,\u001b[0m\u001b[0mH\u001b[0m\u001b[0;34m)\u001b[0m\u001b[0;34m)\u001b[0m\u001b[0;34m\u001b[0m\u001b[0m\n\u001b[0m",
      "\u001b[0;31mValueError\u001b[0m: shapes (5,1) and (5,5) not aligned: 1 (dim 1) != 5 (dim 0)"
     ]
    }
   ],
   "source": [
    "# Matrix multiplication\n",
    "\n",
    "H = np.linspace(0,1,25).reshape(5,5)\n",
    "d = np.ones((5,1))\n",
    "\n",
    "print('matrix vector multiplication')\n",
    "print(np.dot(H,d))\n",
    "\n",
    "print('Very different from H*d')\n",
    "print(H*d)\n",
    "\n",
    "print('dimensions should match')\n",
    "print(np.dot(d,H))    # Error message since (5,1) can not multiply (5,5)"
   ]
  },
  {
   "cell_type": "code",
   "execution_count": 68,
   "metadata": {},
   "outputs": [
    {
     "name": "stdout",
     "output_type": "stream",
     "text": [
      "         3 function calls in 0.482 seconds\n",
      "\n",
      "   Ordered by: standard name\n",
      "\n",
      "   ncalls  tottime  percall  cumtime  percall filename:lineno(function)\n",
      "        1    0.482    0.482    0.482    0.482 <string>:1(<module>)\n",
      "        1    0.000    0.000    0.482    0.482 {built-in method builtins.exec}\n",
      "        1    0.000    0.000    0.000    0.000 {method 'disable' of '_lsprof.Profiler' objects}\n",
      "\n",
      "\n",
      "         3 function calls in 0.486 seconds\n",
      "\n",
      "   Ordered by: standard name\n",
      "\n",
      "   ncalls  tottime  percall  cumtime  percall filename:lineno(function)\n",
      "        1    0.486    0.486    0.486    0.486 <string>:1(<module>)\n",
      "        1    0.000    0.000    0.486    0.486 {built-in method builtins.exec}\n",
      "        1    0.000    0.000    0.000    0.000 {method 'disable' of '_lsprof.Profiler' objects}\n",
      "\n",
      "\n",
      "[[ 0.4036  0.0671  0.2234  0.1687  0.1079  0.005 ]\n",
      " [ 0.3411  0.1706  0.124   0.0596  0.0321  0.1214]\n",
      " [ 0.0632  0.0395  0.729   0.3653  0.1841  0.0924]\n",
      " [ 0.6116  0.2726  0.2504  0.7321  0.557   0.5472]\n",
      " [ 0.1264  0.3694  0.316   0.2717  0.1171  0.2283]\n",
      " [ 0.8032  0.4788  0.0835  0.0256  0.6784  0.0672]]\n",
      "\n",
      "[[ 0.4036  0.0671  0.2234  0.1687  0.1079  0.005 ]\n",
      " [ 0.3411  0.1706  0.124   0.0596  0.0321  0.1214]\n",
      " [ 0.0632  0.0395  0.729   0.3653  0.1841  0.0924]\n",
      " [ 0.6116  0.2726  0.2504  0.7321  0.557   0.5472]\n",
      " [ 0.1264  0.3694  0.316   0.2717  0.1171  0.2283]\n",
      " [ 0.8032  0.4788  0.0835  0.0256  0.6784  0.0672]]\n"
     ]
    }
   ],
   "source": [
    "s = 10000\n",
    "D = np.random.uniform(low=0,high=1,size=(s,s))\n",
    "E = np.random.uniform(low=0,high=1,size=(s,s))\n",
    "cProfile.run('F = D*E')\n",
    "\n",
    "cProfile.run('G = np.multiply(D,E)')\n",
    "\n",
    "np.set_printoptions(precision=4)\n",
    "print(F[:6,:6])\n",
    "print()\n",
    "print(G[:6,:6])"
   ]
  }
 ],
 "metadata": {
  "kernelspec": {
   "display_name": "Python 3",
   "language": "python",
   "name": "python3"
  },
  "language_info": {
   "codemirror_mode": {
    "name": "ipython",
    "version": 3
   },
   "file_extension": ".py",
   "mimetype": "text/x-python",
   "name": "python",
   "nbconvert_exporter": "python",
   "pygments_lexer": "ipython3",
   "version": "3.6.3"
  }
 },
 "nbformat": 4,
 "nbformat_minor": 2
}
