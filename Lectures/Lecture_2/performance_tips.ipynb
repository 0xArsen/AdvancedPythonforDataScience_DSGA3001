{
 "cells": [
  {
   "cell_type": "markdown",
   "metadata": {},
   "source": [
    "# Python Performance Tips\n",
    "https://wiki.python.org/moin/PythonSpeed/PerformanceTips"
   ]
  },
  {
   "cell_type": "markdown",
   "metadata": {},
   "source": [
    "In this lecture we will understand the impact of\n",
    "- Built-in functions\n",
    "- Function Call Overhead\n",
    "- Function Decorator\n",
    "- Loops and \".\"\n",
    "\n",
    "in the performance of a code."
   ]
  },
  {
   "cell_type": "markdown",
   "metadata": {},
   "source": [
    "----\n",
    "## Built-in functions\n",
    "One of the easiest ways to improve Python performance is to use built-in functions! Python provides a large number of built-in functions that perform a wide variety of operations. These built-in functions are written in C, so they run quite efficiently."
   ]
  },
  {
   "cell_type": "code",
   "execution_count": 1,
   "metadata": {},
   "outputs": [
    {
     "name": "stdout",
     "output_type": "stream",
     "text": [
      "362 µs ± 63.8 µs per loop (mean ± std. dev. of 7 runs, 100 loops each)\n",
      "164 µs ± 2.95 µs per loop (mean ± std. dev. of 7 runs, 100 loops each)\n"
     ]
    }
   ],
   "source": [
    "import random\n",
    "\n",
    "def my_min(values):\n",
    "    min_value = values[0]\n",
    "    for v in values:\n",
    "        if v < min_value:\n",
    "            min_value = v\n",
    "    return min_value\n",
    "\n",
    "k = 10000\n",
    "\n",
    "random_numbers = [random.randint(0,100) for p in range(0,k)]\n",
    "\n",
    "# using the magic function %timeit\n",
    "%timeit -n 100 my_min(random_numbers) \n",
    "\n",
    "%timeit -n 100 min(random_numbers)"
   ]
  },
  {
   "cell_type": "markdown",
   "metadata": {},
   "source": [
    "----\n",
    "## Function Call Overhead\n",
    "Function call overhead in Python is relatively high, especially compared with the execution speed of builtin functions. The overhead in Python is mainly due to the dynamic type checking of function arguments that must be performed before and after the function call. "
   ]
  },
  {
   "cell_type": "code",
   "execution_count": 12,
   "metadata": {},
   "outputs": [
    {
     "name": "stdout",
     "output_type": "stream",
     "text": [
      "1.58 ms ± 119 µs per loop (mean ± std. dev. of 7 runs, 100 loops each)\n"
     ]
    }
   ],
   "source": [
    "%%timeit -n 100\n",
    "import time\n",
    "\n",
    "def inner(i,x):\n",
    "    x = x + i\n",
    "    return(x)\n",
    "\n",
    "x = 0\n",
    "for i in range(10000): \n",
    "    x = inner(i,x)\n",
    "#print(x)"
   ]
  },
  {
   "cell_type": "code",
   "execution_count": 4,
   "metadata": {},
   "outputs": [
    {
     "name": "stdout",
     "output_type": "stream",
     "text": [
      "651 µs ± 77.7 µs per loop (mean ± std. dev. of 7 runs, 100 loops each)\n"
     ]
    }
   ],
   "source": [
    "%%timeit -n 100\n",
    "def inner2(l):\n",
    "    x = 0\n",
    "    \n",
    "    for i in l:\n",
    "        x = x + i\n",
    "    return(x)\n",
    "\n",
    "x = inner2(range(10000))\n",
    "#print(x)"
   ]
  },
  {
   "cell_type": "markdown",
   "metadata": {},
   "source": [
    "## Function Decorator\n",
    "The symbol @ is Python decorator syntax. Python decorators are callable Python object that is used to modify a function, method or class definition. The wise use of decorators can improve the performance of codes."
   ]
  },
  {
   "cell_type": "markdown",
   "metadata": {},
   "source": [
    "How does a decorator work?"
   ]
  },
  {
   "cell_type": "code",
   "execution_count": 4,
   "metadata": {},
   "outputs": [
    {
     "name": "stdout",
     "output_type": "stream",
     "text": [
      "Now \"foo\" does much more than simply print its attribute\n",
      "The attribute\n",
      "Hi\n",
      "is surrounded by all these text !\n"
     ]
    }
   ],
   "source": [
    "def decorating_a_function(func):\n",
    "    def function_wrapper(x):\n",
    "        print(\"Now \\\"\" + func.__name__ + \"\\\" does much more than simply print its attribute\")\n",
    "        print(\"The attribute\")\n",
    "        func(x)\n",
    "        print(\"is surrounded by all these text !\")\n",
    "    return function_wrapper\n",
    "\n",
    "@decorating_a_function\n",
    "def foo(x):\n",
    "    print(str(x))\n",
    "\n",
    "foo(\"Hi\")"
   ]
  },
  {
   "cell_type": "markdown",
   "metadata": {},
   "source": [
    "Third party functions can also be decorated."
   ]
  },
  {
   "cell_type": "code",
   "execution_count": 5,
   "metadata": {},
   "outputs": [
    {
     "name": "stdout",
     "output_type": "stream",
     "text": [
      "This is the result of sin(3.1415)\n",
      "0.00009\n",
      "This is the result of cos(3.1415)\n",
      "-1.00000\n"
     ]
    }
   ],
   "source": [
    "from math import sin, cos\n",
    "\n",
    "def our_decorator(func):\n",
    "    def function_wrapper(x):\n",
    "        print(\"This is the result of \" + func.__name__ + \"(\"+str(x)+\")\")\n",
    "        print(\"%.5f\" % func(x))\n",
    "    return function_wrapper\n",
    "\n",
    "# in this case is not possible to use @\n",
    "sin = our_decorator(sin)\n",
    "cos = our_decorator(cos)\n",
    "\n",
    "for f in [sin, cos]:\n",
    "    f(3.1415)"
   ]
  },
  {
   "cell_type": "markdown",
   "metadata": {},
   "source": [
    "Using _wraps_ from _functools_"
   ]
  },
  {
   "cell_type": "code",
   "execution_count": 6,
   "metadata": {},
   "outputs": [
    {
     "name": "stdout",
     "output_type": "stream",
     "text": [
      "Hi, the function \"f\" returns:  14\n",
      "------\n",
      "function name: function_wrapper\n",
      "docstring:  function_wrapper of greeting \n",
      "module name: __main__\n"
     ]
    }
   ],
   "source": [
    "def greeting(func):\n",
    "    def function_wrapper(x):\n",
    "        \"\"\" function_wrapper of greeting \"\"\"\n",
    "        print(\"Hi, the function \\\"\" + func.__name__ + \"\\\" returns: \", func(x))\n",
    "    return function_wrapper\n",
    "\n",
    "@greeting\n",
    "def f(x):\n",
    "    \"\"\" just some silly function \"\"\"\n",
    "    return(x + 4)\n",
    "\n",
    "f(10)\n",
    "print(\"------\")\n",
    "print(\"function name: \" + f.__name__)\n",
    "print(\"docstring: \" + f.__doc__)\n",
    "print(\"module name: \" + f.__module__)"
   ]
  },
  {
   "cell_type": "code",
   "execution_count": 7,
   "metadata": {},
   "outputs": [
    {
     "name": "stdout",
     "output_type": "stream",
     "text": [
      "Hi, the function \"f\" returns:  14\n",
      "------\n",
      "function name: f\n",
      "docstring:  just some silly function \n",
      "module name: __main__\n"
     ]
    }
   ],
   "source": [
    "from functools import wraps\n",
    "\n",
    "def greeting(func):\n",
    "    @wraps(func)\n",
    "    def function_wrapper(x):\n",
    "        \"\"\" function_wrapper of greeting \"\"\"\n",
    "        print(\"Hi, the function \\\"\" + func.__name__ + \"\\\" returns: \", func(x))\n",
    "    return function_wrapper\n",
    "\n",
    "@greeting\n",
    "def f(x):\n",
    "    \"\"\" just some silly function \"\"\"\n",
    "    return(x + 4)\n",
    "\n",
    "f(10)\n",
    "print(\"------\")\n",
    "print(\"function name: \" + f.__name__)\n",
    "print(\"docstring: \" + f.__doc__)\n",
    "print(\"module name: \" + f.__module__)"
   ]
  },
  {
   "cell_type": "markdown",
   "metadata": {},
   "source": [
    "Using decorators for CACHING"
   ]
  },
  {
   "cell_type": "code",
   "execution_count": 8,
   "metadata": {},
   "outputs": [
    {
     "ename": "NameError",
     "evalue": "name 'time' is not defined",
     "output_type": "error",
     "traceback": [
      "\u001b[0;31m---------------------------------------------------------------------------\u001b[0m",
      "\u001b[0;31mNameError\u001b[0m                                 Traceback (most recent call last)",
      "\u001b[0;32m<ipython-input-8-abf7633dca88>\u001b[0m in \u001b[0;36m<module>\u001b[0;34m()\u001b[0m\n\u001b[1;32m      3\u001b[0m     \u001b[0;32mreturn\u001b[0m \u001b[0mfib\u001b[0m\u001b[0;34m(\u001b[0m\u001b[0mi\u001b[0m\u001b[0;34m-\u001b[0m\u001b[0;36m1\u001b[0m\u001b[0;34m)\u001b[0m \u001b[0;34m+\u001b[0m \u001b[0mfib\u001b[0m\u001b[0;34m(\u001b[0m\u001b[0mi\u001b[0m\u001b[0;34m-\u001b[0m\u001b[0;36m2\u001b[0m\u001b[0;34m)\u001b[0m\u001b[0;34m\u001b[0m\u001b[0m\n\u001b[1;32m      4\u001b[0m \u001b[0;34m\u001b[0m\u001b[0m\n\u001b[0;32m----> 5\u001b[0;31m \u001b[0mt\u001b[0m \u001b[0;34m=\u001b[0m \u001b[0mtime\u001b[0m\u001b[0;34m.\u001b[0m\u001b[0mprocess_time\u001b[0m\u001b[0;34m(\u001b[0m\u001b[0;34m)\u001b[0m\u001b[0;34m\u001b[0m\u001b[0m\n\u001b[0m\u001b[1;32m      6\u001b[0m \u001b[0;34m\u001b[0m\u001b[0m\n\u001b[1;32m      7\u001b[0m \u001b[0mfibo\u001b[0m \u001b[0;34m=\u001b[0m \u001b[0mfib\u001b[0m\u001b[0;34m(\u001b[0m\u001b[0;36m30\u001b[0m\u001b[0;34m)\u001b[0m\u001b[0;34m\u001b[0m\u001b[0m\n",
      "\u001b[0;31mNameError\u001b[0m: name 'time' is not defined"
     ]
    }
   ],
   "source": [
    "def fib(i):\n",
    "    if i < 2: return 1\n",
    "    return fib(i-1) + fib(i-2)\n",
    "\n",
    "t = time.process_time() \n",
    "\n",
    "fibo = fib(30)\n",
    "\n",
    "elapsed_time1 = time.process_time() - t\n",
    "print('time and result for fib: ',elapsed_time1, fibo)"
   ]
  },
  {
   "cell_type": "code",
   "execution_count": null,
   "metadata": {
    "collapsed": true
   },
   "outputs": [],
   "source": [
    "from functools import wraps\n",
    "\n",
    "def cache(f):\n",
    "    cache = { }\n",
    "    @wraps(f)\n",
    "    def function_wrapper(*arg):\n",
    "        if arg not in cache: cache[arg] = f(*arg)\n",
    "        return cache[arg]\n",
    "    return function_wrapper\n",
    "\n",
    "@cache\n",
    "def fib(i):\n",
    "    if i < 2: return 1\n",
    "    return fib(i-1) + fib(i-2)\n",
    "\n",
    "t = time.process_time() \n",
    "\n",
    "fibo = fib(30)\n",
    "\n",
    "elapsed_time1 = time.process_time() - t\n",
    "print('time and result for fib: ',elapsed_time1, fibo)"
   ]
  },
  {
   "cell_type": "markdown",
   "metadata": {},
   "source": [
    "## Loops\n",
    "They key to optimising loops is to minimize what they do.<br>\n",
    "Lets see the effect of a \".\" operator within a loop."
   ]
  },
  {
   "cell_type": "code",
   "execution_count": 15,
   "metadata": {},
   "outputs": [
    {
     "name": "stdout",
     "output_type": "stream",
     "text": [
      "606 µs ± 57.1 µs per loop (mean ± std. dev. of 7 runs, 10 loops each)\n"
     ]
    }
   ],
   "source": [
    "import random\n",
    "\n",
    "lowerlist = ['abcdefghijklmnopqrstuvwxyz'[:random.randint(0,25)] for x in range(1000)]\n",
    "upperlist = []\n",
    "\n",
    "def to_upper_1(lowerlist):\n",
    "    for word in lowerlist:\n",
    "        upperlist.append(str.upper(word))  # here is the \n",
    "  \n",
    "%timeit -n 10 to_upper_1(lowerlist)\n",
    "#print(upperlist[:10])"
   ]
  },
  {
   "cell_type": "code",
   "execution_count": 16,
   "metadata": {},
   "outputs": [
    {
     "name": "stdout",
     "output_type": "stream",
     "text": [
      "343 µs ± 19.6 µs per loop (mean ± std. dev. of 7 runs, 10 loops each)\n"
     ]
    }
   ],
   "source": [
    "%%timeit -n 10 \n",
    "\n",
    "upperlist = []\n",
    "upper = str.upper          # this create references to the methods,\n",
    "append = upperlist.append  # avoiding searches\n",
    "\n",
    "def to_upper_2(lowerlist):\n",
    "    for word in lowerlist:\n",
    "        append(upper(word))\n",
    "        \n",
    "to_upper_2(lowerlist)"
   ]
  },
  {
   "cell_type": "code",
   "execution_count": 17,
   "metadata": {},
   "outputs": [
    {
     "name": "stdout",
     "output_type": "stream",
     "text": [
      "229 µs ± 46.6 µs per loop (mean ± std. dev. of 7 runs, 10 loops each)\n"
     ]
    }
   ],
   "source": [
    "%%timeit -n 10\n",
    "# avoiding the loop altogether\n",
    "upper = str.upper\n",
    "upperlist = list(map(upper, lowerlist))"
   ]
  },
  {
   "cell_type": "code",
   "execution_count": 18,
   "metadata": {},
   "outputs": [
    {
     "name": "stdout",
     "output_type": "stream",
     "text": [
      "168 µs ± 14 µs per loop (mean ± std. dev. of 7 runs, 10 loops each)\n"
     ]
    }
   ],
   "source": [
    "%%timeit -n 10\n",
    "upper = str.upper \n",
    "upperlist = [upper(x) for x in lowerlist]"
   ]
  }
 ],
 "metadata": {
  "kernelspec": {
   "display_name": "Python 3",
   "language": "python",
   "name": "python3"
  },
  "language_info": {
   "codemirror_mode": {
    "name": "ipython",
    "version": 3
   },
   "file_extension": ".py",
   "mimetype": "text/x-python",
   "name": "python",
   "nbconvert_exporter": "python",
   "pygments_lexer": "ipython3",
   "version": "3.6.3"
  }
 },
 "nbformat": 4,
 "nbformat_minor": 2
}
