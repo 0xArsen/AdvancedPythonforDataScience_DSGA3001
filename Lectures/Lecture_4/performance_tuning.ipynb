{
 "cells": [
  {
   "cell_type": "markdown",
   "metadata": {},
   "source": [
    "# The itertools Module\n",
    "(the first part of this lecture is based on the material by [Dr. Gregory Watson](https://nyu-cds.github.io/python-itertools/))"
   ]
  },
  {
   "cell_type": "markdown",
   "metadata": {},
   "source": [
    "In this class we will learn:\n",
    "- more about code profiling"
   ]
  },
  {
   "cell_type": "markdown",
   "metadata": {},
   "source": [
    "### More about code profile: the %prun magic command\n",
    "(you have to install line-profiler before using prun)"
   ]
  },
  {
   "cell_type": "markdown",
   "metadata": {},
   "source": [
    "Suppose we want to approximate $\\pi$ using the formula\n",
    "$$\n",
    "\\pi^2=6\\,(1+\\frac{1}{2^2}+\\cdots+\\frac{1}{n^2})\n",
    "$$"
   ]
  },
  {
   "cell_type": "code",
   "execution_count": 16,
   "metadata": {
    "collapsed": true
   },
   "outputs": [],
   "source": [
    "def recip_square(i):\n",
    "    return 1./i**2\n",
    "\n",
    "def approx_pi(n=1000000):\n",
    "    val = 0.\n",
    "    for k in range(1,n+1):\n",
    "        val += recip_square(k)\n",
    "    return (6 * val)**.5"
   ]
  },
  {
   "cell_type": "code",
   "execution_count": 17,
   "metadata": {},
   "outputs": [
    {
     "name": "stdout",
     "output_type": "stream",
     "text": [
      "0.5165900000000008\n"
     ]
    }
   ],
   "source": [
    "import time\n",
    "\n",
    "t = time.process_time()\n",
    "approx_pi()\n",
    "elapsed_time = time.process_time() - t\n",
    "print(elapsed_time)"
   ]
  },
  {
   "cell_type": "code",
   "execution_count": 18,
   "metadata": {},
   "outputs": [
    {
     "name": "stdout",
     "output_type": "stream",
     "text": [
      "515 ms ± 11 ms per loop (mean ± std. dev. of 7 runs, 1 loop each)\n"
     ]
    }
   ],
   "source": [
    "%timeit approx_pi()"
   ]
  },
  {
   "cell_type": "code",
   "execution_count": 39,
   "metadata": {},
   "outputs": [
    {
     "name": "stdout",
     "output_type": "stream",
     "text": [
      " "
     ]
    }
   ],
   "source": [
    "%prun approx_pi()"
   ]
  },
  {
   "cell_type": "markdown",
   "metadata": {},
   "source": [
    "The first line of the profile contains the number of CPU seconds it took to run the code. You should see that the code was a little slower with %prun. This was because it ran inside the cProfile module.\n",
    "\n",
    "Looking at the tottime column, we can see that approximately one third of the time is spent in __approx\\_pi__ and the remainder is spent in __recip\\_square__."
   ]
  },
  {
   "cell_type": "code",
   "execution_count": 20,
   "metadata": {
    "collapsed": true
   },
   "outputs": [],
   "source": [
    "def approx_pi2(n=1000000):\n",
    "    val = 0.\n",
    "    for k in range(1,n+1):\n",
    "        val += 1./k**2\n",
    "    return (6 * val)**.5"
   ]
  },
  {
   "cell_type": "code",
   "execution_count": 21,
   "metadata": {},
   "outputs": [
    {
     "name": "stdout",
     "output_type": "stream",
     "text": [
      " "
     ]
    }
   ],
   "source": [
    "%prun approx_pi2()"
   ]
  },
  {
   "cell_type": "markdown",
   "metadata": {},
   "source": [
    "Sometimes the cause of the hotspot is a single line in a function, which may not be obvious from reading the source code or analyzing the output of cProfile.\n",
    "\n",
    "The __line_profiler__ times the execution of each individual line inside a function.\n",
    "\n",
    "The __line_profiler__ can be used by loading the line_profiler extension\n",
    "````python\n",
    "%load_ext line_profiler\n",
    "````"
   ]
  },
  {
   "cell_type": "markdown",
   "metadata": {},
   "source": [
    "The following code computes the list of prime numbers up to and including $n$ using the _Sieve of Eratosthenes_, which can be expressed in pseudocode as follows:"
   ]
  },
  {
   "cell_type": "code",
   "execution_count": 22,
   "metadata": {
    "collapsed": true
   },
   "outputs": [],
   "source": [
    "import numpy as np\n",
    "\n",
    "def primes(n=1000): \n",
    "    A = [True] * (n+1)\n",
    "    A[0] = False\n",
    "    A[1] = False\n",
    "    for i in range(2, int(n**0.5)):\n",
    "        if A[i]:\n",
    "            for j in range(i**2, n+1, i):\n",
    "                A[j] = False\n",
    "\n",
    "    return [x for x in range(2, n) if A[x]]"
   ]
  },
  {
   "cell_type": "code",
   "execution_count": 23,
   "metadata": {},
   "outputs": [
    {
     "name": "stdout",
     "output_type": "stream",
     "text": [
      "The line_profiler extension is already loaded. To reload it, use:\n",
      "  %reload_ext line_profiler\n"
     ]
    }
   ],
   "source": [
    "%load_ext line_profiler"
   ]
  },
  {
   "cell_type": "code",
   "execution_count": 24,
   "metadata": {
    "collapsed": true
   },
   "outputs": [],
   "source": [
    "%lprun -f primes primes(100)"
   ]
  },
  {
   "cell_type": "markdown",
   "metadata": {},
   "source": [
    "Are you able to speedup the code above?"
   ]
  },
  {
   "cell_type": "markdown",
   "metadata": {},
   "source": [
    "----\n",
    "Lets apply what we learned in the problem of solving the _heat equation_:\n",
    "$$\n",
    "\\frac{\\partial^2 f}{\\partial x^2}+\\frac{\\partial^2 f}{\\partial y^2}=0\n",
    "$$\n",
    "using central difference in a square $[0,1]\\times[0,1]$ regular grid:\n",
    "$$\n",
    "\\frac{\\partial^2 f}{\\partial x^2}\\approx\\frac{f_{i+1,j}-2f_{i,j}+f_{i-1,j}}{\\Delta x^2}\n",
    "$$\n",
    "\n",
    "$$\n",
    "\\frac{\\partial^2 f}{\\partial y^2}\\approx\\frac{f_{i,j+1}-2f_{i,j}+f_{i,j-1}}{\\Delta y^2}\n",
    "$$\n",
    "We will assume $f$ known in the boundary of the square domain.\n",
    "\n",
    "To make our life easier, lets assume that $\\Delta x = \\Delta y$."
   ]
  },
  {
   "cell_type": "code",
   "execution_count": 25,
   "metadata": {},
   "outputs": [
    {
     "name": "stdout",
     "output_type": "stream",
     "text": [
      "The line_profiler extension is already loaded. To reload it, use:\n",
      "  %reload_ext line_profiler\n"
     ]
    }
   ],
   "source": [
    "%load_ext line_profiler"
   ]
  },
  {
   "cell_type": "code",
   "execution_count": 26,
   "metadata": {
    "collapsed": true
   },
   "outputs": [],
   "source": [
    "from itertools import product\n",
    "import numpy as np\n",
    "\n",
    "def build_grid(n):\n",
    "    '''defines the grid'''\n",
    "    G = np.zeros((n,n))\n",
    "    return(G)\n",
    "\n",
    "def set_boundary_values(n):\n",
    "    b = np.zeros((4,n))\n",
    "    b[2]=1\n",
    "    b[3]=1\n",
    "    return(b)\n",
    "\n",
    "def set_boundary_grid(G,b):\n",
    "    '''set the boundary values: b[0]=botton, b[1]=top, b[2]=left, b[3]=right'''\n",
    "    G[0,:]=b[0]\n",
    "    G[-1,:]=b[1]\n",
    "    G[:,0]=b[2]\n",
    "    G[:,-1]=b[3]\n",
    "    \n",
    "def calc_error(G1,G2):\n",
    "    error = 0\n",
    "    n = G1.shape[0]\n",
    "    for i in range(n):\n",
    "        for j in range(n):\n",
    "            error += (G1[i,j]-G2[i,j])**2\n",
    "    return(error/n)\n",
    "\n",
    "def copy_array(G1,G2):\n",
    "    G2[:,:] = G1[:,:]\n",
    "    \n",
    "def itera(G):\n",
    "    n = G.shape[0]\n",
    "    for i in range(1,n-1):\n",
    "        for j in range(1,n-1):\n",
    "            G[i,j]=(G[i+1,j]+G[i-1,j]+G[i,j+1]+G[i,j-1])/4    "
   ]
  },
  {
   "cell_type": "code",
   "execution_count": 27,
   "metadata": {
    "collapsed": true
   },
   "outputs": [],
   "source": [
    "# Using numpy built-in functions to compute the error\n",
    "\n",
    "def calc_error2(G1,G2):\n",
    "    error = np.square(np.subtract(G1, G2)).mean()\n",
    "    return(error)"
   ]
  },
  {
   "cell_type": "code",
   "execution_count": 28,
   "metadata": {
    "collapsed": true
   },
   "outputs": [],
   "source": [
    "# Using iterators to traverse the grid\n",
    "\n",
    "def itera2(G):\n",
    "    n = G.shape[0]\n",
    "    indices = product(range(1,n-1),repeat=2)\n",
    "    for i in indices:\n",
    "        G[i]=(G[i[0]+1,i[1]]+G[i[0]-1,i[1]]+G[i[0],i[1]+1]+G[i[0],i[1]-1])/4"
   ]
  },
  {
   "cell_type": "code",
   "execution_count": 29,
   "metadata": {
    "collapsed": true
   },
   "outputs": [],
   "source": [
    "# avoiding traverse the grid \n",
    "\n",
    "def itera3(G):\n",
    "    n = G.shape[0]\n",
    "    Gl = np.roll(G,1,axis=1)\n",
    "    Gr = np.roll(G,n-1,axis=1)\n",
    "    Gu = np.roll(G,1,axis=0)\n",
    "    Gd = np.roll(G,n-1,axis=0)\n",
    "    G[1:n-1,1:n-1]=(Gr[1:n-1,1:n-1]+Gl[1:n-1,1:n-1]+Gu[1:n-1,1:n-1]+Gd[1:n-1,1:n-1])/4.0"
   ]
  },
  {
   "cell_type": "code",
   "execution_count": 30,
   "metadata": {
    "collapsed": true
   },
   "outputs": [],
   "source": [
    "def solve_heat_equation(n):\n",
    "    G = build_grid(n)\n",
    "    b = set_boundary_values(n)\n",
    "    set_boundary_grid(G,b)\n",
    "    G_prev = build_grid(n)  # only need for computing the convergence\n",
    "    copy_array(G,G_prev)\n",
    "    error = 1e10\n",
    "    while error > 1e-7:\n",
    "        itera(G)\n",
    "        error = calc_error(G,G_prev)\n",
    "        copy_array(G,G_prev)    \n",
    "        \n",
    "    return(G)"
   ]
  },
  {
   "cell_type": "code",
   "execution_count": 31,
   "metadata": {
    "collapsed": true
   },
   "outputs": [],
   "source": [
    "def solve_heat_equation2(n):\n",
    "    '''changing to calc_error2 function'''\n",
    "    G = build_grid(n)\n",
    "    b = set_boundary_values(n)\n",
    "    set_boundary_grid(G,b)\n",
    "    G_prev = build_grid(n)\n",
    "    copy_array(G,G_prev)\n",
    "    error = 1e10\n",
    "    while error > 1e-7:\n",
    "        itera(G)\n",
    "        error = calc_error2(G,G_prev) \n",
    "        copy_array(G,G_prev)    \n",
    "        \n",
    "    return(G)"
   ]
  },
  {
   "cell_type": "code",
   "execution_count": 32,
   "metadata": {
    "collapsed": true
   },
   "outputs": [],
   "source": [
    "def solve_heat_equation3(n):\n",
    "    '''changing to calc_error2 and itera2 functions'''\n",
    "    G = build_grid(n)\n",
    "    b = set_boundary_values(n)\n",
    "    set_boundary_grid(G,b)\n",
    "    G_prev = build_grid(n)\n",
    "    copy_array(G,G_prev)\n",
    "    error = 1e10\n",
    "    while error > 1e-7:\n",
    "        itera2(G)\n",
    "        error = calc_error2(G,G_prev) \n",
    "        copy_array(G,G_prev)    \n",
    "        \n",
    "    return(G)"
   ]
  },
  {
   "cell_type": "code",
   "execution_count": 33,
   "metadata": {
    "collapsed": true
   },
   "outputs": [],
   "source": [
    "def solve_heat_equation4(n):\n",
    "    '''changing to calc_error2 and itera3 functions'''\n",
    "    G = build_grid(n)\n",
    "    b = set_boundary_values(n)\n",
    "    set_boundary_grid(G,b)\n",
    "    G_prev = build_grid(n)\n",
    "    copy_array(G,G_prev)\n",
    "    error = 1e10\n",
    "    while error > 1e-10:\n",
    "        itera3(G)\n",
    "        error = calc_error2(G,G_prev) \n",
    "        copy_array(G,G_prev)    \n",
    "        \n",
    "    return(G)"
   ]
  },
  {
   "cell_type": "code",
   "execution_count": 40,
   "metadata": {},
   "outputs": [
    {
     "name": "stdout",
     "output_type": "stream",
     "text": [
      " "
     ]
    }
   ],
   "source": [
    "%prun G = solve_heat_equation4(100)"
   ]
  },
  {
   "cell_type": "code",
   "execution_count": 35,
   "metadata": {},
   "outputs": [
    {
     "data": {
      "image/png": "[encoded data removed]",
      "text/plain": [
       "<matplotlib.figure.Figure at 0x108da4908>"
      ]
     },
     "metadata": {},
     "output_type": "display_data"
    }
   ],
   "source": [
    "import matplotlib.pyplot as plt\n",
    "\n",
    "img=plt.imshow(G)\n",
    "img.set_cmap('rainbow')\n",
    "plt.axis('off')\n",
    "plt.show()"
   ]
  },
  {
   "cell_type": "markdown",
   "metadata": {},
   "source": [
    "Understanding the numpy roll function"
   ]
  },
  {
   "cell_type": "code",
   "execution_count": 36,
   "metadata": {},
   "outputs": [
    {
     "name": "stdout",
     "output_type": "stream",
     "text": [
      "[[ 0.  1.  2.  3.  4.]\n",
      " [ 0.  1.  2.  3.  4.]\n",
      " [ 0.  1.  2.  3.  4.]\n",
      " [ 0.  1.  2.  3.  4.]\n",
      " [ 0.  1.  2.  3.  4.]]\n",
      "[[ 4.  0.  1.  2.  3.]\n",
      " [ 4.  0.  1.  2.  3.]\n",
      " [ 4.  0.  1.  2.  3.]\n",
      " [ 4.  0.  1.  2.  3.]\n",
      " [ 4.  0.  1.  2.  3.]]\n",
      "[[ 1.  2.  3.  4.  0.]\n",
      " [ 1.  2.  3.  4.  0.]\n",
      " [ 1.  2.  3.  4.  0.]\n",
      " [ 1.  2.  3.  4.  0.]\n",
      " [ 1.  2.  3.  4.  0.]]\n"
     ]
    }
   ],
   "source": [
    "A = np.ones((5,5))\n",
    "for i in range(5):\n",
    "    A[:,i]=i\n",
    "Al = np.roll(A,1,axis=1)\n",
    "Ar = np.roll(A,4,axis=1)\n",
    "print(A)\n",
    "print(Al)\n",
    "print(Ar)"
   ]
  },
  {
   "cell_type": "code",
   "execution_count": 37,
   "metadata": {},
   "outputs": [
    {
     "name": "stdout",
     "output_type": "stream",
     "text": [
      "[[ 0.  0.  0.  0.  0.]\n",
      " [ 1.  1.  1.  1.  1.]\n",
      " [ 2.  2.  2.  2.  2.]\n",
      " [ 3.  3.  3.  3.  3.]\n",
      " [ 4.  4.  4.  4.  4.]]\n",
      "[[ 4.  4.  4.  4.  4.]\n",
      " [ 0.  0.  0.  0.  0.]\n",
      " [ 1.  1.  1.  1.  1.]\n",
      " [ 2.  2.  2.  2.  2.]\n",
      " [ 3.  3.  3.  3.  3.]]\n",
      "[[ 1.  1.  1.  1.  1.]\n",
      " [ 2.  2.  2.  2.  2.]\n",
      " [ 3.  3.  3.  3.  3.]\n",
      " [ 4.  4.  4.  4.  4.]\n",
      " [ 0.  0.  0.  0.  0.]]\n"
     ]
    }
   ],
   "source": [
    "A = np.ones((5,5))\n",
    "for i in range(5):\n",
    "    A[i]=i\n",
    "Ab = np.roll(A,1,axis=0)\n",
    "At = np.roll(A,4,axis=0)\n",
    "print(A)\n",
    "print(Ab)\n",
    "print(At)"
   ]
  },
  {
   "cell_type": "markdown",
   "metadata": {},
   "source": [
    "itera, itera2 produce the same result, but itera3 generates a slightly different result"
   ]
  },
  {
   "cell_type": "code",
   "execution_count": 38,
   "metadata": {},
   "outputs": [
    {
     "data": {
      "image/png": "[encoded data removed]",
      "text/plain": [
       "<matplotlib.figure.Figure at 0x10ee36eb8>"
      ]
     },
     "metadata": {},
     "output_type": "display_data"
    }
   ],
   "source": [
    "G_itera = solve_heat_equation2(70)\n",
    "G_itera2 = solve_heat_equation3(70)\n",
    "G_itera3 = solve_heat_equation4(70) \n",
    "\n",
    "plt.subplot(1,3,1)\n",
    "plt.title('itera')\n",
    "img=plt.imshow(G_itera)\n",
    "img.set_cmap('rainbow')\n",
    "plt.axis('off')\n",
    "\n",
    "plt.subplot(1,3,2)\n",
    "plt.title('itera2')\n",
    "img=plt.imshow(G_itera2)\n",
    "img.set_cmap('rainbow')\n",
    "plt.axis('off')\n",
    "\n",
    "plt.subplot(1,3,3)\n",
    "plt.title('itera3')\n",
    "img=plt.imshow(G_itera3)\n",
    "img.set_cmap('rainbow')\n",
    "plt.axis('off')\n",
    "\n",
    "plt.show()"
   ]
  },
  {
   "cell_type": "markdown",
   "metadata": {},
   "source": [
    "\n",
    "What is the source of the difference?"
   ]
  }
 ],
 "metadata": {
  "kernelspec": {
   "display_name": "Python 3",
   "language": "python",
   "name": "python3"
  },
  "language_info": {
   "codemirror_mode": {
    "name": "ipython",
    "version": 3
   },
   "file_extension": ".py",
   "mimetype": "text/x-python",
   "name": "python",
   "nbconvert_exporter": "python",
   "pygments_lexer": "ipython3",
   "version": "3.6.3"
  }
 },
 "nbformat": 4,
 "nbformat_minor": 2
}
