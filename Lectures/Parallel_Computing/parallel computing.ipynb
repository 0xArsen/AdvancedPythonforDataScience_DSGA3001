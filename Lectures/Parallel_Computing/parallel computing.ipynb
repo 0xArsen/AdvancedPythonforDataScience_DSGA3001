{
 "cells": [
  {
   "cell_type": "markdown",
   "metadata": {},
   "source": [
    "# Python Parallel Computing\n",
    "Part of this lecture is based on the material by [Dr. Gregory Watson](https://nyu-cds.github.io/python-itertools/)"
   ]
  },
  {
   "cell_type": "markdown",
   "metadata": {},
   "source": [
    "Lets start with the introductory text by Dr.Gregory Watson about [parallel computing](https://nyu-cds.github.io/python-mpi/01-introduction/).\n",
    "\n",
    "You need to install:\n",
    "- open-mpi (brew install open-mpi)\n",
    "- mpi4py (pip3 install mpi4py)\n",
    "\n",
    "A more detailed description this [page](https://info.gwdg.de/~ceulig/docs-dev/doku.php?id=en:services:application_services:high_performance_computing:mpi4py) for a more detailed discussion of mpi4py."
   ]
  },
  {
   "cell_type": "markdown",
   "metadata": {},
   "source": [
    "---\n",
    "The most commonly used method of programming distributed-memory multiple instruction, multiple data (MIMD) systems is message passing, being __MPI__ the most widely used standard.\n",
    "\n",
    "Processes should coordinate their activities by explicitly sending and receiving messages, a mechanism known as __point to point communication__.\n",
    "\n",
    "MPI operates as follows:\n",
    "- Process A decides a message needs to be sent to process B.\n",
    "- Process A packs up all of its necessary data into a buffer for process B.\n",
    "- Process A indicates that the data should be sent to process B by calling the _Send_ function.\n",
    "- Process B needs to acknowledge it wants to receive the message by calling the _Recv_ function.\n",
    "\n",
    "Every time a process sends a message, there must be a process that also indicates it wants to receive the message, therefore, calls to _Send_ and _Recv_ are always paired.\n",
    "\n",
    "The number of processes is fixed when an MPI program is started and each of the processes is assigned a unique integer starting from 0. This integer is know as the rank of the process and is how each process is identified when sending and receiving messages (we will refer to rank K process as \"process K\").\n",
    "\n",
    "MPI processes are arranged in logical collections known as communicators. There is one special communicator that exists when an MPI program starts, which contains all the processes in the MPI program. This communicator is called MPI.COMM_WORLD. In mpi4py, communicators are represented by the __Comm class__.\n",
    "\n",
    "MPI provides a few methods on a communicator:\n",
    "- Get_size() - returns the total number of processes contained in the communicator (the size of the communicator).\n",
    "- Get_rank() - returns the rank of the calling process within the communicator. \n",
    "- Send() - sends content to a process\n",
    "- Recv() - receives content from a process"
   ]
  },
  {
   "cell_type": "code",
   "execution_count": 3,
   "metadata": {},
   "outputs": [
    {
     "name": "stdout",
     "output_type": "stream",
     "text": [
      "size=1, rank=0\n"
     ]
    }
   ],
   "source": [
    "#####\n",
    "# I couldn't make mpi4pi work within jupyter notebook\n",
    "#####\n",
    "\n",
    "from mpi4py import MPI\n",
    "\n",
    "comm = MPI.COMM_WORLD\n",
    "size = comm.Get_size()\n",
    "rank = comm.Get_rank()\n",
    "print('size=%d, rank=%d' % (size, rank))"
   ]
  },
  {
   "cell_type": "code",
   "execution_count": 1,
   "metadata": {},
   "outputs": [
    {
     "name": "stdout",
     "output_type": "stream",
     "text": [
      "Overwriting mpi1.py\n"
     ]
    }
   ],
   "source": [
    "%%writefile mpi1.py\n",
    "#####\n",
    "# writting the code in the mpi1.py file\n",
    "#####\n",
    "\n",
    "from mpi4py import MPI\n",
    "\n",
    "comm = MPI.COMM_WORLD\n",
    "size = comm.Get_size()\n",
    "rank = comm.Get_rank()\n",
    "print('size=%d, rank=%d' % (size, rank))"
   ]
  },
  {
   "cell_type": "code",
   "execution_count": 2,
   "metadata": {},
   "outputs": [
    {
     "name": "stdout",
     "output_type": "stream",
     "text": [
      "size=4, rank=2\r\n",
      "size=4, rank=1\r\n",
      "size=4, rank=3\r\n",
      "size=4, rank=0\r\n"
     ]
    }
   ],
   "source": [
    "#####\n",
    "# running MPI from the terminal\n",
    "#####\n",
    "!mpiexec -n 4 python3 mpi1.py"
   ]
  },
  {
   "cell_type": "markdown",
   "metadata": {},
   "source": [
    "---\n",
    "### One MPI program, multiple MPI processes\n",
    "Making each process to perform a different computation "
   ]
  },
  {
   "cell_type": "code",
   "execution_count": 9,
   "metadata": {},
   "outputs": [
    {
     "name": "stdout",
     "output_type": "stream",
     "text": [
      "Overwriting mpi2.py\n"
     ]
    }
   ],
   "source": [
    "%%writefile mpi2.py\n",
    "\n",
    "from mpi4py import MPI\n",
    "rank = MPI.COMM_WORLD.Get_rank()\n",
    "\n",
    "a = 6.0\n",
    "b = 3.0\n",
    "if rank == 0:\n",
    "        print(a + b)\n",
    "if rank == 1:\n",
    "        print(a * b)\n",
    "if rank == 2:\n",
    "        print(max(a,b))\n",
    "if rank == 3:\n",
    "        print('doing nothing')"
   ]
  },
  {
   "cell_type": "code",
   "execution_count": 10,
   "metadata": {},
   "outputs": [
    {
     "name": "stdout",
     "output_type": "stream",
     "text": [
      "18.0\r\n",
      "doing nothing\r\n",
      "9.0\r\n",
      "6.0\r\n"
     ]
    }
   ],
   "source": [
    "!mpiexec -n 4 python3 mpi2.py"
   ]
  },
  {
   "cell_type": "markdown",
   "metadata": {},
   "source": [
    "---\n",
    "### Point-to-point communication\n",
    "Message passing involves two processes: a sender and a receiver (commands _Send_ and _Recv_)."
   ]
  },
  {
   "cell_type": "code",
   "execution_count": 14,
   "metadata": {},
   "outputs": [
    {
     "name": "stdout",
     "output_type": "stream",
     "text": [
      "Overwriting mpi3.py\n"
     ]
    }
   ],
   "source": [
    "%%writefile mpi3.py\n",
    "#####\n",
    "# Sending a message from one process to another\n",
    "#####\n",
    "\n",
    "import numpy\n",
    "from mpi4py import MPI\n",
    "comm = MPI.COMM_WORLD\n",
    "rank = comm.Get_rank()\n",
    "\n",
    "randNum = numpy.zeros(1)\n",
    "\n",
    "if rank == 1:\n",
    "        randNum = numpy.random.random_sample(1)\n",
    "        print(\"Process\", rank, \"drew the number\", randNum[0])\n",
    "        comm.Send(randNum, dest=0)\n",
    "\n",
    "if rank == 0:\n",
    "        print(\"Process\", rank, \"before receiving has the number\", randNum[0])\n",
    "        comm.Recv(randNum, source=1)\n",
    "        print(\"Process\", rank, \"received the number\", randNum[0])"
   ]
  },
  {
   "cell_type": "code",
   "execution_count": 15,
   "metadata": {},
   "outputs": [
    {
     "name": "stdout",
     "output_type": "stream",
     "text": [
      "Process 1 drew the number 0.728416355067\r\n",
      "Process 0 before receiving has the number 0.0\r\n",
      "Process 0 received the number 0.728416355067\r\n"
     ]
    }
   ],
   "source": [
    "!mpiexec -n 2 python3 mpi3.py"
   ]
  },
  {
   "cell_type": "code",
   "execution_count": 24,
   "metadata": {},
   "outputs": [
    {
     "name": "stdout",
     "output_type": "stream",
     "text": [
      "Overwriting mpi4.py\n"
     ]
    }
   ],
   "source": [
    "%%writefile mpi4.py\n",
    "#####\n",
    "# Sending a message to a process and receiving a message back\n",
    "#####\n",
    "\n",
    "import numpy\n",
    "from mpi4py import MPI\n",
    "comm = MPI.COMM_WORLD\n",
    "rank = comm.Get_rank()\n",
    "\n",
    "randNum = numpy.zeros(1)\n",
    "\n",
    "if rank == 1:\n",
    "        randNum = numpy.random.random_sample(1)\n",
    "        print(\"Process\", rank, \"drew the number\", randNum[0])\n",
    "        comm.Send(randNum, dest=0)\n",
    "        comm.Recv(randNum, source=0)\n",
    "        print(\"Process\", rank, \"received the number\", randNum[0], \"from process 0\")\n",
    "        \n",
    "if rank == 0:\n",
    "        print(\"Process\", rank, \"before receiving has the number\", randNum[0])\n",
    "        comm.Recv(randNum, source=1)\n",
    "        print(\"Process\", rank, \"received the number\", randNum[0], \"from process 1\")\n",
    "        randNum *= 2\n",
    "        comm.Send(randNum, dest=1) "
   ]
  },
  {
   "cell_type": "code",
   "execution_count": 25,
   "metadata": {},
   "outputs": [
    {
     "name": "stdout",
     "output_type": "stream",
     "text": [
      "Process 0 before receiving has the number 0.0\r\n",
      "Process 1 drew the number 0.346582383384\r\n",
      "Process 0 received the number 0.346582383384 from process 1\r\n",
      "Process 1 received the number 0.693164766768 from process 0\r\n"
     ]
    }
   ],
   "source": [
    "!mpiexec -n 2 python3 mpi4.py"
   ]
  },
  {
   "cell_type": "markdown",
   "metadata": {},
   "source": [
    "The receiving process does not always need to specify the source when issuing a Recv. Instead, the process can accept any message that is being sent by another process. This is done by setting the source to MPI.ANY_SOURCE."
   ]
  },
  {
   "cell_type": "code",
   "execution_count": 30,
   "metadata": {},
   "outputs": [
    {
     "name": "stdout",
     "output_type": "stream",
     "text": [
      "Overwriting mpi5.py\n"
     ]
    }
   ],
   "source": [
    "%%writefile mpi5.py\n",
    "#####\n",
    "# Sending a message to a process and receiving a message back from MPI.ANY_SOURCE\n",
    "#####\n",
    "\n",
    "import numpy\n",
    "from mpi4py import MPI\n",
    "comm = MPI.COMM_WORLD\n",
    "rank = comm.Get_rank()\n",
    "\n",
    "randNum = numpy.zeros(1)\n",
    "\n",
    "if rank == 1:\n",
    "        randNum = numpy.random.random_sample(1)\n",
    "        print(\"Process\", rank, \"drew the number\", randNum[0])\n",
    "        comm.Send(randNum, dest=0)\n",
    "        comm.Recv(randNum, source=MPI.ANY_SOURCE)\n",
    "        print(\"Process\", rank, \"received the number\", randNum[0], \"from porcess\", MPI.ANY_SOURCE)\n",
    "        \n",
    "if rank == 0:\n",
    "        print(\"Process\", rank, \"before receiving has the number\", randNum[0])\n",
    "        comm.Recv(randNum, source=MPI.ANY_SOURCE)\n",
    "        print(\"Process\", rank, \"received the number\", randNum[0], \"from porcess\", MPI.ANY_SOURCE)\n",
    "        randNum *= 2\n",
    "        comm.Send(randNum, dest=1)"
   ]
  },
  {
   "cell_type": "code",
   "execution_count": 31,
   "metadata": {},
   "outputs": [
    {
     "name": "stdout",
     "output_type": "stream",
     "text": [
      "Process 0 before receiving has the number 0.0\r\n",
      "Process 1 drew the number 0.879768959584\r\n",
      "Process 0 received the number 0.879768959584 from porcess -1\r\n",
      "Process 1 received the number 1.75953791917 from porcess -1\r\n"
     ]
    }
   ],
   "source": [
    "!mpiexec -n 2 python3 mpi5.py"
   ]
  },
  {
   "cell_type": "markdown",
   "metadata": {},
   "source": [
    "Sometimes there are cases when a process might have to send many different types of messages to another process. Instead of having to go through extra measures to differentiate all these messages, MPI allows senders and receivers to also specify message IDs (known as tags) with the message. The receiving process can then request a message with a certain tag number and messages with different tags will be buffered until the process requests them.\n",
    "\n",
    "```python\n",
    "Comm.Send(buf, dest=0, tag=0)\n",
    "Comm.Recv(buf, source=0, tag=0, status=None)\n",
    "```\n",
    "\n",
    "The _status_ can provide useful information\n",
    "```python\n",
    "info = MPI.Status()\n",
    "source = info.Get_source()\n",
    "tag = info.Get_tag()\n",
    "count = info.Get_elements()\n",
    "size = info.Get_count()\n",
    "```"
   ]
  },
  {
   "cell_type": "markdown",
   "metadata": {},
   "source": [
    "---\n",
    "### Non-blocking Communication\n",
    "In the previous examples, the sender and receiver are not able to perform any action when sending or receiving a message, wasting computational times while waiting for the call to complete. __Non-blocking communcation__ avoids this issue by using the _Isend_ and _Irecv_ methods, which start to send and receive operations and then return immediately to continue computation.\n",
    "\n",
    "The completion of a send or receive operation can be managed using the _Test_, _Wait_, and _Cancel_ methods.\n"
   ]
  },
  {
   "cell_type": "code",
   "execution_count": 1,
   "metadata": {},
   "outputs": [
    {
     "name": "stdout",
     "output_type": "stream",
     "text": [
      "Writing mpi6.py\n"
     ]
    }
   ],
   "source": [
    "%%writefile mpi6.py\n",
    "#####\n",
    "# this code is similar to mpi3.py, but it uses Wait to block the processes\n",
    "#####\n",
    "\n",
    "import numpy\n",
    "from mpi4py import MPI\n",
    "comm = MPI.COMM_WORLD\n",
    "rank = comm.Get_rank()\n",
    "\n",
    "randNum = numpy.zeros(1)\n",
    "\n",
    "if rank == 1:\n",
    "        randNum = numpy.random.random_sample(1)\n",
    "        print(\"Process\", rank, \"drew the number\", randNum[0])\n",
    "        req = comm.Isend(randNum, dest=0)\n",
    "        req.Wait()\n",
    "        \n",
    "if rank == 0:\n",
    "        print(\"Process\", rank, \"before receiving has the number\", randNum[0])\n",
    "        req = comm.Irecv(randNum, source=1)\n",
    "        req.Wait()\n",
    "        print(\"Process\", rank, \"received the number\", randNum[0])"
   ]
  },
  {
   "cell_type": "code",
   "execution_count": 2,
   "metadata": {},
   "outputs": [
    {
     "name": "stdout",
     "output_type": "stream",
     "text": [
      "Process 0 before receiving has the number 0.0\r\n",
      "Process 1 drew the number 0.691916965285\r\n",
      "Process 0 received the number 0.691916965285\r\n"
     ]
    }
   ],
   "source": [
    "!mpiexec -n 2 python3 mpi6.py"
   ]
  },
  {
   "cell_type": "code",
   "execution_count": 5,
   "metadata": {},
   "outputs": [
    {
     "name": "stdout",
     "output_type": "stream",
     "text": [
      "Overwriting mpi7.py\n"
     ]
    }
   ],
   "source": [
    "%%writefile mpi7.py\n",
    "#####\n",
    "# this code is similar to mpi3.py, but it uses Wait to block the processes\n",
    "#####\n",
    "\n",
    "import numpy\n",
    "from mpi4py import MPI\n",
    "comm = MPI.COMM_WORLD\n",
    "rank = comm.Get_rank()\n",
    "\n",
    "randNum = numpy.zeros(1) \n",
    "\n",
    "if rank == 1:\n",
    "        randNum = numpy.random.random_sample(1)\n",
    "        print(\"Process\", rank, \"drew the number\", randNum[0])\n",
    "        comm.Isend(randNum, dest=0)\n",
    "        randNum[0] /= 3.14 # overlap communication\n",
    "        print(\"Process\", rank, \"number in overlap communication =\", randNum[0])\n",
    "        req = comm.Irecv(randNum, source=0)\n",
    "        req.Wait()\n",
    "        print(\"Process\", rank, \"received the number\", randNum[0])\n",
    "\n",
    "if rank == 0:\n",
    "        print(\"Process\", rank, \"before receiving has the number\", randNum[0])\n",
    "        req = comm.Irecv(randNum, source=1)\n",
    "        req.Wait()\n",
    "        print(\"Process\", rank, \"received the number\", randNum[0])\n",
    "        randNum *= 2\n",
    "        comm.Isend(randNum, dest=1)"
   ]
  },
  {
   "cell_type": "code",
   "execution_count": 6,
   "metadata": {},
   "outputs": [
    {
     "name": "stdout",
     "output_type": "stream",
     "text": [
      "Process 0 before receiving has the number 0.0\r\n",
      "Process 1 drew the number 0.743976553446\r\n",
      "Process 1 number in overlap communication = 0.236935208104\r\n",
      "Process 0 received the number 0.743976553446\r\n",
      "Process 1 received the number 1.48795310689\r\n"
     ]
    }
   ],
   "source": [
    "!mpiexec -n 2 python3 mpi7.py"
   ]
  },
  {
   "cell_type": "markdown",
   "metadata": {},
   "source": [
    "---\n",
    "### Problem Decomposition\n",
    "A central problem when working with MPI is to break the problem into “chunks” to be handled by individual processes.\n",
    "\n",
    "There are two main ways to decompose a problem: \n",
    "- __Domain decomposition:__ Data associated with a problem is split into chunks and each parallel process works on a chunk of the data.\n",
    "- __Functional decomposition:__ Focus is on the computation rather than on the data. Used when pieces of data require different processing.\n",
    "\n",
    "#### Example of a domain decompostion with MPI\n",
    "\n",
    "Hermite interpolation:\n",
    "<img src=\"img8.png\" alt=\"Drawing\" style=\"width: 300px;\"/>\n",
    "$$\n",
    "p(t)=ax^3+bx^2+cx+d\\Longrightarrow\n",
    "\\begin{array}{l}\n",
    "ax_0^3+bx_0^2+cx_0+d = y_0\\\\\n",
    "ax_1^3+bx_1^2+cx_1+d = y_1\\\\\n",
    "3ax_0^2+2bx_0+c = m_0\\\\\n",
    "3ax_1^2+2bx_1+c = m_1\n",
    "\\end{array}\n",
    "\\Longrightarrow\n",
    "\\left[\\begin{array}{cccc}\n",
    "x_0^3 & x_0^2 & x_0 & 1\\\\\n",
    "x_1^3 & x_1^2 & x_1 & 1\\\\\n",
    "3x_0^2 & 2x_0 & 1 & 0\\\\\n",
    "3x_1^2 & 2x_1 & 1 & 0\n",
    "\\end{array}\\right]\n",
    "\\left[\\begin{array}{c}\n",
    "a\\\\\n",
    "b\\\\\n",
    "c\\\\\n",
    "d\n",
    "\\end{array}\\right]=\n",
    "\\left[\\begin{array}{c}\n",
    "y_0\\\\\n",
    "y_1\\\\\n",
    "m_0\\\\\n",
    "m_1\n",
    "\\end{array}\\right]\n",
    "$$"
   ]
  },
  {
   "cell_type": "code",
   "execution_count": 30,
   "metadata": {
    "collapsed": true
   },
   "outputs": [],
   "source": [
    "def hermite(data):\n",
    "    A = np.zeros((4,4))\n",
    "    pts = []\n",
    "    for i in range(data.shape[0]):\n",
    "        A[0:2]=np.array([np.power(data[i,0:2],3),np.power(data[i,0:2],2),data[i,0:2],np.array([1,1])]).T\n",
    "        A[2:4]=np.array([3*np.power(data[i,0:2],2),2*data[i,0:2],np.array([1,1]),np.array([0,0])]).T\n",
    "        b = data[i,2:]\n",
    "        coefs = np.linalg.solve(A,b)\n",
    "        t = np.linspace(data[i,0],data[i,1],100)\n",
    "        pts.extend(np.polyval(coefs,t))\n",
    "    return(pts)"
   ]
  },
  {
   "cell_type": "code",
   "execution_count": 32,
   "metadata": {},
   "outputs": [
    {
     "name": "stdout",
     "output_type": "stream",
     "text": [
      "Took 0.08801794052124023s\n",
      "99900\n"
     ]
    },
    {
     "data": {
      "image/png": "[encoded data removed]",
      "text/plain": [
       "<matplotlib.figure.Figure at 0x1065f7ac8>"
      ]
     },
     "metadata": {},
     "output_type": "display_data"
    },
    {
     "data": {
      "image/png": "[encoded data removed]",
      "text/plain": [
       "<matplotlib.figure.Figure at 0x104ae0b38>"
      ]
     },
     "metadata": {},
     "output_type": "display_data"
    }
   ],
   "source": [
    "#####\n",
    "# Finding the piece-wise hermite polynomial interpolation of a set of points\n",
    "#####\n",
    "from time import time\n",
    "import numpy as np\n",
    "import matplotlib.pyplot as plt\n",
    "\n",
    "\n",
    "numx = 1000   # number of discretized points in x\n",
    "\n",
    "x = np.linspace(0,20,numx)\n",
    "y = np.random.uniform(low=-1,high=1,size=numx)+np.sin(x)\n",
    "#y = np.exp(-np.power(x-500,2)/1e4)#+np.random.uniform(low=-0.1,high=0.1,size=numx)\n",
    "#m = np.random.uniform(low=-1,high=1,size=numx)\n",
    "m = np.zeros((numx,))\n",
    "l = []\n",
    "\n",
    "ts = time()\n",
    "for i in range(numx-1):\n",
    "    data = np.array([x[i],x[i+1],y[i],y[i+1],m[i],m[i+1]]).reshape(1,6)\n",
    "    l.extend(hermite(data))\n",
    "   \n",
    "print('Took {}s'.format(time() - ts))\n",
    "print(len(l))\n",
    "s = np.linspace(0,20,len(l))\n",
    "plt.figure(1)\n",
    "plt.plot(s,l)\n",
    "plt.figure(2)\n",
    "plt.plot(s[0:500],l[0:500])\n",
    "plt.plot(x[0:6],y[0:6])\n",
    "plt.show()"
   ]
  },
  {
   "cell_type": "code",
   "execution_count": null,
   "metadata": {
    "collapsed": true
   },
   "outputs": [],
   "source": [
    "%%writefile mpi8.py\n",
    "#####\n",
    "# Finding the piece-wise hermite polynomial interpolation of a set of points\n",
    "#####\n",
    "from time import time\n",
    "import numpy as np\n",
    "import matplotlib.pyplot as plt\n",
    "import numpy\n",
    "from mpi4py import MPI\n",
    "\n",
    "comm = MPI.COMM_WORLD\n",
    "rank = comm.Get_rank()\n",
    "\n",
    "l = []\n",
    "ts = time()\n",
    "for i in range(numx-1):\n",
    "    data = np.array([x[i],x[i+1],y[i],y[i+1],m[i],m[i+1]]).reshape(1,6)\n",
    "    \n",
    "    l.extend(hermite(data))"
   ]
  }
 ],
 "metadata": {
  "kernelspec": {
   "display_name": "Python 3",
   "language": "python",
   "name": "python3"
  },
  "language_info": {
   "codemirror_mode": {
    "name": "ipython",
    "version": 3
   },
   "file_extension": ".py",
   "mimetype": "text/x-python",
   "name": "python",
   "nbconvert_exporter": "python",
   "pygments_lexer": "ipython3",
   "version": "3.6.3"
  }
 },
 "nbformat": 4,
 "nbformat_minor": 2
}
