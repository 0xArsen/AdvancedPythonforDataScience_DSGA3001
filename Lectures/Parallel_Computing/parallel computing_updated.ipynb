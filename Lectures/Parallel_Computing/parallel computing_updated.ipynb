{
 "cells": [
  {
   "cell_type": "markdown",
   "metadata": {},
   "source": [
    "# Python Parallel Computing - MPI\n",
    "Part of this lecture is based on the material by [Dr. Gregory Watson](https://nyu-cds.github.io/python-itertools/)"
   ]
  },
  {
   "cell_type": "markdown",
   "metadata": {},
   "source": [
    "Lets start with the introductory text by Dr.Gregory Watson about [parallel computing](https://nyu-cds.github.io/python-mpi/01-introduction/).\n",
    "\n",
    "You need to install:\n",
    "- open-mpi (brew install open-mpi)\n",
    "- mpi4py (pip3 install mpi4py)\n",
    "\n",
    "A more detailed description this [page](https://info.gwdg.de/~ceulig/docs-dev/doku.php?id=en:services:application_services:high_performance_computing:mpi4py) for a more detailed discussion of mpi4py."
   ]
  },
  {
   "cell_type": "markdown",
   "metadata": {},
   "source": [
    "---\n",
    "The most commonly used method of programming distributed-memory multiple instruction, multiple data (MIMD) systems is message passing, being __MPI__ the most widely used standard.\n",
    "\n",
    "Processes should coordinate their activities by explicitly sending and receiving messages, a mechanism known as __point to point communication__.\n",
    "\n",
    "MPI operates as follows:\n",
    "- Process A decides a message needs to be sent to process B.\n",
    "- Process A packs up all of its necessary data into a buffer for process B.\n",
    "- Process A indicates that the data should be sent to process B by calling the _Send_ function.\n",
    "- Process B needs to acknowledge it wants to receive the message by calling the _Recv_ function.\n",
    "\n",
    "Every time a process sends a message, there must be a process that also indicates it wants to receive the message, therefore, calls to _Send_ and _Recv_ are always paired.\n",
    "\n",
    "The number of processes is fixed when an MPI program is started and each of the processes is assigned a unique integer starting from 0. This integer is know as the rank of the process and is how each process is identified when sending and receiving messages (we will refer to rank K process as \"process K\").\n",
    "\n",
    "MPI processes are arranged in logical collections known as communicators. There is one special communicator that exists when an MPI program starts, which contains all the processes in the MPI program. This communicator is called MPI.COMM_WORLD. In mpi4py, communicators are represented by the __Comm class__.\n",
    "\n",
    "MPI provides a few methods on a communicator:\n",
    "- Get_size() - returns the total number of processes contained in the communicator (the size of the communicator).\n",
    "- Get_rank() - returns the rank of the calling process within the communicator. \n",
    "- Send() - sends content to a process\n",
    "- Recv() - receives content from a process"
   ]
  },
  {
   "cell_type": "code",
   "execution_count": 1,
   "metadata": {},
   "outputs": [
    {
     "name": "stdout",
     "output_type": "stream",
     "text": [
      "size=1, rank=0\n"
     ]
    }
   ],
   "source": [
    "#####\n",
    "# I couldn't make mpi4pi work within jupyter notebook\n",
    "#####\n",
    "\n",
    "from mpi4py import MPI\n",
    "\n",
    "comm = MPI.COMM_WORLD\n",
    "size = comm.Get_size()\n",
    "rank = comm.Get_rank()\n",
    "print('size=%d, rank=%d' % (size, rank))"
   ]
  },
  {
   "cell_type": "code",
   "execution_count": 2,
   "metadata": {},
   "outputs": [
    {
     "name": "stdout",
     "output_type": "stream",
     "text": [
      "Overwriting mpi1.py\n"
     ]
    }
   ],
   "source": [
    "%%writefile mpi1.py\n",
    "#####\n",
    "# writting the code in the mpi1.py file\n",
    "#####\n",
    "\n",
    "from mpi4py import MPI\n",
    "\n",
    "comm = MPI.COMM_WORLD\n",
    "size = comm.Get_size()\n",
    "rank = comm.Get_rank()\n",
    "print('size=%d, rank=%d' % (size, rank))"
   ]
  },
  {
   "cell_type": "code",
   "execution_count": 2,
   "metadata": {},
   "outputs": [
    {
     "name": "stdout",
     "output_type": "stream",
     "text": [
      "size=2, rank=1\r\n",
      "size=2, rank=0\r\n"
     ]
    }
   ],
   "source": [
    "#####\n",
    "# running MPI from the terminal\n",
    "#####\n",
    "!mpiexec -n 2 python3 mpi1.py"
   ]
  },
  {
   "cell_type": "markdown",
   "metadata": {},
   "source": [
    "---\n",
    "### One MPI program, multiple MPI processes\n",
    "Making each process to perform a different computation "
   ]
  },
  {
   "cell_type": "code",
   "execution_count": 5,
   "metadata": {},
   "outputs": [
    {
     "name": "stdout",
     "output_type": "stream",
     "text": [
      "Overwriting mpi2.py\n"
     ]
    }
   ],
   "source": [
    "%%writefile mpi2.py\n",
    "\n",
    "from mpi4py import MPI\n",
    "rank = MPI.COMM_WORLD.Get_rank()\n",
    "\n",
    "a = 6.0\n",
    "b = 3.0\n",
    "print('Rank',rank)\n",
    "if rank == 0:\n",
    "        print(a + b)\n",
    "if rank == 1:\n",
    "        print(a * b)\n",
    "if rank == 2:\n",
    "        print(max(a,b))\n",
    "if rank == 3:\n",
    "        print('doing nothing')"
   ]
  },
  {
   "cell_type": "code",
   "execution_count": 8,
   "metadata": {},
   "outputs": [
    {
     "name": "stdout",
     "output_type": "stream",
     "text": [
      "Rank 3\r\n",
      "doing nothing\r\n",
      "Rank 2\r\n",
      "6.0\r\n",
      "Rank 0\r\n",
      "9.0\r\n",
      "Rank 1\r\n",
      "18.0\r\n"
     ]
    }
   ],
   "source": [
    "!mpiexec -n 4 python3 mpi2.py"
   ]
  },
  {
   "cell_type": "markdown",
   "metadata": {},
   "source": [
    "---\n",
    "### Point-to-point communication\n",
    "Message passing involves two processes: a sender and a receiver (commands _Send_ and _Recv_)."
   ]
  },
  {
   "cell_type": "code",
   "execution_count": 9,
   "metadata": {},
   "outputs": [
    {
     "name": "stdout",
     "output_type": "stream",
     "text": [
      "Overwriting mpi3.py\n"
     ]
    }
   ],
   "source": [
    "%%writefile mpi3.py\n",
    "#####\n",
    "# Sending a message from one process to another\n",
    "#####\n",
    "\n",
    "import numpy\n",
    "from mpi4py import MPI\n",
    "comm = MPI.COMM_WORLD\n",
    "rank = comm.Get_rank()\n",
    "\n",
    "randNum = numpy.zeros(1)\n",
    "\n",
    "if rank == 1:\n",
    "        randNum = numpy.random.random_sample(1)\n",
    "        print(\"Process\", rank, \"drew the number\", randNum[0])\n",
    "        comm.Send(randNum, dest=0)\n",
    "\n",
    "if rank == 0:\n",
    "        print(\"Process\", rank, \"before receiving has the number\", randNum[0])\n",
    "        comm.Recv(randNum, source=1)\n",
    "        print(\"Process\", rank, \"received the number\", randNum[0])"
   ]
  },
  {
   "cell_type": "code",
   "execution_count": 14,
   "metadata": {},
   "outputs": [
    {
     "name": "stdout",
     "output_type": "stream",
     "text": [
      "Process 0 before receiving has the number 0.0\n",
      "Process 1 drew the number 0.178558573804\n",
      "Process 0 received the number 0.178558573804\n"
     ]
    }
   ],
   "source": [
    "!mpiexec -n 2 python3 mpi3.py"
   ]
  },
  {
   "cell_type": "code",
   "execution_count": 15,
   "metadata": {},
   "outputs": [
    {
     "name": "stdout",
     "output_type": "stream",
     "text": [
      "Overwriting mpi4.py\n"
     ]
    }
   ],
   "source": [
    "%%writefile mpi4.py\n",
    "#####\n",
    "# Sending a message to a process and receiving a message back\n",
    "#####\n",
    "\n",
    "import numpy\n",
    "from mpi4py import MPI\n",
    "comm = MPI.COMM_WORLD\n",
    "rank = comm.Get_rank()\n",
    "\n",
    "randNum = numpy.zeros(1)\n",
    "\n",
    "if rank == 1:\n",
    "        randNum = numpy.random.random_sample(1)\n",
    "        print(\"Process\", rank, \"drew the number\", randNum[0])\n",
    "        comm.Send(randNum, dest=0)\n",
    "        comm.Recv(randNum, source=0)\n",
    "        print(\"Process\", rank, \"received the number\", randNum[0], \"from process 0\")\n",
    "        \n",
    "if rank == 0:\n",
    "        print(\"Process\", rank, \"before receiving has the number\", randNum[0])\n",
    "        comm.Recv(randNum, source=1)\n",
    "        print(\"Process\", rank, \"received the number\", randNum[0], \"from process 1\")\n",
    "        randNum *= 2\n",
    "        comm.Send(randNum, dest=1) "
   ]
  },
  {
   "cell_type": "code",
   "execution_count": 16,
   "metadata": {},
   "outputs": [
    {
     "name": "stdout",
     "output_type": "stream",
     "text": [
      "Process 0 before receiving has the number 0.0\r\n",
      "Process 1 drew the number 0.106723436108\r\n",
      "Process 0 received the number 0.106723436108 from process 1\r\n",
      "Process 1 received the number 0.213446872217 from process 0\r\n"
     ]
    }
   ],
   "source": [
    "!mpiexec -n 2 python3 mpi4.py"
   ]
  },
  {
   "cell_type": "markdown",
   "metadata": {},
   "source": [
    "The receiving process does not always need to specify the source when issuing a Recv. Instead, the process can accept any message that is being sent by another process. This is done by setting the source to MPI.ANY_SOURCE."
   ]
  },
  {
   "cell_type": "code",
   "execution_count": 19,
   "metadata": {},
   "outputs": [
    {
     "name": "stdout",
     "output_type": "stream",
     "text": [
      "Overwriting mpi5.py\n"
     ]
    }
   ],
   "source": [
    "%%writefile mpi5.py\n",
    "#####\n",
    "# Sending a message to a process and receiving a message back from MPI.ANY_SOURCE\n",
    "#####\n",
    "\n",
    "import numpy\n",
    "from mpi4py import MPI\n",
    "comm = MPI.COMM_WORLD\n",
    "rank = comm.Get_rank()\n",
    "\n",
    "randNum = numpy.zeros(1)\n",
    "\n",
    "if rank == 1:\n",
    "        randNum = numpy.random.random_sample(1)\n",
    "        print(\"Process\", rank, \"drew the number\", randNum[0])\n",
    "        comm.Send(randNum, dest=0)\n",
    "        comm.Recv(randNum, source=MPI.ANY_SOURCE)\n",
    "        print(\"Process\", rank, \"received the number\", randNum[0], \"from porcess\", MPI.ANY_SOURCE)\n",
    "        \n",
    "if rank == 0:\n",
    "        print(\"Process\", rank, \"before receiving has the number\", randNum[0])\n",
    "        comm.Recv(randNum, source=MPI.ANY_SOURCE)\n",
    "        print(\"Process\", rank, \"received the number\", randNum[0], \"from porcess\", MPI.ANY_SOURCE)\n",
    "        randNum *= 2\n",
    "        comm.Send(randNum, dest=MPI.ANY_SOURCE)"
   ]
  },
  {
   "cell_type": "code",
   "execution_count": 21,
   "metadata": {},
   "outputs": [
    {
     "name": "stdout",
     "output_type": "stream",
     "text": [
      "Process 1 drew the number 0.531947317501\n",
      "Process 0 before receiving has the number 0.0\n",
      "Process 0 received the number 0.531947317501 from porcess -1\n",
      "Traceback (most recent call last):\n",
      "  File \"mpi5.py\", line 24, in <module>\n",
      "    comm.Send(randNum, dest=MPI.ANY_SOURCE)\n",
      "  File \"mpi4py/MPI/Comm.pyx\", line 272, in mpi4py.MPI.Comm.Send\n",
      "mpi4py.MPI.Exception: MPI_ERR_RANK: invalid rank\n",
      "^C\n"
     ]
    }
   ],
   "source": [
    "!mpiexec -n 2 python3 mpi5.py"
   ]
  },
  {
   "cell_type": "markdown",
   "metadata": {},
   "source": [
    "Sometimes there are cases when a process might have to send many different types of messages to another process. Instead of having to go through extra measures to differentiate all these messages, MPI allows senders and receivers to also specify message IDs (known as tags) with the message. The receiving process can then request a message with a certain tag number and messages with different tags will be buffered until the process requests them.\n",
    "\n",
    "```python\n",
    "Comm.Send(buf, dest=0, tag=0)\n",
    "Comm.Recv(buf, source=0, tag=0, status=None)\n",
    "```\n",
    "\n",
    "The _status_ can provide useful information\n",
    "```python\n",
    "info = MPI.Status()\n",
    "source = info.Get_source()\n",
    "tag = info.Get_tag()\n",
    "count = info.Get_elements()\n",
    "size = info.Get_count()\n",
    "```"
   ]
  },
  {
   "cell_type": "code",
   "execution_count": 40,
   "metadata": {},
   "outputs": [
    {
     "name": "stdout",
     "output_type": "stream",
     "text": [
      "Overwriting mpi_status.py\n"
     ]
    }
   ],
   "source": [
    "%%writefile mpi_status.py\n",
    "#####\n",
    "# Sending a message from one process to another\n",
    "#####\n",
    "\n",
    "##### make the status to work for tomorrow class\n",
    "\n",
    "import numpy\n",
    "from mpi4py import MPI\n",
    "comm = MPI.COMM_WORLD\n",
    "rank = comm.Get_rank()\n",
    "\n",
    "info = MPI.Status()\n",
    "    \n",
    "randNum = numpy.zeros(1)\n",
    "\n",
    "if rank == 1:\n",
    "        randNum = numpy.random.random_sample(1)\n",
    "        print(\"Process\", rank, \"drew the number\", randNum[0])\n",
    "        comm.Send(randNum, dest=0)\n",
    "\n",
    "if rank == 0:\n",
    "        print(\"Process\", rank, \"before receiving has the number\", randNum[0])\n",
    "        comm.Recv(randNum, source=1,status=info)\n",
    "        print(\"Process\", rank, \"received the number\", randNum[0])\n",
    "        print(info.Get_source())"
   ]
  },
  {
   "cell_type": "code",
   "execution_count": 41,
   "metadata": {},
   "outputs": [
    {
     "name": "stdout",
     "output_type": "stream",
     "text": [
      "Process 0 before receiving has the number 0.0\r\n",
      "Process 1 drew the number 0.711688408262\r\n",
      "Process 0 received the number 0.711688408262\r\n",
      "1\r\n"
     ]
    }
   ],
   "source": [
    "!mpiexec -n 2 python3 mpi_status.py"
   ]
  },
  {
   "cell_type": "markdown",
   "metadata": {},
   "source": [
    "---\n",
    "### Non-blocking Communication\n",
    "In the previous examples, the sender and receiver are not able to perform any action when sending or receiving a message, wasting computational times while waiting for the call to complete. __Non-blocking communcation__ avoids this issue by using the _Isend_ and _Irecv_ methods, which start to send and receive operations and then return immediately to continue computation.\n",
    "\n",
    "The completion of a send or receive operation can be managed using the _Test_, _Wait_, and _Cancel_ methods.\n"
   ]
  },
  {
   "cell_type": "code",
   "execution_count": 42,
   "metadata": {},
   "outputs": [
    {
     "name": "stdout",
     "output_type": "stream",
     "text": [
      "Overwriting mpi6.py\n"
     ]
    }
   ],
   "source": [
    "%%writefile mpi6.py\n",
    "#####\n",
    "# this code is similar to mpi3.py, but it uses Wait to block the processes\n",
    "#####\n",
    "\n",
    "import numpy\n",
    "from mpi4py import MPI\n",
    "comm = MPI.COMM_WORLD\n",
    "rank = comm.Get_rank()\n",
    "\n",
    "randNum = numpy.zeros(1)\n",
    "\n",
    "if rank == 1:\n",
    "        randNum = numpy.random.random_sample(1)\n",
    "        print(\"Process\", rank, \"drew the number\", randNum[0])\n",
    "        req = comm.Isend(randNum, dest=0)\n",
    "        #req.Wait()\n",
    "        print('something here')\n",
    "        \n",
    "if rank == 0:\n",
    "        print(\"Process\", rank, \"before receiving has the number\", randNum[0])\n",
    "        req = comm.Irecv(randNum, source=1)\n",
    "        req.Wait()\n",
    "        print(\"Process\", rank, \"received the number\", randNum[0])"
   ]
  },
  {
   "cell_type": "code",
   "execution_count": 43,
   "metadata": {},
   "outputs": [
    {
     "name": "stdout",
     "output_type": "stream",
     "text": [
      "Process 0 before receiving has the number 0.0\r\n",
      "Process 1 drew the number 0.997483186264\r\n",
      "something here\r\n",
      "Process 0 received the number 0.997483186264\r\n"
     ]
    }
   ],
   "source": [
    "!mpiexec -n 2 python3 mpi6.py"
   ]
  },
  {
   "cell_type": "code",
   "execution_count": 47,
   "metadata": {},
   "outputs": [
    {
     "name": "stdout",
     "output_type": "stream",
     "text": [
      "Overwriting mpi7.py\n"
     ]
    }
   ],
   "source": [
    "%%writefile mpi7.py\n",
    "#####\n",
    "# overlap communication\n",
    "#####\n",
    "\n",
    "import numpy\n",
    "from mpi4py import MPI\n",
    "comm = MPI.COMM_WORLD\n",
    "rank = comm.Get_rank()\n",
    "\n",
    "randNum = numpy.zeros(1) \n",
    "\n",
    "if rank == 1:\n",
    "        randNum = numpy.random.random_sample(1)\n",
    "        print(\"Process\", rank, \"drew the number\", randNum[0])\n",
    "        comm.Isend(randNum, dest=0)\n",
    "        randNum[0] /= 3.14 # overlap communication\n",
    "        print(\"Process\", rank, \"number in overlap communication =\", randNum[0])\n",
    "        req = comm.Irecv(randNum, source=0)\n",
    "        req.Wait()\n",
    "        print(\"Process\", rank, \"received the number\", randNum[0])\n",
    "\n",
    "if rank == 0:\n",
    "        print(\"Process\", rank, \"before receiving has the number\", randNum[0])\n",
    "        req = comm.Irecv(randNum, source=1)\n",
    "        req.Wait()\n",
    "        print(\"Process\", rank, \"received the number\", randNum[0])\n",
    "        randNum *= 2\n",
    "        comm.Isend(randNum, dest=1)"
   ]
  },
  {
   "cell_type": "code",
   "execution_count": 46,
   "metadata": {},
   "outputs": [
    {
     "name": "stdout",
     "output_type": "stream",
     "text": [
      "Process 0 before receiving has the number 0.0\r\n",
      "Process 1 drew the number 0.39121768179\r\n",
      "Process 1 number in overlap communication = 0.124591618404\r\n",
      "Process 0 received the number 0.39121768179\r\n",
      "Process 1 received the number 0.124591618404\r\n"
     ]
    }
   ],
   "source": [
    "!mpiexec -n 2 python3 mpi7.py"
   ]
  },
  {
   "cell_type": "markdown",
   "metadata": {},
   "source": [
    "---\n",
    "### Problem Decomposition\n",
    "A central problem when working with MPI is to break the problem into “chunks” to be handled by individual processes.\n",
    "\n",
    "There are two main ways to decompose a problem: \n",
    "- __Domain decomposition:__ Data associated with a problem is split into chunks and each parallel process works on a chunk of the data.\n",
    "- __Functional decomposition:__ Focus is on the computation rather than on the data. Used when pieces of data require different processing.\n",
    "\n",
    "#### Example of a domain decompostion with MPI\n",
    "\n",
    "Hermite interpolation:\n",
    "<img src=\"img8.png\" alt=\"Drawing\" style=\"width: 300px;\"/>\n",
    "$$\n",
    "p(t)=ax^3+bx^2+cx+d\\Longrightarrow\n",
    "\\begin{array}{l}\n",
    "ax_0^3+bx_0^2+cx_0+d = y_0\\\\\n",
    "ax_1^3+bx_1^2+cx_1+d = y_1\\\\\n",
    "3ax_0^2+2bx_0+c = m_0\\\\\n",
    "3ax_1^2+2bx_1+c = m_1\n",
    "\\end{array}\n",
    "\\Longrightarrow\n",
    "\\left[\\begin{array}{cccc}\n",
    "x_0^3 & x_0^2 & x_0 & 1\\\\\n",
    "x_1^3 & x_1^2 & x_1 & 1\\\\\n",
    "3x_0^2 & 2x_0 & 1 & 0\\\\\n",
    "3x_1^2 & 2x_1 & 1 & 0\n",
    "\\end{array}\\right]\n",
    "\\left[\\begin{array}{c}\n",
    "a\\\\\n",
    "b\\\\\n",
    "c\\\\\n",
    "d\n",
    "\\end{array}\\right]=\n",
    "\\left[\\begin{array}{c}\n",
    "y_0\\\\\n",
    "y_1\\\\\n",
    "m_0\\\\\n",
    "m_1\n",
    "\\end{array}\\right]\n",
    "$$"
   ]
  },
  {
   "cell_type": "code",
   "execution_count": 51,
   "metadata": {},
   "outputs": [],
   "source": [
    "def hermite(data):\n",
    "    A = np.zeros((4,4))\n",
    "    pts = []\n",
    "\n",
    "    A[0:2]=np.array([np.power(data[0:2],3),np.power(data[0:2],2),data[0:2],np.array([1,1])]).T\n",
    "    A[2:4]=np.array([3*np.power(data[0:2],2),2*data[0:2],np.array([1,1]),np.array([0,0])]).T\n",
    "    b = data[2:]\n",
    "    coefs = np.linalg.solve(A,b)\n",
    "    t = np.linspace(data[0],data[1],100)\n",
    "    pts.extend(np.polyval(coefs,t))\n",
    "    return(pts)"
   ]
  },
  {
   "cell_type": "code",
   "execution_count": 181,
   "metadata": {},
   "outputs": [
    {
     "name": "stdout",
     "output_type": "stream",
     "text": [
      "Took 0.776324987411499s\n",
      "999900\n"
     ]
    },
    {
     "data": {
      "image/png": "[encoded data removed]",
      "text/plain": [
       "<matplotlib.figure.Figure at 0x106633d68>"
      ]
     },
     "metadata": {},
     "output_type": "display_data"
    },
    {
     "data": {
      "image/png": "[encoded data removed]",
      "text/plain": [
       "<matplotlib.figure.Figure at 0x1046d26d8>"
      ]
     },
     "metadata": {},
     "output_type": "display_data"
    }
   ],
   "source": [
    "#####\n",
    "# Finding the piece-wise hermite polynomial interpolation of a set of points\n",
    "#####\n",
    "from time import time\n",
    "import numpy as np\n",
    "import matplotlib.pyplot as plt\n",
    "\n",
    "ts = time()\n",
    "numx = 10000   # number of discretized points in x\n",
    "\n",
    "x = np.linspace(0,20,numx)\n",
    "y = np.random.uniform(low=-1,high=1,size=numx)+np.sin(x)\n",
    "#m = np.random.uniform(low=-1,high=1,size=numx)\n",
    "m = np.zeros((numx,))\n",
    "l = []\n",
    "\n",
    "\n",
    "for i in range(numx-1):\n",
    "    data = np.array([x[i],x[i+1],y[i],y[i+1],m[i],m[i+1]])\n",
    "    l.extend(hermite(data))\n",
    "   \n",
    "print('Took {}s'.format(time() - ts))\n",
    "print(len(l))\n",
    "s = np.linspace(0,20,len(l))\n",
    "plt.figure(1)\n",
    "plt.plot(s,l)\n",
    "plt.figure(2)\n",
    "plt.plot(s[0:500],l[0:500])\n",
    "plt.plot(x[0:6],y[0:6])\n",
    "plt.show()"
   ]
  },
  {
   "cell_type": "code",
   "execution_count": 186,
   "metadata": {},
   "outputs": [
    {
     "name": "stdout",
     "output_type": "stream",
     "text": [
      "Overwriting mpi8.py\n"
     ]
    }
   ],
   "source": [
    "%%writefile mpi8.py\n",
    "#####\n",
    "# Finding the piece-wise hermite polynomial interpolation of a set of points\n",
    "#####\n",
    "from time import time\n",
    "import numpy as np\n",
    "import matplotlib.pyplot as plt\n",
    "import numpy\n",
    "from mpi4py import MPI\n",
    "\n",
    "comm = MPI.COMM_WORLD\n",
    "rank = comm.Get_rank()\n",
    "size = comm.Get_size()\n",
    "status = MPI.Status()\n",
    "\n",
    "ts = time()\n",
    "numx = 10000\n",
    "rank_interva_size = 20/size\n",
    "numx_per_rank = int(np.floor(numx/size))\n",
    "m = np.zeros((numx_per_rank,))\n",
    "\n",
    "def hermite(data):\n",
    "    A = np.zeros((4,4))\n",
    "    pts = []\n",
    "\n",
    "    A[0:2]=np.array([np.power(data[0:2],3),np.power(data[0:2],2),data[0:2],np.array([1,1])]).T\n",
    "    A[2:4]=np.array([3*np.power(data[0:2],2),2*data[0:2],np.array([1,1]),np.array([0,0])]).T\n",
    "    b = data[2:]\n",
    "    coefs = np.linalg.solve(A,b)\n",
    "    t = np.linspace(data[0],data[1],100)\n",
    "    pts.extend(np.polyval(coefs,t))\n",
    "    return(pts)\n",
    "\n",
    "if rank == 0:\n",
    "    l = []\n",
    "    x = np.linspace(0,rank_interva_size,numx_per_rank)\n",
    "    y = np.random.uniform(low=-1,high=1,size=numx_per_rank)+np.sin(x)\n",
    "    for i in range(numx_per_rank-1):\n",
    "        data = np.array([x[i],x[i+1],y[i],y[i+1],m[i],m[i+1]])\n",
    "        l.extend(hermite(data))\n",
    "        \n",
    "    pts = np.zeros((np.asarray(l).shape[0],))\n",
    "    for p in range(1, size):\n",
    "        comm.Recv(pts, source=p)\n",
    "        l.extend(np.ndarray.tolist(pts))\n",
    "        \n",
    "    #np.savetxt('mpi_output.dat',np.asarray(l))\n",
    "else:\n",
    "    l = []\n",
    "    x = np.linspace(rank*rank_interva_size,(rank+1)*rank_interva_size,numx_per_rank)\n",
    "    y = np.random.uniform(low=-1,high=1,size=numx_per_rank)+np.sin(x)\n",
    "    for i in range(numx_per_rank-1):\n",
    "        data = np.array([x[i],x[i+1],y[i],y[i+1],m[i],m[i+1]])\n",
    "        l.extend(hermite(data))\n",
    "    pts = np.asarray(l) \n",
    "    comm.Send(pts,dest=0)\n",
    "    \n",
    "print('Took {}s'.format(time() - ts))"
   ]
  },
  {
   "cell_type": "code",
   "execution_count": 185,
   "metadata": {},
   "outputs": [
    {
     "name": "stdout",
     "output_type": "stream",
     "text": [
      "Took 0.22076702117919922s\n",
      "Took 0.23158502578735352s\n",
      "Took 0.2404930591583252s\n",
      "Took 0.2515370845794678s\n"
     ]
    }
   ],
   "source": [
    "!mpiexec -n 4 python3 mpi8.py"
   ]
  },
  {
   "cell_type": "code",
   "execution_count": 175,
   "metadata": {},
   "outputs": [
    {
     "name": "stdout",
     "output_type": "stream",
     "text": [
      "(99600,)\n"
     ]
    },
    {
     "data": {
      "image/png": "[encoded data removed]",
      "text/plain": [
       "<matplotlib.figure.Figure at 0x10464d2e8>"
      ]
     },
     "metadata": {},
     "output_type": "display_data"
    }
   ],
   "source": [
    "r = np.loadtxt('mpi_output.dat')\n",
    "print(r.shape)\n",
    "s = np.linspace(0,20,r.shape[0])\n",
    "plt.plot(s,r)\n",
    "plt.show()"
   ]
  },
  {
   "cell_type": "markdown",
   "metadata": {},
   "source": [
    "---\n",
    "## Collective Operations: point-to-point vs collective communication\n",
    "\n",
    "__Collective communication__ allows to send data between multiple processes of a group simultaneously and the most common operations are: \n",
    "\n",
    "- Synchronization\n",
    "  - Processes wait until all members of the group have reached the synchronization point\n",
    "- Global communication functions\n",
    "  - Broadcast data from one member to all members of a group\n",
    "  - Gather data from all members to one member of a group\n",
    "  - Scatter data from one member to all members of a group\n",
    "- Collective computation (reductions)\n",
    "  - One member of the group collects data from the other members and performs an operation (min, max, add, multiply, etc.) on that data.\n",
    "- Collective Input/Output\n",
    "  - Each member of the group reads or writes a section of a file."
   ]
  },
  {
   "cell_type": "markdown",
   "metadata": {},
   "source": [
    "#### Synchronization\n",
    "MPI has a special function that is dedicated to synchronizing processes: __comm.Barrier()__. No process advances until all have called the function.\n",
    "$$\n",
    "\\begin{array}{cc|c}\n",
    "& \\bigcirc & \\\\\n",
    "\\bigcirc& \t & \\\\\n",
    "& \t\\bigcirc & \n",
    "\\end{array}\n",
    "\\Rightarrow\n",
    "\\begin{array}{cc|c}\n",
    "& \\bigcirc & \\\\\n",
    "& \\bigcirc\t & \\\\\n",
    "& \t\\bigcirc & \n",
    "\\end{array}\n",
    "\\Rightarrow\n",
    "\\begin{array}{cc|c}\n",
    "& &\\bigcirc  \\\\\n",
    "& &\\bigcirc\t  \\\\\n",
    "& &\t\\bigcirc  \n",
    "\\end{array}\n",
    "$$\n",
    "\n",
    "#### Broadcasting\n",
    "One process sends the same data to all processes in a communicator using the command __comm.Bcast(buf, root=0)__.\n",
    "\n",
    "#### Scatter\n",
    "Broadcast sends the same piece of data to all processes while scatter sends chunks of an array to different processes. \n",
    "\n",
    "__Comm.Scatter(sendbuf, recvbuf, root=0)__ method takes three arguments. The first is an array of data that resides on the root process. The second parameter is used to hold the received data. The last parameter indicates the root process that is scattering the array of data.\n",
    "\n",
    "#### Gather\n",
    "Gather is the inverse of scatter, taking elements from many processes and gathering them to one single process.\n",
    "\n",
    "__Comm.Gather(sendbuf, recvbuf, root=0)__ method takes the same arguments as __Comm.Scatter__.\n",
    "\n",
    "#### Reduction\n",
    "__Comm.Reduce(sendbuf, recvbuf, op=MPI.SUM, root=0)__ handles almost all of the common reductions that a programmer needs to do in a parallel application.\n",
    "\n",
    "__Comm.Reduce__ takes an array of input elements and returns an array of reduced elements to the root process.\n",
    "- MPI.MAX - Returns the maximum element.\n",
    "- MPI.MIN - Returns the minimum element.\n",
    "- MPI.SUM - Sums the elements.\n",
    "- MPI.PROD - Multiplies all elements.\n",
    "\n",
    "#### Other Colletive Operations\n",
    "- __Comm.Alltoall(sendbuf, recvbuf)__\n",
    "- __File.Open(comm, filename, amode, info)__\n",
    "- __File.Write_all(buffer)__"
   ]
  },
  {
   "cell_type": "markdown",
   "metadata": {},
   "source": [
    "---\n",
    "#### Computing an integral using parallel colletive version "
   ]
  },
  {
   "cell_type": "code",
   "execution_count": 1,
   "metadata": {},
   "outputs": [
    {
     "name": "stdout",
     "output_type": "stream",
     "text": [
      "Overwriting mpi9.py\n"
     ]
    }
   ],
   "source": [
    "%%writefile mpi9.py\n",
    "import numpy\n",
    "from math import acos, cos\n",
    "from mpi4py import MPI\n",
    "\n",
    "comm = MPI.COMM_WORLD\n",
    "rank = comm.Get_rank()\n",
    "size = comm.Get_size()\n",
    "\n",
    "def integral(a_i, h, n):\n",
    "    integ = 0.0\n",
    "    for j in range(n):\n",
    "        a_ij = a_i + (j + 0.5) * h\n",
    "        integ += cos(a_ij) * h\n",
    "    return integ\n",
    "\n",
    "pi = 3.14159265359\n",
    "a = 0.0\n",
    "b = pi / 2.0\n",
    "dest = 0\n",
    "my_int = numpy.zeros(1)\n",
    "integral_sum = numpy.zeros(1)\n",
    "\n",
    "# Initialize value of n only if this is rank 0\n",
    "if rank == 0:\n",
    "    n = numpy.full(1, 500, dtype=int) # default value\n",
    "else:\n",
    "    n = numpy.zeros(1, dtype=int)\n",
    "\n",
    "# Broadcast n to all processes\n",
    "print(\"Process \", rank, \" before n = \", n[0])\n",
    "comm.Bcast(n, root=0)\n",
    "print(\"Process \", rank, \" after n = \", n[0])\n",
    "\n",
    "# Compute partition\n",
    "h = (b - a) / (n * size) # calculate h *after* we receive n\n",
    "a_i = a + rank * h * n\n",
    "my_int[0] = integral(a_i, h, n[0])\n",
    "\n",
    "# Send partition back to root process, computing sum across all partitions\n",
    "print(\"Process \", rank, \" has the partial integral \", my_int[0])\n",
    "comm.Reduce(my_int, integral_sum, MPI.SUM, dest)\n",
    "\n",
    "# Only print the result in process 0\n",
    "if rank == 0:\n",
    "    print('The Integral Sum =', integral_sum[0])"
   ]
  },
  {
   "cell_type": "code",
   "execution_count": 2,
   "metadata": {},
   "outputs": [
    {
     "name": "stdout",
     "output_type": "stream",
     "text": [
      "Process  0  before n =  500\r\n",
      "Process  1  before n =  0\r\n",
      "Process  2  before n =  0\r\n",
      "Process  3  before n =  0\r\n",
      "Process  0  after n =  500\r\n",
      "Process  2  after n =  500\r\n",
      "Process  1  after n =  500\r\n",
      "Process  3  after n =  500\r\n",
      "Process  0  has the partial integral  0.382683442201\r\n",
      "Process  2  has the partial integral  0.216772756896\r\n",
      "Process  3  has the partial integral  0.0761204694451\r\n",
      "Process  1  has the partial integral  0.32442335716\r\n",
      "The Integral Sum = 1.0000000257\r\n"
     ]
    }
   ],
   "source": [
    "!mpiexec -n 4 python3 mpi9.py"
   ]
  },
  {
   "cell_type": "markdown",
   "metadata": {},
   "source": [
    "### Communication of buffer-like objects\n",
    "When using the upper case version of the methods (Send, Irecv, Gather, etc.) the data object must support the single-segment buffer interface. This interface is a standard Python mechanism provided by some types (e.g., strings and numeric arrays), which is why we have been using NumPy arrays in the examples.\n",
    "\n",
    "### Communication of generic Python objects\n",
    "It is also possible to transmit an arbitrary Python data type using the lower case version of the methods (send, irecv, gather, etc.) mpi4py will serialize the data type, send it to the remote process, then deserialize it back to the original data type (a process known as pickling and unpickling). While this is simple, it also adds significant overhead to the MPI operation."
   ]
  }
 ],
 "metadata": {
  "kernelspec": {
   "display_name": "Python 3",
   "language": "python",
   "name": "python3"
  },
  "language_info": {
   "codemirror_mode": {
    "name": "ipython",
    "version": 3
   },
   "file_extension": ".py",
   "mimetype": "text/x-python",
   "name": "python",
   "nbconvert_exporter": "python",
   "pygments_lexer": "ipython3",
   "version": "3.6.1"
  }
 },
 "nbformat": 4,
 "nbformat_minor": 2
}
