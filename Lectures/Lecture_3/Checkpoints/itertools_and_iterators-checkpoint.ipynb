{
 "cells": [
  {
   "cell_type": "markdown",
   "metadata": {},
   "source": [
    "# The itertools Module\n",
    "(lecture based on the material by [Dr. Gregory Watson](https://nyu-cds.github.io/python-itertools/))"
   ]
  },
  {
   "cell_type": "markdown",
   "metadata": {},
   "source": [
    "In this lecture we will learn about:\n",
    "\n",
    "- The concept of iterators\n",
    "- Infinite Iterators\n",
    "- Finite Iterators\n",
    "- Combinatoric Generators"
   ]
  },
  {
   "cell_type": "markdown",
   "metadata": {},
   "source": [
    "The __itertools__ module implements a number of iterator building blocks that provide fast, memory efficient tools.\n",
    "\n",
    "An iterator is an object that provides two methods:\n",
    "\n",
    "- __next__ which returns the next value from the iterator\n",
    "- __iter__ which returns the iterator itself\n",
    "\n",
    "An iterator behaves like a list of values, with some important differences:\n",
    "\n",
    "- The values are generated on demand (sequence is stored in memory)\n",
    "- The values can only be accessed in sequence (not like an array)\n",
    "- The values can only be accessed once"
   ]
  },
  {
   "cell_type": "code",
   "execution_count": 16,
   "metadata": {},
   "outputs": [
    {
     "name": "stdout",
     "output_type": "stream",
     "text": [
      "P\n",
      "Y\n",
      "['T', 'H', 'O', 'N']\n"
     ]
    },
    {
     "ename": "StopIteration",
     "evalue": "",
     "output_type": "error",
     "traceback": [
      "\u001b[0;31m---------------------------------------------------------------------------\u001b[0m",
      "\u001b[0;31mStopIteration\u001b[0m                             Traceback (most recent call last)",
      "\u001b[0;32m<ipython-input-16-b1a66e36b3be>\u001b[0m in \u001b[0;36m<module>\u001b[0;34m()\u001b[0m\n\u001b[1;32m      7\u001b[0m \u001b[0;34m\u001b[0m\u001b[0m\n\u001b[1;32m      8\u001b[0m \u001b[0;31m# at this point the iterator is done\u001b[0m\u001b[0;34m\u001b[0m\u001b[0;34m\u001b[0m\u001b[0m\n\u001b[0;32m----> 9\u001b[0;31m \u001b[0mprint\u001b[0m\u001b[0;34m(\u001b[0m\u001b[0mit\u001b[0m\u001b[0;34m.\u001b[0m\u001b[0m__next__\u001b[0m\u001b[0;34m(\u001b[0m\u001b[0;34m)\u001b[0m\u001b[0;34m)\u001b[0m\u001b[0;34m\u001b[0m\u001b[0m\n\u001b[0m",
      "\u001b[0;31mStopIteration\u001b[0m: "
     ]
    }
   ],
   "source": [
    "it = iter('PYTHON')\n",
    "\n",
    "print(it.__next__())\n",
    "print(it.__next__())\n",
    "l = [i for i in it]\n",
    "print(l)\n",
    "\n",
    "# at this point the iterator is done\n",
    "print(it.__next__())"
   ]
  },
  {
   "cell_type": "code",
   "execution_count": null,
   "metadata": {},
   "outputs": [],
   "source": [
    "it = iter('DS-GA-3001.001')\n",
    "\n",
    "print(list(enumerate(it)))\n",
    "    \n",
    "# At this point the iterator is done\n",
    "\n",
    "print(list(enumerate(it)))"
   ]
  },
  {
   "cell_type": "markdown",
   "metadata": {},
   "source": [
    "## Infinite Iterators\n",
    "__itertools__ package comes with three iterators that can iterate infinitely.\n",
    "- useful for generating numbers or cycling over iterables of unknown length\n",
    "- infinite iterators need to be stopped"
   ]
  },
  {
   "cell_type": "markdown",
   "metadata": {},
   "source": [
    "#### itertools.count(start,step)"
   ]
  },
  {
   "cell_type": "code",
   "execution_count": 21,
   "metadata": {},
   "outputs": [
    {
     "name": "stdout",
     "output_type": "stream",
     "text": [
      "10\n",
      "13\n",
      "16\n",
      "19\n",
      "22\n",
      "25\n",
      "28\n"
     ]
    }
   ],
   "source": [
    "from itertools import count\n",
    "\n",
    "for i in count(10, 3):\n",
    "    if i > 30: \n",
    "        break\n",
    "    else:\n",
    "        print(i)"
   ]
  },
  {
   "cell_type": "markdown",
   "metadata": {},
   "source": [
    "#### itertools.islice(seq, [start,] stop [, step])"
   ]
  },
  {
   "cell_type": "code",
   "execution_count": 28,
   "metadata": {},
   "outputs": [
    {
     "name": "stdout",
     "output_type": "stream",
     "text": [
      "[10, 13, 16, 19, 22, 25, 28]\n",
      "[25, 28]\n",
      "[16, 22, 28]\n"
     ]
    }
   ],
   "source": [
    "from itertools import islice\n",
    "\n",
    "print(list(islice(count(10,3),7)))\n",
    "print(list(islice(count(10,3),5,7)))\n",
    "print(list(islice(count(10,3),2,8,2)))"
   ]
  },
  {
   "cell_type": "code",
   "execution_count": 32,
   "metadata": {},
   "outputs": [
    {
     "name": "stdout",
     "output_type": "stream",
     "text": [
      "['C', 'D', 'E', 'F', 'G']\n"
     ]
    }
   ],
   "source": [
    "print(list(islice('ABCDEFG', 2, None)))"
   ]
  },
  {
   "cell_type": "markdown",
   "metadata": {},
   "source": [
    "#### itertools.cycle(seq)"
   ]
  },
  {
   "cell_type": "code",
   "execution_count": 29,
   "metadata": {},
   "outputs": [
    {
     "name": "stdout",
     "output_type": "stream",
     "text": [
      "['a', 'b', 'c', 'a', 'b', 'c', 'a', 'b', 'c', 'a']\n"
     ]
    }
   ],
   "source": [
    "from itertools import cycle\n",
    "\n",
    "print(list(islice(cycle('abc'),10)))"
   ]
  },
  {
   "cell_type": "code",
   "execution_count": 36,
   "metadata": {},
   "outputs": [
    {
     "name": "stdout",
     "output_type": "stream",
     "text": [
      "advanced\n",
      "python\n",
      "for\n",
      "data\n",
      "science\n",
      "advanced\n",
      "python\n",
      "for\n",
      "data\n",
      "science\n",
      "-----\n",
      "advanced\n",
      "python\n",
      "for\n",
      "data\n",
      "science\n",
      "advanced\n",
      "python\n",
      "for\n",
      "data\n",
      "science\n"
     ]
    }
   ],
   "source": [
    "# iterators can be used in different ways\n",
    "l = ['advanced','python','for','data','science']\n",
    "\n",
    "liter=islice(cycle(l),10)\n",
    "for i in liter:\n",
    "    print(i)\n",
    "\n",
    "print('-----')\n",
    "liter=islice(cycle(l),10)  # why do we have to restate liter?\n",
    "for i in range(10):\n",
    "    print(next(liter))"
   ]
  },
  {
   "cell_type": "markdown",
   "metadata": {},
   "source": [
    "#### itertools.repeat(elem [,times])"
   ]
  },
  {
   "cell_type": "code",
   "execution_count": 37,
   "metadata": {},
   "outputs": [
    {
     "name": "stdout",
     "output_type": "stream",
     "text": [
      "['abcd', 'abcd', 'abcd', 'abcd', 'abcd']\n"
     ]
    }
   ],
   "source": [
    "from itertools import repeat\n",
    "\n",
    "print(list(repeat('abcd',5)))"
   ]
  },
  {
   "cell_type": "markdown",
   "metadata": {},
   "source": [
    "## Finite Iterators\n",
    "itertools also has a numbert of iterators that terminate."
   ]
  },
  {
   "cell_type": "markdown",
   "metadata": {},
   "source": [
    "#### itertools.accumulate(seq [, func])"
   ]
  },
  {
   "cell_type": "code",
   "execution_count": 39,
   "metadata": {},
   "outputs": [
    {
     "name": "stdout",
     "output_type": "stream",
     "text": [
      "[0, 1, 3, 6, 10, 15, 21, 28, 36, 45]\n",
      "[1, 2, 6, 24]\n"
     ]
    }
   ],
   "source": [
    "from itertools import accumulate\n",
    "import operator\n",
    "\n",
    "print(list(accumulate(range(10)))) # 0, 0+1, 1+2, 3+3, 6+4,...\n",
    "\n",
    "print(list(accumulate(range(1,5),operator.mul))) # 1, 1*2, 2*3, 6*4"
   ]
  },
  {
   "cell_type": "code",
   "execution_count": 40,
   "metadata": {},
   "outputs": [
    {
     "name": "stdout",
     "output_type": "stream",
     "text": [
      "['a', 'ab', 'abc']\n"
     ]
    }
   ],
   "source": [
    "# it can also handle non-numeric lists\n",
    "print(list(accumulate('abc')))"
   ]
  },
  {
   "cell_type": "markdown",
   "metadata": {},
   "source": [
    "#### itertools.chain(*seq)\n",
    "flats a sequences"
   ]
  },
  {
   "cell_type": "code",
   "execution_count": 119,
   "metadata": {},
   "outputs": [
    {
     "name": "stdout",
     "output_type": "stream",
     "text": [
      "['a', 'ab', 'abc', 'a', 'ab', 'abc', 'a', 'ab', 'abc', 'a']\n",
      "['a', 'ab', 'abc', 'a', 'ab', 'abc', 'a', 'ab', 'abc', 'a']\n"
     ]
    }
   ],
   "source": [
    "from itertools import chain\n",
    "\n",
    "n = 10\n",
    "li = list(accumulate('abc'))\n",
    "l = [[] for i in range(n)]\n",
    "for i in range(n):\n",
    "    l[i] = list(islice(cycle(li),10))\n",
    "\n",
    "print(l[0][:])\n",
    "print(l[1][:])"
   ]
  },
  {
   "cell_type": "code",
   "execution_count": 114,
   "metadata": {},
   "outputs": [
    {
     "name": "stdout",
     "output_type": "stream",
     "text": [
      "['a', 'ab', 'abc', 'a', 'ab', 'abc', 'a', 'ab', 'abc', 'a', 'ab', 'abc', 'a', 'ab', 'abc', 'a', 'ab', 'abc', 'a', 'ab']\n"
     ]
    }
   ],
   "source": [
    "%%timeit -n 10 \n",
    "lflat1 = list(chain(*l))\n",
    "\n",
    "#print(lflat1[:20])"
   ]
  },
  {
   "cell_type": "code",
   "execution_count": 115,
   "metadata": {},
   "outputs": [
    {
     "name": "stdout",
     "output_type": "stream",
     "text": [
      "['a', 'ab', 'abc', 'a', 'ab', 'abc', 'a', 'ab', 'abc', 'a', 'ab', 'abc', 'a', 'ab', 'abc', 'a', 'ab', 'abc', 'a', 'ab']\n"
     ]
    }
   ],
   "source": [
    "%%timeit -n 10\n",
    "\n",
    "lflat2 = []\n",
    "for i in range(n):\n",
    "    lflat2.extend(l[i])\n",
    "\n",
    "#print(lflat2[:20])"
   ]
  },
  {
   "cell_type": "code",
   "execution_count": 120,
   "metadata": {},
   "outputs": [
    {
     "name": "stdout",
     "output_type": "stream",
     "text": [
      "['a', 'ab', 'abc', 'a', 'ab', 'abc', 'a', 'ab', 'abc', 'a', 'a', 'ab', 'abc', 'a', 'ab', 'abc', 'a', 'ab', 'abc', 'a']\n"
     ]
    }
   ],
   "source": [
    "%%timeit -n 10\n",
    "\n",
    "lflat2 = []\n",
    "for i in range(n):\n",
    "    lflat2 += l[i]\n",
    "\n",
    "#print(lflat2[:20])"
   ]
  },
  {
   "cell_type": "code",
   "execution_count": 109,
   "metadata": {},
   "outputs": [
    {
     "name": "stdout",
     "output_type": "stream",
     "text": [
      "99.3 ms ± 2.12 ms per loop (mean ± std. dev. of 7 runs, 10 loops each)\n"
     ]
    }
   ],
   "source": [
    "%%timeit -n 10 \n",
    "lflat1 = list(chain.from_iterable(l))\n",
    "\n",
    "#print(lflat1[:10])"
   ]
  },
  {
   "cell_type": "markdown",
   "metadata": {},
   "source": [
    "#### itertools.compress(seq, selectors)\n",
    "Useful for filtering an iterable using a second iterable"
   ]
  },
  {
   "cell_type": "code",
   "execution_count": 121,
   "metadata": {},
   "outputs": [
    {
     "name": "stdout",
     "output_type": "stream",
     "text": [
      "['A', 'C', 'D']\n"
     ]
    }
   ],
   "source": [
    "from itertools import compress\n",
    "\n",
    "letters = 'ABCDEFG'\n",
    "bools = [True, False, True, True, False]\n",
    "\n",
    "# notice the sizes do not need to match\n",
    "\n",
    "print(list(compress(letters, bools)))"
   ]
  },
  {
   "cell_type": "markdown",
   "metadata": {},
   "source": [
    "#### itertools.dropwhile(predicate, seq) and itertools.takewhile(predicate, seq)\n",
    "- Drop the elements whose predicate is False\n",
    "- Take the elements whose predicate is True"
   ]
  },
  {
   "cell_type": "code",
   "execution_count": 144,
   "metadata": {},
   "outputs": [
    {
     "name": "stdout",
     "output_type": "stream",
     "text": [
      "[1, 2, 3, 10]\n",
      "[6, 7, 8, 9]\n"
     ]
    }
   ],
   "source": [
    "from itertools import dropwhile, takewhile\n",
    "\n",
    "print(list(dropwhile(lambda x: x > 5, [6, 7, 8, 9, 1, 2, 3, 10])))\n",
    "print(list(takewhile(lambda x: x > 5, [6, 7, 8, 9, 1, 2, 3, 10])))"
   ]
  },
  {
   "cell_type": "markdown",
   "metadata": {},
   "source": [
    "#### itertools.filterfalse(predicate, seq) "
   ]
  },
  {
   "cell_type": "code",
   "execution_count": 123,
   "metadata": {},
   "outputs": [
    {
     "name": "stdout",
     "output_type": "stream",
     "text": [
      "[6, 7, 8, 9, 10]\n"
     ]
    }
   ],
   "source": [
    "from itertools import filterfalse\n",
    "\n",
    "print(list(filterfalse(lambda x: x<5, [6, 7, 8, 9, 1, 2, 3, 10])))"
   ]
  },
  {
   "cell_type": "markdown",
   "metadata": {},
   "source": [
    "#### itertools.groupby(seq, key=None)\n",
    "Return consecutive keys and groups from the seq."
   ]
  },
  {
   "cell_type": "code",
   "execution_count": 132,
   "metadata": {},
   "outputs": [
    {
     "name": "stdout",
     "output_type": "stream",
     "text": [
      "0 [0, 1, 2, 3, 4]\n",
      "1 [5, 6, 7, 8, 9]\n",
      "2 [10, 11, 12, 13, 14]\n"
     ]
    }
   ],
   "source": [
    "from itertools import groupby\n",
    " \n",
    "numbers = range(15)\n",
    "\n",
    "for key, group in groupby(numbers, lambda x: x//5):\n",
    "    print(key,list(group))\n",
    "    \n",
    "# groups are formed from consecutive elements"
   ]
  },
  {
   "cell_type": "code",
   "execution_count": 133,
   "metadata": {},
   "outputs": [
    {
     "name": "stdout",
     "output_type": "stream",
     "text": [
      "0 [0]\n",
      "1 [1]\n",
      "0 [2]\n",
      "1 [3]\n",
      "0 [4]\n",
      "1 [5]\n",
      "0 [6]\n",
      "1 [7]\n",
      "0 [8]\n",
      "1 [9]\n",
      "0 [10]\n",
      "1 [11]\n",
      "0 [12]\n",
      "1 [13]\n",
      "0 [14]\n"
     ]
    }
   ],
   "source": [
    "for key, group in groupby(numbers, lambda x: x%2):\n",
    "    print(key,list(group))"
   ]
  },
  {
   "cell_type": "code",
   "execution_count": 140,
   "metadata": {},
   "outputs": [
    {
     "name": "stdout",
     "output_type": "stream",
     "text": [
      "[(0, 0), (0, 2), (0, 4), (0, 6), (0, 8), (0, 10), (0, 12), (0, 14), (1, 1), (1, 3), (1, 5), (1, 7), (1, 9), (1, 11), (1, 13)]\n",
      "0 [0, 2, 4, 6, 8, 10, 12, 14]\n",
      "1 [1, 3, 5, 7, 9, 11, 13]\n"
     ]
    }
   ],
   "source": [
    "even_odd = [(x%2,x) for x in numbers]\n",
    "even_odd = sorted(even_odd)\n",
    "print(even_odd)\n",
    "\n",
    "for key, group in groupby(even_odd, lambda x: x[0]):\n",
    "    print(key,[i for k,i in group])"
   ]
  },
  {
   "cell_type": "markdown",
   "metadata": {},
   "source": [
    "#### itertools.starmap(function, seq)"
   ]
  },
  {
   "cell_type": "code",
   "execution_count": 141,
   "metadata": {},
   "outputs": [
    {
     "name": "stdout",
     "output_type": "stream",
     "text": [
      "5\n",
      "9\n"
     ]
    }
   ],
   "source": [
    "from itertools import starmap\n",
    "\n",
    "for item in starmap(lambda a,b: a+b, [(2,3), (4,5)]):\n",
    "    print(item)"
   ]
  },
  {
   "cell_type": "code",
   "execution_count": 142,
   "metadata": {},
   "outputs": [
    {
     "name": "stdout",
     "output_type": "stream",
     "text": [
      "5\n",
      "9\n"
     ]
    }
   ],
   "source": [
    "def add(a, b):\n",
    "    return a+b\n",
    " \n",
    "for item in starmap(add, [(2,3), (4,5)]):\n",
    "    print(item)"
   ]
  },
  {
   "cell_type": "markdown",
   "metadata": {},
   "source": [
    "#### itertools.tee(seq, n=2)\n",
    "Creates n iterators from the seq"
   ]
  },
  {
   "cell_type": "code",
   "execution_count": 148,
   "metadata": {},
   "outputs": [
    {
     "name": "stdout",
     "output_type": "stream",
     "text": [
      "iterator  0\n",
      "A\n",
      "B\n",
      "C\n",
      "D\n",
      "E\n",
      "iterator  1\n",
      "A\n",
      "B\n",
      "C\n",
      "D\n",
      "E\n",
      "iterator  2\n",
      "A\n",
      "B\n",
      "C\n",
      "D\n",
      "E\n"
     ]
    }
   ],
   "source": [
    "from itertools import tee\n",
    "data = 'ABCDE'\n",
    "iters = tee(data,3)\n",
    "\n",
    "for i in range(3):\n",
    "    print('iterator ',i)\n",
    "    for item in iters[i]:\n",
    "        print(item)"
   ]
  },
  {
   "cell_type": "markdown",
   "metadata": {},
   "source": [
    "#### itertools.zip_longest(*seq, fillvalue=None)"
   ]
  },
  {
   "cell_type": "code",
   "execution_count": 154,
   "metadata": {},
   "outputs": [
    {
     "name": "stdout",
     "output_type": "stream",
     "text": [
      "[('A', 'x'), ('B', 'y'), ('C', 'BLANK'), ('D', 'BLANK')]\n",
      "[('A', 'x', 0), ('B', 'y', 1), ('C', 'BLANK', 2), ('D', 'BLANK', 3), ('BLANK', 'BLANK', 4)]\n",
      "[(['ABCD'],), (['xy'],), ([range(0, 5)],)]\n"
     ]
    }
   ],
   "source": [
    "from itertools import zip_longest\n",
    "\n",
    "print(list(zip_longest('ABCD', 'xy', fillvalue='BLANK')))\n",
    "\n",
    "print(list(zip_longest('ABCD', 'xy',range(5), fillvalue='BLANK')))"
   ]
  },
  {
   "cell_type": "code",
   "execution_count": 156,
   "metadata": {},
   "outputs": [
    {
     "name": "stdout",
     "output_type": "stream",
     "text": [
      "{'A': ['xy'], 'B': ['zk'], 'C': 'BLANK', 'D': 'BLANK'}\n"
     ]
    }
   ],
   "source": [
    "# usefull to create dictionaries\n",
    "\n",
    "l = [['xy'],['zk']]\n",
    "\n",
    "dc = dict(zip_longest('ABCD', l, fillvalue='BLANK'))\n",
    "print(dc)"
   ]
  },
  {
   "cell_type": "markdown",
   "metadata": {},
   "source": [
    "## Combinatoric Generators\n",
    "Iterators that can be used for creating combinations and permutations of data"
   ]
  },
  {
   "cell_type": "markdown",
   "metadata": {},
   "source": [
    "#### itertools.combinations(seq, r) \n",
    "#### itertools.combinations_with_replacement(seq, r)"
   ]
  },
  {
   "cell_type": "code",
   "execution_count": 162,
   "metadata": {},
   "outputs": [
    {
     "name": "stdout",
     "output_type": "stream",
     "text": [
      "[('W', 'X'), ('W', 'Y'), ('W', 'Z'), ('X', 'Y'), ('X', 'Z'), ('Y', 'Z')]\n",
      "[('W', 'X', 'Y'), ('W', 'X', 'Z'), ('W', 'Y', 'Z'), ('X', 'Y', 'Z')]\n"
     ]
    }
   ],
   "source": [
    "from itertools import combinations, combinations_with_replacement\n",
    "\n",
    "print(list(combinations('WXYZ', 2)))\n",
    "print(list(combinations('WXYZ', 3)))"
   ]
  },
  {
   "cell_type": "code",
   "execution_count": 160,
   "metadata": {},
   "outputs": [
    {
     "name": "stdout",
     "output_type": "stream",
     "text": [
      "WX\n",
      "WY\n",
      "WZ\n",
      "XY\n",
      "XZ\n",
      "YZ\n"
     ]
    }
   ],
   "source": [
    "for item in combinations('WXYZ', 2):\n",
    "    print(''.join(item))"
   ]
  },
  {
   "cell_type": "code",
   "execution_count": 166,
   "metadata": {},
   "outputs": [
    {
     "name": "stdout",
     "output_type": "stream",
     "text": [
      "WW\n",
      "WX\n",
      "WY\n",
      "WZ\n",
      "XX\n",
      "XY\n",
      "XZ\n",
      "YY\n",
      "YZ\n",
      "ZZ\n"
     ]
    }
   ],
   "source": [
    "for item in combinations_with_replacement('WXYZ', 2):\n",
    "    print(''.join(item))"
   ]
  },
  {
   "cell_type": "markdown",
   "metadata": {},
   "source": [
    "#### itertools.product(*seq repeat=1)\n",
    "Produces the cartesian product of sequences"
   ]
  },
  {
   "cell_type": "code",
   "execution_count": 167,
   "metadata": {},
   "outputs": [
    {
     "name": "stdout",
     "output_type": "stream",
     "text": [
      "[(-1, -3, -5), (-1, -3, 5), (-1, 3, -5), (-1, 3, 5), (1, -3, -5), (1, -3, 5), (1, 3, -5), (1, 3, 5)]\n"
     ]
    }
   ],
   "source": [
    "from itertools import product\n",
    "\n",
    "arrays = [(-1,1), (-3,3), (-5,5)]\n",
    "cp = list(product(*arrays))\n",
    "print(cp)"
   ]
  },
  {
   "cell_type": "markdown",
   "metadata": {},
   "source": [
    "#### itertools.permutations(iterable, r=None)"
   ]
  },
  {
   "cell_type": "code",
   "execution_count": 168,
   "metadata": {},
   "outputs": [
    {
     "name": "stdout",
     "output_type": "stream",
     "text": [
      "WX\n",
      "WY\n",
      "WZ\n",
      "XW\n",
      "XY\n",
      "XZ\n",
      "YW\n",
      "YX\n",
      "YZ\n",
      "ZW\n",
      "ZX\n",
      "ZY\n"
     ]
    }
   ],
   "source": [
    "from itertools import permutations\n",
    "\n",
    "for item in permutations('WXYZ', 2):\n",
    "    print(''.join(item))"
   ]
  },
  {
   "cell_type": "code",
   "execution_count": 171,
   "metadata": {},
   "outputs": [
    {
     "name": "stdout",
     "output_type": "stream",
     "text": [
      "[[[[ 1.  1.  1.]\n",
      "   [ 1.  1.  1.]\n",
      "   [ 1.  1.  1.]]\n",
      "\n",
      "  [[ 1.  1.  1.]\n",
      "   [ 1.  1.  1.]\n",
      "   [ 1.  1.  1.]]\n",
      "\n",
      "  [[ 1.  1.  1.]\n",
      "   [ 1.  1.  1.]\n",
      "   [ 1.  1.  1.]]]\n",
      "\n",
      "\n",
      " [[[ 1.  1.  1.]\n",
      "   [ 1.  1.  1.]\n",
      "   [ 1.  1.  1.]]\n",
      "\n",
      "  [[ 1.  1.  1.]\n",
      "   [ 1.  1.  1.]\n",
      "   [ 1.  1.  1.]]\n",
      "\n",
      "  [[ 1.  1.  1.]\n",
      "   [ 1.  1.  1.]\n",
      "   [ 1.  1.  1.]]]\n",
      "\n",
      "\n",
      " [[[ 1.  1.  1.]\n",
      "   [ 1.  1.  1.]\n",
      "   [ 1.  1.  1.]]\n",
      "\n",
      "  [[ 1.  1.  1.]\n",
      "   [ 1.  1.  1.]\n",
      "   [ 1.  1.  1.]]\n",
      "\n",
      "  [[ 1.  1.  1.]\n",
      "   [ 1.  1.  1.]\n",
      "   [ 1.  1.  1.]]]]\n"
     ]
    }
   ],
   "source": [
    "import numpy as np\n",
    "\n",
    "M = np.zeros((2,2,2,2))\n",
    "cids = product((0,1,2),(0,1,2),(0,1,2),(0,1,2))\n",
    "for i in cids:\n",
    "    M[i]=1\n",
    "    \n",
    "print(M)"
   ]
  }
 ],
 "metadata": {
  "kernelspec": {
   "display_name": "Python 3",
   "language": "python",
   "name": "python3"
  },
  "language_info": {
   "codemirror_mode": {
    "name": "ipython",
    "version": 3
   },
   "file_extension": ".py",
   "mimetype": "text/x-python",
   "name": "python",
   "nbconvert_exporter": "python",
   "pygments_lexer": "ipython3",
   "version": "3.6.1"
  }
 },
 "nbformat": 4,
 "nbformat_minor": 2
}
