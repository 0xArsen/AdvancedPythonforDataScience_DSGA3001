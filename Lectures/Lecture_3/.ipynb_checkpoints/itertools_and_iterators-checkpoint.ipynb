{
 "cells": [
  {
   "cell_type": "markdown",
   "metadata": {},
   "source": [
    "# The itertools Module\n",
    "(lecture based on the material by [Dr. Gregory Watson](https://nyu-cds.github.io/python-itertools/))"
   ]
  },
  {
   "cell_type": "markdown",
   "metadata": {},
   "source": [
    "In this lecture we will learn about:\n",
    "\n",
    "- The concept of iterators\n",
    "- Infinite Iterators\n",
    "- Finite Iterators\n",
    "- Combinatoric Generators"
   ]
  },
  {
   "cell_type": "markdown",
   "metadata": {},
   "source": [
    "The __itertools__ module implements a number of iterator building blocks that provide fast, memory efficient tools.\n",
    "\n",
    "An iterator is an object that provides two methods:\n",
    "\n",
    "- __next__ which returns the next value from the iterator\n",
    "- __iter__ which returns the iterator itself\n",
    "\n",
    "An iterator behaves like a list of values, with some important differences:\n",
    "\n",
    "- The values are generated on demand (sequence is stored in memory)\n",
    "- The values can only be accessed in sequence (not like an array)\n",
    "- The values can only be accessed once"
   ]
  },
  {
   "cell_type": "code",
   "execution_count": null,
   "metadata": {
    "collapsed": true
   },
   "outputs": [],
   "source": [
    "it = iter('PYTHON')\n",
    "\n",
    "print(it.__next__())\n",
    "print(it.__next__())\n",
    "l = [i for i in it]\n",
    "print(l)\n",
    "\n",
    "# at this point the iterator is done\n",
    "print(it.__next__())"
   ]
  },
  {
   "cell_type": "code",
   "execution_count": null,
   "metadata": {
    "collapsed": true
   },
   "outputs": [],
   "source": [
    "it = iter('DS-GA-3001.001')\n",
    "\n",
    "print(list(enumerate(it)))\n",
    "\n",
    "# At this point the iterator is done\n",
    "\n",
    "print(list(enumerate(it)))"
   ]
  },
  {
   "cell_type": "markdown",
   "metadata": {},
   "source": [
    "## Infinite Iterators\n",
    "__itertools__ package comes with three iterators that can iterate infinitely.\n",
    "- useful for generating numbers or cycling over iterables of unknown length\n",
    "- infinite iterators need to be stopped"
   ]
  },
  {
   "cell_type": "markdown",
   "metadata": {},
   "source": [
    "#### itertools.count(start,step)"
   ]
  },
  {
   "cell_type": "code",
   "execution_count": null,
   "metadata": {
    "collapsed": true
   },
   "outputs": [],
   "source": [
    "from itertools import count\n",
    "\n",
    "for i in count(10, 3):\n",
    "    if i > 30: \n",
    "        break\n",
    "    else:\n",
    "        print(i)"
   ]
  },
  {
   "cell_type": "markdown",
   "metadata": {},
   "source": [
    "#### itertools.islice(seq, [start,] stop [, step])"
   ]
  },
  {
   "cell_type": "code",
   "execution_count": null,
   "metadata": {},
   "outputs": [],
   "source": [
    "from itertools import islice\n",
    "\n",
    "print(list(islice(count(10,3),7)))\n",
    "print(list(islice(count(10,3),5,7)))\n",
    "print(list(islice(count(10,3),2,8,2)))"
   ]
  },
  {
   "cell_type": "code",
   "execution_count": null,
   "metadata": {},
   "outputs": [],
   "source": [
    "print(list(islice('ABCDEFG', 2, None)))"
   ]
  },
  {
   "cell_type": "markdown",
   "metadata": {},
   "source": [
    "#### itertools.cycle(seq)"
   ]
  },
  {
   "cell_type": "code",
   "execution_count": null,
   "metadata": {},
   "outputs": [],
   "source": [
    "from itertools import cycle\n",
    "\n",
    "print(list(islice(cycle('abc'),10)))\n",
    "#print(islice(cycle('abc'),10))"
   ]
  },
  {
   "cell_type": "code",
   "execution_count": null,
   "metadata": {
    "collapsed": true
   },
   "outputs": [],
   "source": [
    "# iterators can be used in different ways\n",
    "l = ['advanced','python','for','data','science']"
   ]
  },
  {
   "cell_type": "code",
   "execution_count": null,
   "metadata": {},
   "outputs": [],
   "source": [
    "%%timeit -n 1\n",
    "liter=islice(cycle(l),10)\n",
    "for i in liter:\n",
    "    print(i)"
   ]
  },
  {
   "cell_type": "code",
   "execution_count": null,
   "metadata": {},
   "outputs": [],
   "source": [
    "%%timeit -n 1\n",
    "liter=islice(cycle(l),10)  # why do we have to restate liter?\n",
    "for i in range(10):\n",
    "    print(next(liter))"
   ]
  },
  {
   "cell_type": "code",
   "execution_count": null,
   "metadata": {},
   "outputs": [],
   "source": [
    "%%timeit -n 1\n",
    "liter=cycle(l)\n",
    "for i in range(11):\n",
    "    print(liter.__next__())"
   ]
  },
  {
   "cell_type": "markdown",
   "metadata": {},
   "source": [
    "#### itertools.repeat(elem [,times])"
   ]
  },
  {
   "cell_type": "code",
   "execution_count": null,
   "metadata": {},
   "outputs": [],
   "source": [
    "from itertools import repeat\n",
    "\n",
    "print(list(repeat('abcde',5)))\n",
    "#print(list(repeat(l,5)))"
   ]
  },
  {
   "cell_type": "markdown",
   "metadata": {},
   "source": [
    "## Finite Iterators\n",
    "itertools also has a numbert of iterators that terminate."
   ]
  },
  {
   "cell_type": "markdown",
   "metadata": {},
   "source": [
    "#### itertools.accumulate(seq [, func])"
   ]
  },
  {
   "cell_type": "code",
   "execution_count": null,
   "metadata": {},
   "outputs": [],
   "source": [
    "from itertools import accumulate\n",
    "import operator\n",
    "\n",
    "print(list(accumulate(range(10)))) # 0, 0+1, 1+2, 3+3, 6+4,...\n",
    "\n",
    "print(list(accumulate(range(1,5),operator.mul))) # 1, 1*2, 2*3, 6*4"
   ]
  },
  {
   "cell_type": "code",
   "execution_count": null,
   "metadata": {},
   "outputs": [],
   "source": [
    "# it can also handle non-numeric lists\n",
    "print(list(accumulate('abc')))\n",
    "print(list(accumulate(repeat('abc',3))))"
   ]
  },
  {
   "cell_type": "markdown",
   "metadata": {},
   "source": [
    "#### itertools.chain(*seq)\n",
    "flats a sequences"
   ]
  },
  {
   "cell_type": "code",
   "execution_count": null,
   "metadata": {},
   "outputs": [],
   "source": [
    "from itertools import chain\n",
    "\n",
    "n = 100000\n",
    "li = list(accumulate('abc'))\n",
    "l = [[] for i in range(n)]\n",
    "for i in range(n):\n",
    "    l[i] = list(islice(cycle(li),10))\n",
    "\n",
    "print(l[0][:])\n",
    "print(l[1][:])\n",
    "\n",
    "# remove the for loop using iterators"
   ]
  },
  {
   "cell_type": "code",
   "execution_count": null,
   "metadata": {
    "collapsed": true
   },
   "outputs": [],
   "source": [
    "%%timeit -n 10 \n",
    "lflat1 = list(chain(*l))\n",
    "print(lflat1[:20])"
   ]
  },
  {
   "cell_type": "code",
   "execution_count": null,
   "metadata": {},
   "outputs": [],
   "source": [
    "%%timeit -n 10\n",
    "\n",
    "lflat2 = []\n",
    "for i in range(n):\n",
    "    lflat2.extend(l[i])\n",
    "\n",
    "#print(lflat2[:20])"
   ]
  },
  {
   "cell_type": "code",
   "execution_count": null,
   "metadata": {},
   "outputs": [],
   "source": [
    "%%timeit -n 10\n",
    "\n",
    "lflat3 = []\n",
    "for i in range(n):\n",
    "    lflat3 += l[i]\n",
    "\n",
    "#print(lflat3[:20])"
   ]
  },
  {
   "cell_type": "code",
   "execution_count": null,
   "metadata": {
    "collapsed": true
   },
   "outputs": [],
   "source": [
    "%%timeit -n 10 \n",
    "lflat1 = list(chain.from_iterable(l))\n",
    "\n",
    "#print(lflat1[:10])"
   ]
  },
  {
   "cell_type": "markdown",
   "metadata": {},
   "source": [
    "#### itertools.compress(seq, selectors)\n",
    "Useful for filtering an iterable using a second iterable"
   ]
  },
  {
   "cell_type": "code",
   "execution_count": null,
   "metadata": {},
   "outputs": [],
   "source": [
    "from itertools import compress\n",
    "\n",
    "letters = 'ABCDEFG'\n",
    "bools = [True, False, True, True, False]\n",
    "\n",
    "# notice the sizes do not need to match\n",
    "\n",
    "print(list(compress(letters, bools)))"
   ]
  },
  {
   "cell_type": "code",
   "execution_count": null,
   "metadata": {},
   "outputs": [],
   "source": [
    "def is_A_or_B(c):\n",
    "    return((c == 'A') or (c == 'B'))\n",
    "\n",
    "\n",
    "print(list(compress(letters, [is_A_or_B(i) for i in letters])))"
   ]
  },
  {
   "cell_type": "markdown",
   "metadata": {},
   "source": [
    "#### itertools.dropwhile(predicate, seq) and itertools.takewhile(predicate, seq)\n",
    "- Drop the elements whose predicate is False\n",
    "- Take the elements whose predicate is True"
   ]
  },
  {
   "cell_type": "code",
   "execution_count": null,
   "metadata": {},
   "outputs": [],
   "source": [
    "from itertools import dropwhile, takewhile\n",
    "\n",
    "print(list(dropwhile(lambda x: x > 5, [6, 7, 8, 9, 1, 2, 3, 10])))\n",
    "print(list(takewhile(lambda x: x > 5, [6, 7, 8, 9, 1, 2, 3, 10])))"
   ]
  },
  {
   "cell_type": "markdown",
   "metadata": {},
   "source": [
    "#### itertools.filterfalse(predicate, seq) "
   ]
  },
  {
   "cell_type": "code",
   "execution_count": null,
   "metadata": {},
   "outputs": [],
   "source": [
    "from itertools import filterfalse\n",
    "\n",
    "print(list(filterfalse(lambda x: x<5, [6, 7, 8, 9, 1, 2, 3, 10])))"
   ]
  },
  {
   "cell_type": "markdown",
   "metadata": {},
   "source": [
    "#### itertools.groupby(seq, key=None)\n",
    "Return consecutive keys and groups from the seq."
   ]
  },
  {
   "cell_type": "code",
   "execution_count": null,
   "metadata": {},
   "outputs": [],
   "source": [
    "from itertools import groupby\n",
    " \n",
    "numbers = range(15)\n",
    "\n",
    "for key, group in groupby(numbers, lambda x: x//5):\n",
    "    print(key,list(group))\n",
    "    \n",
    "# groups are formed from consecutive elements"
   ]
  },
  {
   "cell_type": "code",
   "execution_count": null,
   "metadata": {},
   "outputs": [],
   "source": [
    "for key, group in groupby(numbers, lambda x: x%2):\n",
    "    print(key,list(group))"
   ]
  },
  {
   "cell_type": "code",
   "execution_count": null,
   "metadata": {},
   "outputs": [],
   "source": [
    "even_odd = [(x%2,x) for x in numbers]\n",
    "even_odd = sorted(even_odd)\n",
    "print(even_odd)\n",
    "\n",
    "for key, group in groupby(even_odd, lambda x: x[0]):\n",
    "    print(key,[i for k,i in group])"
   ]
  },
  {
   "cell_type": "markdown",
   "metadata": {},
   "source": [
    "#### itertools.starmap(function, seq)"
   ]
  },
  {
   "cell_type": "code",
   "execution_count": null,
   "metadata": {},
   "outputs": [],
   "source": [
    "from itertools import starmap\n",
    "\n",
    "for item in starmap(lambda a,b: a+b, [(2,3), (4,5)]):\n",
    "    print(item)"
   ]
  },
  {
   "cell_type": "code",
   "execution_count": null,
   "metadata": {},
   "outputs": [],
   "source": [
    "def add(a, b):\n",
    "    return a+b\n",
    " \n",
    "for item in starmap(add, [(2,3), (4,5)]):\n",
    "    print(item)"
   ]
  },
  {
   "cell_type": "markdown",
   "metadata": {},
   "source": [
    "#### itertools.tee(seq, n=2)\n",
    "Creates n iterators from the seq"
   ]
  },
  {
   "cell_type": "code",
   "execution_count": null,
   "metadata": {},
   "outputs": [],
   "source": [
    "from itertools import tee\n",
    "data = 'ABCDE'\n",
    "iters = tee(data,3)\n",
    "\n",
    "for i in range(3):\n",
    "    print('iterator ',i)\n",
    "    for item in iters[i]:\n",
    "        print(item)"
   ]
  },
  {
   "cell_type": "markdown",
   "metadata": {},
   "source": [
    "#### itertools.zip_longest(*seq, fillvalue=None)"
   ]
  },
  {
   "cell_type": "code",
   "execution_count": null,
   "metadata": {
    "collapsed": true
   },
   "outputs": [],
   "source": [
    "from itertools import zip_longest\n",
    "\n",
    "print(list(zip_longest('ABCD', 'xy', fillvalue='BLANK')))\n",
    "\n",
    "print(list(zip_longest('ABCD', 'xy',range(5), fillvalue='BLANK')))"
   ]
  },
  {
   "cell_type": "code",
   "execution_count": null,
   "metadata": {
    "collapsed": true
   },
   "outputs": [],
   "source": [
    "# usefull to create dictionaries\n",
    "\n",
    "l = [['xy'],['zk']]\n",
    "\n",
    "dc = dict(zip_longest('ABCD', l, fillvalue='BLANK'))\n",
    "print(dc)"
   ]
  },
  {
   "cell_type": "markdown",
   "metadata": {},
   "source": [
    "## Combinatoric Generators\n",
    "Iterators that can be used for creating combinations and permutations of data"
   ]
  },
  {
   "cell_type": "markdown",
   "metadata": {},
   "source": [
    "#### itertools.combinations(seq, r) \n",
    "#### itertools.combinations_with_replacement(seq, r)"
   ]
  },
  {
   "cell_type": "code",
   "execution_count": null,
   "metadata": {},
   "outputs": [],
   "source": [
    "from itertools import combinations, combinations_with_replacement\n",
    "\n",
    "print(list(combinations('WXYZ', 2)))\n",
    "print(list(combinations('WXYZ', 3)))"
   ]
  },
  {
   "cell_type": "code",
   "execution_count": null,
   "metadata": {},
   "outputs": [],
   "source": [
    "for item in combinations('WXYZ', 2):\n",
    "    print(''.join(item))"
   ]
  },
  {
   "cell_type": "code",
   "execution_count": null,
   "metadata": {},
   "outputs": [],
   "source": [
    "for item in combinations_with_replacement('WXYZ', 2):\n",
    "    print(''.join(item))"
   ]
  },
  {
   "cell_type": "markdown",
   "metadata": {},
   "source": [
    "#### itertools.product(*seq repeat=1)\n",
    "Produces the cartesian product of sequences"
   ]
  },
  {
   "cell_type": "code",
   "execution_count": null,
   "metadata": {},
   "outputs": [],
   "source": [
    "from itertools import product\n",
    "\n",
    "arrays = [(-1,1), (-3,3), (-5,5)]\n",
    "cp = list(product(*arrays))\n",
    "print(cp)"
   ]
  },
  {
   "cell_type": "markdown",
   "metadata": {},
   "source": [
    "#### itertools.permutations(iterable, r=None)"
   ]
  },
  {
   "cell_type": "code",
   "execution_count": null,
   "metadata": {},
   "outputs": [],
   "source": [
    "from itertools import permutations\n",
    "\n",
    "for item in permutations('WXYZ', 2):\n",
    "    print(''.join(item))"
   ]
  },
  {
   "cell_type": "code",
   "execution_count": null,
   "metadata": {},
   "outputs": [],
   "source": [
    "import numpy as np\n",
    "\n",
    "M = np.zeros((3,3,3,3))\n",
    "cids = product((0,1,2),(0,1,2),(0,1,2),(0,1,2))\n",
    "for i in cids:\n",
    "    print(i)\n",
    "    M[i]=1\n",
    "    \n",
    "print(M)"
   ]
  }
 ],
 "metadata": {
  "kernelspec": {
   "display_name": "Python 3",
   "language": "python",
   "name": "python3"
  },
  "language_info": {
   "codemirror_mode": {
    "name": "ipython",
    "version": 3
   },
   "file_extension": ".py",
   "mimetype": "text/x-python",
   "name": "python",
   "nbconvert_exporter": "python",
   "pygments_lexer": "ipython3",
   "version": "3.6.3"
  }
 },
 "nbformat": 4,
 "nbformat_minor": 2
}
