{
 "cells": [
  {
   "cell_type": "markdown",
   "metadata": {},
   "source": [
    "# Python Concurrency\n",
    "Part of this lecture is based on the material by [Dr. Gregory Watson](https://nyu-cds.github.io/python-itertools/)"
   ]
  },
  {
   "cell_type": "markdown",
   "metadata": {},
   "source": [
    "For this class you will need to register in **imgur.com**\n",
    "- create an account in [imgur.com](imgur.com)\n",
    "- register your application [here](https://api.imgur.com/oauth2/addclient)\n",
    "  - Authorization Type: __OAuth 2 authorization with a callback URL__\n",
    "  - Authorization Callback URL: __https://www.getpostman.com/oauth2/callback__\n",
    "  - email:\n",
    "  - Description:"
   ]
  },
  {
   "cell_type": "markdown",
   "metadata": {},
   "source": [
    "---\n",
    "The functions below fetchs a list of images and download them from __imgur__ repository. We will split the functionality into three separate functions:\n",
    "- get_links\n",
    "- download_link\n",
    "- setup_download_dir"
   ]
  },
  {
   "cell_type": "code",
   "execution_count": 10,
   "metadata": {
    "collapsed": true
   },
   "outputs": [],
   "source": [
    "import json\n",
    "import os\n",
    "from pathlib import Path\n",
    "from urllib.request import urlopen, Request\n",
    "from time import time\n",
    "\n",
    "types = {'image/jpeg', 'image/png', 'image/gif'}\n",
    "\n",
    "def get_links(client_id):\n",
    "    '''used to obtain a list of available images'''\n",
    "    headers = {'Authorization': 'Client-ID {}'.format(client_id)}\n",
    "    req = Request('https://api.imgur.com/3/gallery/random/random/', headers=headers, method='GET')\n",
    "    with urlopen(req) as resp:\n",
    "        data = json.loads(resp.read().decode('utf-8'))\n",
    "    return [item['link'] for item in data['data'] if 'type' in item and item['type'] in types]\n",
    "\n",
    "def download_link(directory, link):\n",
    "    '''downloads the image given by the URL _link_ into _directory_'''\n",
    "    download_path = directory / os.path.basename(link)\n",
    "    with urlopen(link) as image, download_path.open('wb') as f:\n",
    "        f.write(image.read())\n",
    "\n",
    "def setup_download_dir():\n",
    "    '''creates a download destination directory if it doesn’t already exist'''\n",
    "    download_dir = Path('images')\n",
    "    if not download_dir.exists():\n",
    "        download_dir.mkdir()\n",
    "    return download_dir"
   ]
  },
  {
   "cell_type": "code",
   "execution_count": 12,
   "metadata": {},
   "outputs": [
    {
     "name": "stdout",
     "output_type": "stream",
     "text": [
      "Took 27.127142906188965s\n"
     ]
    }
   ],
   "source": [
    "#from download import setup_download_dir, get_links, download_link\n",
    "\n",
    "# 'replace with your client ID'\n",
    "CLIENT_ID = '7d7d80b0e389c61'\n",
    "\n",
    "ts = time()\n",
    "download_dir = setup_download_dir()\n",
    "links = [l for l in get_links(CLIENT_ID)]\n",
    "for link in links:\n",
    "   download_link(download_dir, link)\n",
    "print('Took {}s'.format(time() - ts))"
   ]
  },
  {
   "cell_type": "markdown",
   "metadata": {},
   "source": [
    "To improve the performance of the image downloader we can run multiple copies of the program at the same time. \n",
    "\n",
    "However, we would need to know what images are available so that we could ensure that one process didn’t download an image that had already been downloaded by a different process.  Fortunately the multiprocessing module is available for this purpose.\n",
    "\n",
    "To use multiple processes we need a multiprocessing _Pool_. The Pool class provides a map method that runs a function as a separate process, passing arguments from a supplied iterable. The iterable is divided into a number of chunks, so that each process gets roughly the same number of elements. \n",
    "\n",
    "In our example, we will pass the list of URLs to the pool, which, in turn, will start 8 new processes and use each one to download the images in parallel."
   ]
  },
  {
   "cell_type": "code",
   "execution_count": 21,
   "metadata": {},
   "outputs": [
    {
     "name": "stdout",
     "output_type": "stream",
     "text": [
      "Took 9.001381874084473s\n"
     ]
    }
   ],
   "source": [
    "from functools import partial\n",
    "from multiprocessing.pool import Pool\n",
    "\n",
    "def multi_processes_download():\n",
    "   ts = time()\n",
    "   download_dir = setup_download_dir()\n",
    "   links = [l for l in get_links(CLIENT_ID)]\n",
    "\n",
    "   # functools.partial makes a new version of a function \n",
    "   # with one or more arguments already filled in\n",
    "   download = partial(download_link, download_dir)\n",
    "   \n",
    "   with Pool(8) as p:\n",
    "       p.map(download, links)\n",
    "   print('Took {}s'.format(time() - ts))\n",
    "\n",
    "multi_processes_download()"
   ]
  },
  {
   "cell_type": "markdown",
   "metadata": {},
   "source": [
    "Although easy to implement, the parallelism bears some drawbacks:\n",
    "- each process contains a copy of the entire memory\n",
    "- it does not handle processes that depend on each other\n",
    "\n",
    "Those issues can be tackled by shared memory and message passing mechanisms, which we will learn from later lessons."
   ]
  },
  {
   "cell_type": "markdown",
   "metadata": {},
   "source": [
    "---\n",
    "## Using Threads\n",
    "\n",
    "Threading is a well known approach to attaining concurrency: \n",
    "- typically threads are lighter weight than processes\n",
    "- lower memory requirements, as they share the same memory space\n",
    "\n",
    "We will relay on __Thread class__, which provides a run method that should be overridden with a method that does the actual work of the thread."
   ]
  },
  {
   "cell_type": "markdown",
   "metadata": {},
   "source": [
    "### Thread Safety\n",
    "Variables in the program are shared by all the threads and cannot be accessed the way you would normally access a variable. One thread may change the variable while another thread is reading it, or worse, two threads may try to update the variable at the same time. This is known as a race condition, it is one of the leading sources of errors in threaded programs and needs to be addressed properly.\n",
    "\n",
    "A way to deal with thread safety is using the __Queue Class__"
   ]
  },
  {
   "cell_type": "code",
   "execution_count": 22,
   "metadata": {},
   "outputs": [
    {
     "name": "stdout",
     "output_type": "stream",
     "text": [
      "0\n",
      "1\n",
      "2\n",
      "3\n",
      "4\n",
      "5\n",
      "6\n",
      "7\n",
      "8\n",
      "9\n",
      "10\n",
      "11\n",
      "12\n",
      "13\n",
      "14\n",
      "15\n",
      "16\n",
      "17\n",
      "18\n",
      "19\n"
     ]
    }
   ],
   "source": [
    "# Understanding Queue \n",
    "\n",
    "from queue import Queue\n",
    "\n",
    "def do_stuff(q):\n",
    "    while not q.empty():\n",
    "        print(q.get())\n",
    "        q.task_done()  # this is important when combining Queue with Threads\n",
    "\n",
    "q = Queue()\n",
    "\n",
    "for x in range(20):\n",
    "    q.put(x)\n",
    "\n",
    "do_stuff(q)"
   ]
  },
  {
   "cell_type": "markdown",
   "metadata": {},
   "source": [
    "A simpler example before going back to the image downloader code"
   ]
  },
  {
   "cell_type": "code",
   "execution_count": 24,
   "metadata": {},
   "outputs": [
    {
     "name": "stdout",
     "output_type": "stream",
     "text": [
      "2 3 6 0 1 4 5 7 8 10 \n",
      "\n",
      "\n",
      "\n",
      "\n",
      "\n",
      "\n",
      "\n",
      "\n",
      "\n",
      "12 18 13 16 17 9 \n",
      "\n",
      "\n",
      "\n",
      "\n",
      "\n",
      "11 14 \n",
      "\n",
      "15 \n",
      "19 \n"
     ]
    }
   ],
   "source": [
    "# in this example each thread prints an element of the queue\n",
    "\n",
    "from queue import Queue\n",
    "from threading import Thread\n",
    "import logging  \n",
    "\n",
    "#logging.basicConfig(format='(%(threadName)-9s) %(message)s',)\n",
    "\n",
    "def do_stuff(q):\n",
    "  while True:\n",
    "    m = q.get()\n",
    "    #logging.debug(str(m)+' ')\n",
    "    print(str(m)+' ')\n",
    "    q.task_done()\n",
    "\n",
    "q = Queue()\n",
    "num_threads = 10\n",
    "\n",
    "for i in range(num_threads):\n",
    "  worker = Thread(target=do_stuff, args=(q,),name='t'+str(i))\n",
    "  worker.setDaemon(True) # this stop the threads when the program quits  \n",
    "  worker.start()         # start the threads\n",
    "\n",
    "for x in range(20):\n",
    "  q.put(x)\n",
    "\n",
    "q.join() # wait untill all threads have finished"
   ]
  },
  {
   "cell_type": "code",
   "execution_count": 22,
   "metadata": {},
   "outputs": [
    {
     "name": "stdout",
     "output_type": "stream",
     "text": [
      "Queueing https://i.imgur.com/oc5WY.jpg\n",
      "Queueing https://i.imgur.com/oc92wCQ.jpg\n",
      "Queueing https://i.imgur.com/ocMWKr5.jpg\n",
      "Queueing http://i.imgur.com/ocXFDU8h.gif\n",
      "Queueing https://i.imgur.com/oct46Ys.jpg\n",
      "Queueing https://i.imgur.com/ocAx4.jpg\n",
      "Queueing http://i.imgur.com/oc8Nhm3h.gif\n",
      "Queueing https://i.imgur.com/ocR4jMt.gif\n",
      "Queueing https://i.imgur.com/oc3nwC7.png\n",
      "Queueing https://i.imgur.com/ocGrCaF.jpg\n",
      "Queueing http://i.imgur.com/ocIF4Ejh.gif\n",
      "Queueing https://i.imgur.com/ocPW0Uy.jpg\n",
      "Queueing https://i.imgur.com/ocsmD0k.jpg\n",
      "Queueing https://i.imgur.com/ocnrU5N.jpg\n",
      "Queueing https://i.imgur.com/ocIVqwb.gif\n",
      "Queueing https://i.imgur.com/oczZ2g4.jpg\n",
      "Queueing https://i.imgur.com/ocu63.jpg\n",
      "Queueing http://i.imgur.com/ocvAsDah.gif\n",
      "Queueing https://i.imgur.com/ocCkzFi.jpg\n",
      "Queueing https://i.imgur.com/ocEz20y.jpg\n",
      "Queueing https://i.imgur.com/oc7Nlae.jpg\n",
      "Queueing https://i.imgur.com/ocAzLRy.jpg\n",
      "Queueing https://i.imgur.com/ocox0pe.jpg\n",
      "Queueing https://i.imgur.com/ocSNQNn.gif\n",
      "Queueing https://i.imgur.com/oc8sdwS.jpg\n",
      "Queueing https://i.imgur.com/ochHuow.jpg\n",
      "Queueing http://i.imgur.com/ocyrt5Jh.gif\n",
      "Queueing https://i.imgur.com/ocLVl.jpg\n",
      "Queueing https://i.imgur.com/ociLLlE.jpg\n",
      "Queueing https://i.imgur.com/ocOe0sh.jpg\n",
      "Queueing https://i.imgur.com/ocwoj.jpg\n",
      "Queueing https://i.imgur.com/octj5GM.gif\n",
      "Queueing https://i.imgur.com/oc2EDhE.jpg\n",
      "Queueing https://i.imgur.com/ocJkVwB.png\n",
      "Queueing https://i.imgur.com/ocuI6pE.gif\n",
      "Queueing https://i.imgur.com/ocbqRcI.jpg\n",
      "Queueing https://i.imgur.com/ocPflBJ.jpg\n",
      "Took 5.4311840534210205\n"
     ]
    }
   ],
   "source": [
    "from queue import Queue\n",
    "from threading import Thread\n",
    "\n",
    "class DownloadWorker(Thread):\n",
    "   def __init__(self, queue):\n",
    "       Thread.__init__(self)\n",
    "       self.queue = queue\n",
    "\n",
    "   def run(self):\n",
    "       while True:\n",
    "           # Get the work from the queue and expand the tuple\n",
    "           directory, link = self.queue.get()\n",
    "           download_link(directory, link)\n",
    "           self.queue.task_done()\n",
    "\n",
    "def threaded_download():\n",
    "   ts = time()\n",
    "   download_dir = setup_download_dir()\n",
    "   links = [l for l in get_links(CLIENT_ID)]\n",
    "   # Create a queue to communicate with the worker threads\n",
    "   queue = Queue()\n",
    "   # Create 8 worker threads\n",
    "   for x in range(8):\n",
    "       worker = DownloadWorker(queue)\n",
    "       # Setting daemon to True will let the main thread exit \n",
    "       # even though the workers are blocking\n",
    "       worker.daemon = True\n",
    "       worker.start()\n",
    "   # Put the tasks into the queue as a tuple\n",
    "   for link in links:\n",
    "       print('Queueing {}'.format(link))\n",
    "       queue.put((download_dir, link))\n",
    "   # Causes the main thread to wait for the queue to finish processing all the tasks\n",
    "   queue.join()\n",
    "   print('Took {}'.format(time() - ts))\n",
    "\n",
    "threaded_download()"
   ]
  },
  {
   "cell_type": "markdown",
   "metadata": {},
   "source": [
    "#### Not really parallel !!\n",
    "Python  has a Global Interpreter Lock (GIL), which makes one thread to be executed at a time throughout this process. Therefore, this code is concurrent but not parallel. The reason it is still faster is because the image downloader coade an input/output bound task. The processor is not breaking a sweat while downloading these images, and the majority of the time is spent waiting for the network. This is why threading can provide a large speed increase. The processor can switch between the threads whenever one of them is ready to do some work.\n",
    "\n",
    "If the program was performing a task that was CPU bound, using the threading module in Python or any other interpreted language with a GIL could actually result in reduced performance. For CPU bound tasks and truly parallel execution in Python, the multiprocessing module is a better option."
   ]
  },
  {
   "cell_type": "markdown",
   "metadata": {},
   "source": [
    "---\n",
    "#### Sum of array elements in parallel"
   ]
  },
  {
   "cell_type": "code",
   "execution_count": 8,
   "metadata": {},
   "outputs": [
    {
     "name": "stdout",
     "output_type": "stream",
     "text": [
      "499999500000 --> 0.11732816696166992 ms\n"
     ]
    }
   ],
   "source": [
    "# Sequencial version\n",
    "from time import time\n",
    "\n",
    "n = int(1e6)\n",
    "\n",
    "ts = time()\n",
    "s = 0\n",
    "for i in range(n):\n",
    "    s = s + i\n",
    "print(s, '-->', time()-ts,'ms')    "
   ]
  },
  {
   "cell_type": "code",
   "execution_count": 9,
   "metadata": {},
   "outputs": [
    {
     "name": "stdout",
     "output_type": "stream",
     "text": [
      "484944095455 --> 0.27000904083251953 ms\n"
     ]
    }
   ],
   "source": [
    "# Thread version\n",
    "from queue import Queue\n",
    "from threading import Thread\n",
    "from threading import Lock\n",
    "\n",
    "n = int(1e6)\n",
    "x = 0\n",
    "\n",
    "def sum_chunk(q):\n",
    "    while True:\n",
    "        global x\n",
    "        m = q.get()\n",
    "        for i in m:\n",
    "#            with Lock():  # force synchronization\n",
    "                x = x + i\n",
    "        q.task_done()\n",
    "\n",
    "chunks = [list(range(i,i+100)) for i in range(0,n,100)]\n",
    "ts = time()\n",
    "\n",
    "q = Queue()\n",
    "num_threads = 10\n",
    "\n",
    "for i in range(num_threads):\n",
    "  worker = Thread(target=sum_chunk, args=(q,))\n",
    "  worker.setDaemon(True) # this stop the threads when the program quits  \n",
    "  worker.start()         # start the threads\n",
    "\n",
    "for i in chunks:\n",
    "  q.put(i)\n",
    "\n",
    "q.join()\n",
    "print(x, '-->', time()-ts,'ms')    "
   ]
  },
  {
   "cell_type": "code",
   "execution_count": 14,
   "metadata": {},
   "outputs": [
    {
     "name": "stdout",
     "output_type": "stream",
     "text": [
      "499999500000 --> 0.14169001579284668 ms\n"
     ]
    }
   ],
   "source": [
    "# multiprocessor version\n",
    "from time import time\n",
    "from multiprocessing.pool import Pool\n",
    "\n",
    "n = int(1e6)\n",
    "\n",
    "def sum_multi_processes(chunk):\n",
    "    y = 0\n",
    "    for i in chunk:\n",
    "        y = y + i\n",
    "    return(y)\n",
    "\n",
    "chunks = [list(range(i,i+100)) for i in range(0,n,100)]\n",
    "\n",
    "ts = time()\n",
    "with Pool(10) as p:\n",
    "     results = p.map(sum_multi_processes, chunks)\n",
    "\n",
    "print(sum(results), '-->', time()-ts,'ms')   "
   ]
  }
 ],
 "metadata": {
  "kernelspec": {
   "display_name": "Python 3",
   "language": "python",
   "name": "python3"
  },
  "language_info": {
   "codemirror_mode": {
    "name": "ipython",
    "version": 3
   },
   "file_extension": ".py",
   "mimetype": "text/x-python",
   "name": "python",
   "nbconvert_exporter": "python",
   "pygments_lexer": "ipython3",
   "version": "3.6.3"
  }
 },
 "nbformat": 4,
 "nbformat_minor": 2
}
