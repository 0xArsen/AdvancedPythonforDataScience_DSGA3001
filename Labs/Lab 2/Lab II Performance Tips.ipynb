{
 "cells": [
  {
   "cell_type": "markdown",
   "metadata": {},
   "source": [
    "## Membership Testing"
   ]
  },
  {
   "cell_type": "markdown",
   "metadata": {},
   "source": [
    "Lists are implemented as variable-length arrays."
   ]
  },
  {
   "cell_type": "code",
   "execution_count": 2,
   "metadata": {},
   "outputs": [
    {
     "name": "stdout",
     "output_type": "stream",
     "text": [
      "in list\n",
      "61.7 ns ± 5.34 ns per loop (mean ± std. dev. of 7 runs, 100 loops each)\n",
      "267 µs ± 45.6 µs per loop (mean ± std. dev. of 7 runs, 100 loops each)\n"
     ]
    }
   ],
   "source": [
    "letters = 'abcdefghijklmnopqrstuvwxyz'\n",
    "\n",
    "letters_list = [x+y+z for x in letters for y in letters for z in letters]\n",
    "# Time how long it takes to find ‘aaa’ and 'zzz'in letters_list.\n",
    "\n",
    "print('in list')\n",
    "%timeit -n 100 'aaa' in letters_list\n",
    "%timeit -n 100 'zzz' in letters_list"
   ]
  },
  {
   "cell_type": "markdown",
   "metadata": {},
   "source": [
    "----\n",
    "## String Concatenation"
   ]
  },
  {
   "cell_type": "markdown",
   "metadata": {},
   "source": [
    "Strings in Python are immutable, so we can’t do something like, “change all the ‘a’s to ‘b’s” in any given string. Instead, you have to create a new string with the desired properties. This continual copying can lead to significant inefficiencies."
   ]
  },
  {
   "cell_type": "code",
   "execution_count": 7,
   "metadata": {},
   "outputs": [
    {
     "name": "stdout",
     "output_type": "stream",
     "text": [
      "5.92 µs ± 607 ns per loop (mean ± std. dev. of 7 runs, 100 loops each)\n"
     ]
    }
   ],
   "source": [
    "%%timeit -n 100\n",
    "def make_string(a_list):\n",
    "    mystring = ''\n",
    "    for x in a_list:\n",
    "        mystring += x + ' '\n",
    "    return mystring\n",
    "\n",
    "mylist = [x for x in 'abcdefghijklmnopqrstuvwxyz']\n",
    "\n",
    "my_str = make_string(mylist)"
   ]
  },
  {
   "cell_type": "markdown",
   "metadata": {},
   "source": [
    "----\n",
    "## Optimizing a calculator\n",
    "Considere the code below that implements a simple calculator. \n",
    "\n",
    "- Time the code to identify which functions are taking longer to run\n",
    "- Opetimize the code to speedup the most critical funcions\n",
    "- Compute the speedup ratio as $\\frac{T_{oringial}}{T_{optimized}}$"
   ]
  },
  {
   "cell_type": "code",
   "execution_count": 12,
   "metadata": {},
   "outputs": [
    {
     "name": "stdout",
     "output_type": "stream",
     "text": [
      "1.6 s ± 51.4 ms per loop (mean ± std. dev. of 7 runs, 1 loop each)\n"
     ]
    }
   ],
   "source": [
    "# -----------------------------------------------------------------------------\n",
    "# calculator.py\n",
    "# ----------------------------------------------------------------------------- \n",
    "import numpy as np\n",
    "\n",
    "def add(x,y):\n",
    "    \"\"\"\n",
    "    Add two arrays using a Python loop.\n",
    "    x and y must be two-dimensional arrays of the same shape.\n",
    "    \"\"\"\n",
    "    m,n = x.shape\n",
    "    z = np.zeros((m,n))\n",
    "    for i in range(m):\n",
    "        for j in range(n):\n",
    "            z[i,j] = x[i,j] + y[i,j]\n",
    "    return z\n",
    "\n",
    "\n",
    "def multiply(x,y):\n",
    "    \"\"\"\n",
    "    Multiply two arrays using a Python loop.\n",
    "    x and y must be two-dimensional arrays of the same shape.\n",
    "    \"\"\"\n",
    "    m,n = x.shape\n",
    "    z = np.zeros((m,n))\n",
    "    for i in range(m):\n",
    "        for j in range(n):\n",
    "            z[i,j] = x[i,j] * y[i,j]\n",
    "    return x*y # np.multiply(x,y) or np.dot(x,y)\n",
    "\n",
    "def sqrt(x):\n",
    "    \"\"\"\n",
    "    Take the square root of the elements of an arrays using a Python loop.\n",
    "    \"\"\"\n",
    "    from math import sqrt\n",
    "    m,n = x.shape\n",
    "    z = np.zeros((m,n))\n",
    "    for i in range(m):\n",
    "        for j in range(n):\n",
    "            z[i,j] = sqrt(x[i,j])\n",
    "    return z\n",
    "\n",
    "\n",
    "def hypotenuse(x,y):\n",
    "    \"\"\"\n",
    "    Return sqrt(x**2 + y**2) for two arrays, a and b.\n",
    "    x and y must be two-dimensional arrays of the same shape.\n",
    "    \"\"\"\n",
    "    xx = multiply(x,x)\n",
    "    yy = multiply(y,y)\n",
    "    zz = add(xx, yy)\n",
    "    return sqrt(zz)\n",
    "\n",
    "M = 1000\n",
    "N = 1000\n",
    "\n",
    "A = np.random.random((M,N))\n",
    "B = np.random.random((M,N))\n",
    "\n",
    "%timeit -n 1 hypotenuse(A,B)"
   ]
  }
 ],
 "metadata": {
  "kernelspec": {
   "display_name": "Python 3",
   "language": "python",
   "name": "python3"
  },
  "language_info": {
   "codemirror_mode": {
    "name": "ipython",
    "version": 3
   },
   "file_extension": ".py",
   "mimetype": "text/x-python",
   "name": "python",
   "nbconvert_exporter": "python",
   "pygments_lexer": "ipython3",
   "version": "3.6.2"
  }
 },
 "nbformat": 4,
 "nbformat_minor": 2
}
