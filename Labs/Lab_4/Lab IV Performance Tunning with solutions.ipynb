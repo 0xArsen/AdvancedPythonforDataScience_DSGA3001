{
 "cells": [
  {
   "cell_type": "markdown",
   "metadata": {},
   "source": [
    "## Lab IV - Performance Tunning"
   ]
  },
  {
   "cell_type": "markdown",
   "metadata": {},
   "source": [
    "Lets further analyze the problem of solving the _heat equation_:\n",
    "$$\n",
    "\\frac{\\partial^2 f}{\\partial x^2}+\\frac{\\partial^2 f}{\\partial y^2}=0\n",
    "$$\n",
    "using central difference in a square $[0,1]\\times[0,1]$ regular grid:\n",
    "$$\n",
    "\\frac{\\partial^2 f}{\\partial x^2}\\approx\\frac{f_{i+1,j}-f_{i,j}+f_{i-1,j}}{\\Delta x^2}\n",
    "$$\n",
    "\n",
    "$$\n",
    "\\frac{\\partial^2 f}{\\partial y^2}\\approx\\frac{f_{i,j+1}-f_{i,j}+f_{i,j-1}}{\\Delta y^2}\n",
    "$$\n",
    "We will assume $f$ known in the boundary of the square domain.\n",
    "\n",
    "To make our life easier, lets assume that $\\Delta x = \\Delta y$."
   ]
  },
  {
   "cell_type": "markdown",
   "metadata": {},
   "source": [
    "Two versions of the code presented in class:"
   ]
  },
  {
   "cell_type": "code",
   "execution_count": 1,
   "metadata": {
    "collapsed": true
   },
   "outputs": [],
   "source": [
    "%load_ext line_profiler"
   ]
  },
  {
   "cell_type": "code",
   "execution_count": 10,
   "metadata": {
    "collapsed": true
   },
   "outputs": [],
   "source": [
    "from itertools import product\n",
    "import numpy as np\n",
    "\n",
    "def build_grid(n):\n",
    "    '''defines the grid'''\n",
    "    G = np.zeros((n,n))\n",
    "    return(G)\n",
    "\n",
    "def set_boundary_values(n):\n",
    "    b = np.zeros((4,n))\n",
    "    b[2]=1\n",
    "    b[3]=1\n",
    "    return(b)\n",
    "\n",
    "def set_boundary_grid(G,b):\n",
    "    '''set the boundary values: b[0]=botton, b[1]=top, b[2]=left, b[3]=right'''\n",
    "    G[0,:]=b[0]\n",
    "    G[-1,:]=b[1]\n",
    "    G[:,0]=b[2]\n",
    "    G[:,-1]=b[3]\n",
    "    \n",
    "def calc_error(G1,G2):\n",
    "    error = np.square(np.subtract(G1, G2)).mean()\n",
    "    return(error)\n",
    "\n",
    "def copy_array(G1,G2):\n",
    "    G2[:] = G1[:]\n",
    "    \n",
    "def itera(G):\n",
    "    n = G.shape[0]\n",
    "    for i in range(1,n-1):\n",
    "        for j in range(1,n-1):\n",
    "            G[i,j]=(G[i+1,j]+G[i-1,j]+G[i,j+1]+G[i,j-1])/4\n",
    "            \n",
    "def itera_with_roll(G):\n",
    "    n = G.shape[0]\n",
    "    Gl = np.roll(G,1,axis=1)\n",
    "    Gr = np.roll(G,n-1,axis=1)\n",
    "    Gu = np.roll(G,1,axis=0)\n",
    "    Gd = np.roll(G,n-1,axis=0)\n",
    "    G[1:n-1,1:n-1]=(Gr[1:n-1,1:n-1]+Gl[1:n-1,1:n-1]+Gu[1:n-1,1:n-1]+Gd[1:n-1,1:n-1])/4.0"
   ]
  },
  {
   "cell_type": "code",
   "execution_count": 3,
   "metadata": {
    "collapsed": true
   },
   "outputs": [],
   "source": [
    "# we are passing the function that updates G as a parameter\n",
    "def solve_heat_equation(n,update):\n",
    "    G = build_grid(n)\n",
    "    b = set_boundary_values(n)\n",
    "    set_boundary_grid(G,b)\n",
    "    G_prev = build_grid(n)\n",
    "    copy_array(G,G_prev)\n",
    "    error = 1e10\n",
    "    while error > 1e-7:\n",
    "        update(G)\n",
    "        error = calc_error(G,G_prev)\n",
    "        copy_array(G,G_prev)    \n",
    "        \n",
    "    return(G)"
   ]
  },
  {
   "cell_type": "code",
   "execution_count": 11,
   "metadata": {
    "collapsed": true
   },
   "outputs": [],
   "source": [
    "sol1 = solve_heat_equation(70,itera)\n",
    "sol2 = solve_heat_equation(70,itera_with_roll)"
   ]
  },
  {
   "cell_type": "code",
   "execution_count": 5,
   "metadata": {},
   "outputs": [
    {
     "data": {
      "image/png": "[encoded data removed]",
      "text/plain": [
       "<matplotlib.figure.Figure at 0x108d2a208>"
      ]
     },
     "metadata": {},
     "output_type": "display_data"
    }
   ],
   "source": [
    "import matplotlib.pyplot as plt\n",
    "\n",
    "plt.subplot(1,2,1)\n",
    "plt.title('sol1')\n",
    "img=plt.imshow(sol1)\n",
    "img.set_cmap('rainbow')\n",
    "plt.axis('off')\n",
    "\n",
    "plt.subplot(1,2,2)\n",
    "plt.title('sol2')\n",
    "img=plt.imshow(sol2)\n",
    "img.set_cmap('rainbow')\n",
    "plt.axis('off')\n",
    "\n",
    "plt.show()"
   ]
  },
  {
   "cell_type": "markdown",
   "metadata": {},
   "source": [
    "### Exercise 1.\n",
    "Profile the code above to analyze the computational time of each line of code"
   ]
  },
  {
   "cell_type": "code",
   "execution_count": 12,
   "metadata": {
    "collapsed": true
   },
   "outputs": [],
   "source": [
    "# Solution\n",
    "\n",
    "%lprun -f solve_heat_equation solve_heat_equation(70,itera)"
   ]
  },
  {
   "cell_type": "code",
   "execution_count": 10,
   "metadata": {
    "collapsed": true
   },
   "outputs": [],
   "source": [
    "%lprun -f solve_heat_equation solve_heat_equation(70,itera_with_roll)"
   ]
  },
  {
   "cell_type": "markdown",
   "metadata": {},
   "source": [
    "You can also profiling a particular function"
   ]
  },
  {
   "cell_type": "code",
   "execution_count": 11,
   "metadata": {
    "collapsed": true
   },
   "outputs": [],
   "source": [
    "%lprun -f itera_with_roll solve_heat_equation(70,itera_with_roll)"
   ]
  },
  {
   "cell_type": "markdown",
   "metadata": {},
   "source": [
    "### Exercise 2.\n",
    "Based on your analysis, how can you further improve the computational performance of the code?"
   ]
  },
  {
   "cell_type": "code",
   "execution_count": 12,
   "metadata": {
    "collapsed": true
   },
   "outputs": [],
   "source": [
    "# Improvement 1: remove the calls to copy_array\n",
    "\n",
    "def solve_heat_equation2(n,update):\n",
    "    G = build_grid(n)\n",
    "    b = set_boundary_values(n)\n",
    "    set_boundary_grid(G,b)\n",
    "    G_prev = build_grid(n)\n",
    "    copy_array(G,G_prev)\n",
    "    error = 1e10\n",
    "    while error > 1e-7:\n",
    "        update(G)\n",
    "        error = calc_error(G,G_prev)\n",
    "        G_prev[:] = G[:]              # Not calling the copy_array function anymore\n",
    "        \n",
    "    return(G)"
   ]
  },
  {
   "cell_type": "code",
   "execution_count": 13,
   "metadata": {},
   "outputs": [
    {
     "name": "stderr",
     "output_type": "stream",
     "text": [
      "UsageError: Could not find function 'solve_heat_equation2'.\n",
      "NameError: name 'solve_heat_equation2' is not defined\n"
     ]
    }
   ],
   "source": [
    "%lprun -f solve_heat_equation2 solve_heat_equation2(70,itera_with_roll)"
   ]
  },
  {
   "cell_type": "markdown",
   "metadata": {},
   "source": [
    "Timer unit: 1e-06 s\n",
    "\n",
    "Total time: 0.091201 s\n",
    "File: <ipython-input-21-046a641133c0>\n",
    "Function: solve_heat_equation at line 2\n",
    "\n",
    "Line #      Hits         Time  Per Hit   % Time  Line Contents\n",
    "\n",
    "     2                                           def solve_heat_equation(n,update):\n",
    "     3         1         18.0     18.0      0.0      G = build_grid(n)\n",
    "     4         1         17.0     17.0      0.0      b = set_boundary_values(n)\n",
    "     5         1        223.0    223.0      0.2      set_boundary_grid(G,b)\n",
    "     6         1         15.0     15.0      0.0      G_prev = build_grid(n)\n",
    "     7         1          8.0      8.0      0.0      copy_array(G,G_prev)\n",
    "     8         1          1.0      1.0      0.0      error = 1e10\n",
    "     9       401        338.0      0.8      0.4      while error > 1e-7:\n",
    "    10       400      74816.0    187.0     82.0          update(G)\n",
    "    11       400      13750.0     34.4     15.1          error = calc_error(G,G_prev)\n",
    "    12       400       2015.0      5.0      2.2          copy_array(G,G_prev)    \n",
    "    13                                                   \n",
    "    14         1          0.0      0.0      0.0      return(G)"
   ]
  },
  {
   "cell_type": "markdown",
   "metadata": {},
   "source": [
    "Timer unit: 1e-06 s\n",
    "\n",
    "Total time: 0.088053 s\n",
    "File: <ipython-input-14-0b9eb4fdbf0d>\n",
    "Function: solve_heat_equation2 at line 3\n",
    "\n",
    "Line #      Hits         Time  Per Hit   % Time  Line Contents\n",
    "\n",
    "     3                                           def solve_heat_equation2(n,update):\n",
    "     4         1         22.0     22.0      0.0      G = build_grid(n)\n",
    "     5         1         21.0     21.0      0.0      b = set_boundary_values(n)\n",
    "     6         1        261.0    261.0      0.3      set_boundary_grid(G,b)\n",
    "     7         1         18.0     18.0      0.0      G_prev = build_grid(n)\n",
    "     8         1         13.0     13.0      0.0      copy_array(G,G_prev)\n",
    "     9         1          0.0      0.0      0.0      error = 1e10\n",
    "    10       401        314.0      0.8      0.4      while error > 1e-7:\n",
    "    11       400      72708.0    181.8     82.6          update(G)\n",
    "    12       400      13149.0     32.9     14.9          error = calc_error(G,G_prev)\n",
    "    13       400       1547.0      3.9      1.8          G_prev[:] = G[:]    \n",
    "    14                                                   \n",
    "    15         1          0.0      0.0      0.0      return(G)"
   ]
  },
  {
   "cell_type": "code",
   "execution_count": 14,
   "metadata": {
    "collapsed": true
   },
   "outputs": [],
   "source": [
    "# Improvement 2: removing the call to calc_error\n",
    "\n",
    "def solve_heat_equation3(n,update):\n",
    "    G = build_grid(n)\n",
    "    b = set_boundary_values(n)\n",
    "    set_boundary_grid(G,b)\n",
    "    G_prev = build_grid(n)\n",
    "    copy_array(G,G_prev)\n",
    "    error = 1e10\n",
    "    square = np.square\n",
    "    subtract = np.subtract\n",
    "    while error > 1e-7:\n",
    "        update(G)\n",
    "        error = square(subtract(G, G_prev)).mean()  # Not calling the calc_error function anymore\n",
    "        G_prev[:] = G[:]             \n",
    "        \n",
    "    return(G)"
   ]
  },
  {
   "cell_type": "code",
   "execution_count": 15,
   "metadata": {
    "collapsed": true
   },
   "outputs": [],
   "source": [
    "%lprun -f solve_heat_equation3 solve_heat_equation3(70,itera_with_roll)"
   ]
  },
  {
   "cell_type": "markdown",
   "metadata": {},
   "source": [
    "In this case %timeit allows for a better analysis of the performance"
   ]
  },
  {
   "cell_type": "code",
   "execution_count": 16,
   "metadata": {},
   "outputs": [
    {
     "name": "stdout",
     "output_type": "stream",
     "text": [
      "44.3 ms ± 1.89 ms per loop (mean ± std. dev. of 7 runs, 10 loops each)\n",
      "43 ms ± 784 µs per loop (mean ± std. dev. of 7 runs, 10 loops each)\n"
     ]
    }
   ],
   "source": [
    "%timeit solve_heat_equation3(70,itera_with_roll)\n",
    "%timeit solve_heat_equation2(70,itera_with_roll)"
   ]
  },
  {
   "cell_type": "markdown",
   "metadata": {},
   "source": [
    "### Exercise 3.\n",
    "Use memory profiling magic functions __%mprun__ and __%memit__ to analyze the heat equation solver code\n",
    "- you have to install the __memory_profiler__ package\n",
    "- the function must be defined in a file (external to the notebook) to use __%mprun__\n",
    "- restart the kernel to run this part of the code"
   ]
  },
  {
   "cell_type": "code",
   "execution_count": 1,
   "metadata": {
    "collapsed": true
   },
   "outputs": [],
   "source": [
    "# Solution \n",
    "%load_ext memory_profiler\n",
    "import heat_eq_solve as heq"
   ]
  },
  {
   "cell_type": "code",
   "execution_count": 2,
   "metadata": {},
   "outputs": [
    {
     "name": "stdout",
     "output_type": "stream",
     "text": [
      "peak memory: 63.09 MiB, increment: 1.29 MiB\n"
     ]
    }
   ],
   "source": [
    "%memit heq.solve_heat_equation(70,heq.itera_with_roll)"
   ]
  },
  {
   "cell_type": "code",
   "execution_count": 2,
   "metadata": {},
   "outputs": [
    {
     "name": "stdout",
     "output_type": "stream",
     "text": [
      "\n"
     ]
    }
   ],
   "source": [
    "%mprun -f heq.solve_heat_equation heq.solve_heat_equation(70,heq.itera_with_roll)\n",
    "\n",
    "#    64     49.2 MiB      1.0 MiB           update(G)"
   ]
  },
  {
   "cell_type": "markdown",
   "metadata": {},
   "source": [
    "You can see that __update(G)__ is the most memory consumption function.\n",
    "\n",
    "Can you optimize it?"
   ]
  },
  {
   "cell_type": "markdown",
   "metadata": {},
   "source": [
    "Solution implemented in __heat_eq_solve.py__\n",
    "\n",
    "```python\n",
    "def itera_with_roll_less_memory(G):\n",
    "    n = G.shape[0]\n",
    "    TempG = np.roll(G,1,axis=1)\n",
    "    Groll = np.roll(G,n-1,axis=1)\n",
    "    TempG[1:n-1,1:n-1] += Groll[1:n-1,1:n-1]\n",
    "    Groll = np.roll(G,1,axis=0)\n",
    "    TempG[1:n-1,1:n-1] += Groll[1:n-1,1:n-1]\n",
    "    Groll = np.roll(G,n-1,axis=0)\n",
    "    TempG[1:n-1,1:n-1] += Groll[1:n-1,1:n-1]\n",
    "    G[1:n-1,1:n-1]=TempG[1:n-1,1:n-1]/4.0\n",
    "```"
   ]
  },
  {
   "cell_type": "code",
   "execution_count": 2,
   "metadata": {},
   "outputs": [
    {
     "name": "stdout",
     "output_type": "stream",
     "text": [
      "\n"
     ]
    }
   ],
   "source": [
    "%mprun -f heq.solve_heat_equation heq.solve_heat_equation(70,heq.itera_with_roll_less_memory)\n",
    "\n",
    "#   64     49.4 MiB      0.1 MiB           update(G)"
   ]
  }
 ],
 "metadata": {
  "kernelspec": {
   "display_name": "Python 3",
   "language": "python",
   "name": "python3"
  },
  "language_info": {
   "codemirror_mode": {
    "name": "ipython",
    "version": 3
   },
   "file_extension": ".py",
   "mimetype": "text/x-python",
   "name": "python",
   "nbconvert_exporter": "python",
   "pygments_lexer": "ipython3",
   "version": "3.6.3"
  }
 },
 "nbformat": 4,
 "nbformat_minor": 2
}
