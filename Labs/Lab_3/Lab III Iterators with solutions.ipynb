{
 "cells": [
  {
   "cell_type": "markdown",
   "metadata": {},
   "source": [
    "The function below returns the sum of the parameters.\n",
    "\n",
    "```python\n",
    "def sum_pair(a,b):\n",
    "    return(a+b)\n",
    "```\n",
    "\n",
    "Using itertools create an iterator to call the funtion for all \n",
    "pairs of integers between 0 and 10."
   ]
  },
  {
   "cell_type": "code",
   "execution_count": 4,
   "metadata": {},
   "outputs": [
    {
     "name": "stdout",
     "output_type": "stream",
     "text": [
      "(0, 1) --> 1\n",
      "(0, 2) --> 2\n",
      "(0, 3) --> 3\n",
      "(0, 4) --> 4\n",
      "(0, 5) --> 5\n",
      "(0, 6) --> 6\n",
      "(0, 7) --> 7\n",
      "(0, 8) --> 8\n",
      "(0, 9) --> 9\n",
      "(0, 10) --> 10\n",
      "(1, 2) --> 3\n",
      "(1, 3) --> 4\n",
      "(1, 4) --> 5\n",
      "(1, 5) --> 6\n",
      "(1, 6) --> 7\n",
      "(1, 7) --> 8\n",
      "(1, 8) --> 9\n",
      "(1, 9) --> 10\n",
      "(1, 10) --> 11\n",
      "(2, 3) --> 5\n",
      "(2, 4) --> 6\n",
      "(2, 5) --> 7\n",
      "(2, 6) --> 8\n",
      "(2, 7) --> 9\n",
      "(2, 8) --> 10\n",
      "(2, 9) --> 11\n",
      "(2, 10) --> 12\n",
      "(3, 4) --> 7\n",
      "(3, 5) --> 8\n",
      "(3, 6) --> 9\n",
      "(3, 7) --> 10\n",
      "(3, 8) --> 11\n",
      "(3, 9) --> 12\n",
      "(3, 10) --> 13\n",
      "(4, 5) --> 9\n",
      "(4, 6) --> 10\n",
      "(4, 7) --> 11\n",
      "(4, 8) --> 12\n",
      "(4, 9) --> 13\n",
      "(4, 10) --> 14\n",
      "(5, 6) --> 11\n",
      "(5, 7) --> 12\n",
      "(5, 8) --> 13\n",
      "(5, 9) --> 14\n",
      "(5, 10) --> 15\n",
      "(6, 7) --> 13\n",
      "(6, 8) --> 14\n",
      "(6, 9) --> 15\n",
      "(6, 10) --> 16\n",
      "(7, 8) --> 15\n",
      "(7, 9) --> 16\n",
      "(7, 10) --> 17\n",
      "(8, 9) --> 17\n",
      "(8, 10) --> 18\n",
      "(9, 10) --> 19\n"
     ]
    }
   ],
   "source": [
    "# solution\n",
    "from itertools import combinations, starmap\n",
    "\n",
    "def sum_pair(a,b):\n",
    "    return(a+b)\n",
    "\n",
    "all_pairs=combinations(range(11), 2)\n",
    "all_pairs_4_print=combinations(range(11), 2)  # only for print purposes\n",
    "for item in starmap(sum_pair,all_pairs):\n",
    "    print(all_pairs_4_print.__next__(),'-->',item)\n",
    "# for p in all_pairs:\n",
    "#     print(sum_pair(p[0],p[1]))"
   ]
  },
  {
   "cell_type": "markdown",
   "metadata": {},
   "source": [
    "Given a sequence of elements, use itertools to build a function that returns sequence concatenated $n$ times."
   ]
  },
  {
   "cell_type": "code",
   "execution_count": 7,
   "metadata": {},
   "outputs": [
    {
     "name": "stdout",
     "output_type": "stream",
     "text": [
      "abc123abc123abc123\n"
     ]
    }
   ],
   "source": [
    "# solution\n",
    "from itertools import chain,repeat\n",
    "\n",
    "def ncycles(seq, n):\n",
    "    \"Returns the sequence elements n times\"\n",
    "    return ''.join(chain.from_iterable(repeat(tuple(seq), n)))\n",
    "\n",
    "x = 'abc123'\n",
    "print(ncycles(x,3))"
   ]
  },
  {
   "cell_type": "markdown",
   "metadata": {},
   "source": [
    "Using itertools, create a function the generates the power set of a sequence\n",
    "\n",
    "\"powerset([1,2,3]) --> () (1,) (2,) (3,) (1,2) (1,3) (2,3) (1,2,3)\""
   ]
  },
  {
   "cell_type": "code",
   "execution_count": 8,
   "metadata": {},
   "outputs": [
    {
     "name": "stdout",
     "output_type": "stream",
     "text": [
      "[(), ('a',), ('b',), ('c',), ('a', 'b'), ('a', 'c'), ('b', 'c'), ('a', 'b', 'c')]\n"
     ]
    }
   ],
   "source": [
    "# solution\n",
    "\n",
    "def powerset(seq):\n",
    "    s = list(seq)\n",
    "    return list(chain.from_iterable(combinations(s, r) for r in range(len(s)+1)))\n",
    "\n",
    "print(powerset('abc'))"
   ]
  },
  {
   "cell_type": "markdown",
   "metadata": {},
   "source": [
    "Using itertools, build a function the generates pairwise sequences like:\n",
    "\n",
    "\"s -> (s0,s1), (s1,s2), (s2, s3), ...\""
   ]
  },
  {
   "cell_type": "code",
   "execution_count": 14,
   "metadata": {},
   "outputs": [
    {
     "name": "stdout",
     "output_type": "stream",
     "text": [
      "[('a', 'b'), ('b', 'c'), ('c', 'd')]\n"
     ]
    }
   ],
   "source": [
    "# solution\n",
    "from itertools import tee, zip_longest\n",
    "\n",
    "def pairwise(iterable):\n",
    "    a, b = tee(iterable)\n",
    "    next(b)\n",
    "    return list(zip_longest(a, b))[:-1]\n",
    "\n",
    "print(list(pairwise('abcd')))"
   ]
  },
  {
   "cell_type": "code",
   "execution_count": null,
   "metadata": {
    "collapsed": true
   },
   "outputs": [],
   "source": []
  }
 ],
 "metadata": {
  "kernelspec": {
   "display_name": "Python 3",
   "language": "python",
   "name": "python3"
  },
  "language_info": {
   "codemirror_mode": {
    "name": "ipython",
    "version": 3
   },
   "file_extension": ".py",
   "mimetype": "text/x-python",
   "name": "python",
   "nbconvert_exporter": "python",
   "pygments_lexer": "ipython3",
   "version": "3.6.2"
  }
 },
 "nbformat": 4,
 "nbformat_minor": 2
}
