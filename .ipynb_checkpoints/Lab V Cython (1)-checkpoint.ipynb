{
 "cells": [
  {
   "cell_type": "markdown",
   "metadata": {},
   "source": [
    "## Cythonizing the Heat Equation Code"
   ]
  },
  {
   "cell_type": "code",
   "execution_count": 1,
   "metadata": {
    "collapsed": true
   },
   "outputs": [],
   "source": [
    "import numpy as np\n",
    "\n",
    "def build_grid(n):\n",
    "    '''defines the grid'''\n",
    "    G = np.zeros((n,n))\n",
    "    return(G)\n",
    "\n",
    "def set_boundary_values(n):\n",
    "    b = np.zeros((4,n))\n",
    "    b[2]=1\n",
    "    b[3]=1\n",
    "    return(b)\n",
    "\n",
    "def set_boundary_grid(G,b):\n",
    "    '''set the boundary values: b[0]=botton, b[1]=top, b[2]=left, b[3]=right'''\n",
    "    G[0,:]=b[0]\n",
    "    G[-1,:]=b[1]\n",
    "    G[:,0]=b[2]\n",
    "    G[:,-1]=b[3]\n",
    "    \n",
    "def itera(G):\n",
    "    n = G.shape[0]\n",
    "    Gl = np.roll(G,1,axis=1)\n",
    "    Gr = np.roll(G,n-1,axis=1)\n",
    "    Gu = np.roll(G,1,axis=0)\n",
    "    Gd = np.roll(G,n-1,axis=0)\n",
    "    G[1:n-1,1:n-1]=(Gr[1:n-1,1:n-1]+Gl[1:n-1,1:n-1]+Gu[1:n-1,1:n-1]+Gd[1:n-1,1:n-1])/4.0\n",
    "    \n",
    "def solve_heat_equation(n):\n",
    "    G = build_grid(n)\n",
    "    b = set_boundary_values(n)\n",
    "    set_boundary_grid(G,b)\n",
    "    G_prev = build_grid(n)\n",
    "    G_prev[:] = G[:]\n",
    "    error = 1e10\n",
    "    square = np.square\n",
    "    subtract = np.subtract\n",
    "    while error > 1e-10:\n",
    "        itera(G)\n",
    "        error = square(subtract(G, G_prev)).mean()  \n",
    "        G_prev[:] = G[:]             \n",
    "        \n",
    "    return(G)"
   ]
  },
  {
   "cell_type": "code",
   "execution_count": 2,
   "metadata": {},
   "outputs": [
    {
     "name": "stdout",
     "output_type": "stream",
     "text": [
      " "
     ]
    }
   ],
   "source": [
    "%prun G = solve_heat_equation(100)"
   ]
  },
  {
   "cell_type": "code",
   "execution_count": 6,
   "metadata": {},
   "outputs": [
    {
     "data": {
      "image/png": "[encoded data removed]",
      "text/plain": [
       "<matplotlib.figure.Figure at 0x117d822b0>"
      ]
     },
     "metadata": {},
     "output_type": "display_data"
    }
   ],
   "source": [
    "import matplotlib.pyplot as plt\n",
    "\n",
    "img=plt.imshow(G)\n",
    "img.set_cmap('rainbow')\n",
    "plt.axis('off')\n",
    "plt.show()"
   ]
  },
  {
   "cell_type": "code",
   "execution_count": 3,
   "metadata": {
    "collapsed": true
   },
   "outputs": [],
   "source": [
    "%load_ext Cython"
   ]
  },
  {
   "cell_type": "code",
   "execution_count": 4,
   "metadata": {
    "collapsed": true
   },
   "outputs": [],
   "source": [
    "%%cython\n",
    "import numpy as np\n",
    "cimport numpy as np\n",
    "\n",
    "def build_gridct(n):\n",
    "    '''defines the grid'''\n",
    "    cdef np.ndarray[double, ndim=2] G = np.zeros((n,n),dtype=float)\n",
    "    return(G)\n",
    "\n",
    "def set_boundary_valuesct(n):\n",
    "    cdef np.ndarray[double, ndim=2] b = np.zeros((4,n),dtype=float)\n",
    "    b[2]=1\n",
    "    b[3]=1\n",
    "    return(b)\n",
    "\n",
    "def set_boundary_gridct(np.ndarray[double, ndim=2] G,np.ndarray[double, ndim=2] b):\n",
    "    '''set the boundary values: b[0]=botton, b[1]=top, b[2]=left, b[3]=right'''\n",
    "    G[0,:]=b[0]\n",
    "    G[-1,:]=b[1]\n",
    "    G[:,0]=b[2]\n",
    "    G[:,-1]=b[3]\n",
    "    \n",
    "def iteract(np.ndarray[double, ndim=2] G):\n",
    "    cdef int n = G.shape[0]\n",
    "    Gl = np.roll(G,1,axis=1)\n",
    "    Gr = np.roll(G,n-1,axis=1)\n",
    "    Gu = np.roll(G,1,axis=0)\n",
    "    Gd = np.roll(G,n-1,axis=0)\n",
    "    G[1:n-1,1:n-1]=(Gr[1:n-1,1:n-1]+Gl[1:n-1,1:n-1]+Gu[1:n-1,1:n-1]+Gd[1:n-1,1:n-1])/4.0\n",
    "    \n",
    "def iteract2(np.ndarray[double, ndim=2] G):\n",
    "    cdef int n = G.shape[0]\n",
    "    cdef int i,j\n",
    "    for i in range(1,n-1):\n",
    "        for j in range(1,n-1):\n",
    "            G[i,j]=(G[i+1,j]+G[i-1,j]+G[i,j+1]+G[i,j-1])/4\n",
    "    \n",
    "def solve_heat_equationct(n,update):\n",
    "    cdef np.ndarray[double, ndim=2] G = build_gridct(n)\n",
    "    cdef np.ndarray[double, ndim=2] b = set_boundary_valuesct(n)\n",
    "    set_boundary_gridct(G,b)\n",
    "    cdef np.ndarray[double, ndim=2] G_prev = build_gridct(n)\n",
    "    G_prev[:] = G[:]\n",
    "    cdef float error = 1e10\n",
    "    square = np.square\n",
    "    subtract = np.subtract\n",
    "    while error > 1e-10:\n",
    "        update(G)\n",
    "        error = square(subtract(G, G_prev)).mean()  \n",
    "        G_prev[:] = G[:]             \n",
    "        \n",
    "    return(G)"
   ]
  },
  {
   "cell_type": "code",
   "execution_count": 5,
   "metadata": {},
   "outputs": [
    {
     "name": "stdout",
     "output_type": "stream",
     "text": [
      " "
     ]
    }
   ],
   "source": [
    "%prun Gct = solve_heat_equationct(100,iteract)"
   ]
  },
  {
   "cell_type": "code",
   "execution_count": 7,
   "metadata": {},
   "outputs": [
    {
     "name": "stdout",
     "output_type": "stream",
     "text": [
      " "
     ]
    }
   ],
   "source": [
    "%prun Gct2 = solve_heat_equationct(100,iteract2)"
   ]
  },
  {
   "cell_type": "code",
   "execution_count": 50,
   "metadata": {},
   "outputs": [
    {
     "data": {
      "image/png": "[encoded data removed]",
      "text/plain": [
       "<matplotlib.figure.Figure at 0x1131db2b0>"
      ]
     },
     "metadata": {},
     "output_type": "display_data"
    }
   ],
   "source": [
    "import matplotlib.pyplot as plt\n",
    "\n",
    "plt.subplot(1,2,1)\n",
    "img=plt.imshow(Gct)\n",
    "img.set_cmap('rainbow')\n",
    "plt.axis('off')\n",
    "plt.subplot(1,2,2)\n",
    "img=plt.imshow(Gct2)\n",
    "img.set_cmap('rainbow')\n",
    "plt.axis('off')\n",
    "plt.show()"
   ]
  },
  {
   "cell_type": "markdown",
   "metadata": {},
   "source": [
    "## <font color='blue'>Question:</font>\n",
    "Why does the version of itera() with _for-loops_ perform better when using cython?"
   ]
  },
  {
   "cell_type": "markdown",
   "metadata": {},
   "source": [
    "### Discussion in Lab\n",
    "C vs Python\n",
    "\n",
    "1.\tVariable declaration\n",
    "2.\tPython is Interpreted not compiled\n",
    "3.\tVariable data allocation\n",
    "\n",
    "Why Python?????\n",
    "\n",
    "Quick modelling of idea\n",
    "\n",
    "\n",
    "-> Easy to code\n",
    "\n",
    "-> Lots of available libraries"
   ]
  },
  {
   "cell_type": "code",
   "execution_count": null,
   "metadata": {
    "collapsed": true
   },
   "outputs": [],
   "source": []
  }
 ],
 "metadata": {
  "kernelspec": {
   "display_name": "Python 3",
   "language": "python",
   "name": "python3"
  },
  "language_info": {
   "codemirror_mode": {
    "name": "ipython",
    "version": 3
   },
   "file_extension": ".py",
   "mimetype": "text/x-python",
   "name": "python",
   "nbconvert_exporter": "python",
   "pygments_lexer": "ipython3",
   "version": "3.6.3"
  }
 },
 "nbformat": 4,
 "nbformat_minor": 2
}
