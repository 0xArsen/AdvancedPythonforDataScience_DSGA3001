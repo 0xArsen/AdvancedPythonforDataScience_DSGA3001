{
 "cells": [
  {
   "cell_type": "markdown",
   "metadata": {},
   "source": [
    "## Assigment 4: heat equation via linear system solve"
   ]
  },
  {
   "cell_type": "markdown",
   "metadata": {},
   "source": [
    "The heat equation \n",
    "$$\n",
    "\\frac{\\partial^2 f}{\\partial x^2}+\\frac{\\partial^2 f}{\\partial y^2}=0\n",
    "$$\n",
    "can be discretized by central difference as:\n",
    "$$\n",
    "\\frac{\\partial^2 f}{\\partial x^2}\\approx\\frac{f_{i+1,j}-2f_{i,j}+f_{i-1,j}}{\\Delta x^2}.\n",
    "$$\n",
    "$$\n",
    "\\frac{\\partial^2 f}{\\partial y^2}\\approx\\frac{f_{i,j+1}-2f_{i,j}+f_{i,j-1}}{\\Delta y^2}.\n",
    "$$\n",
    "\n",
    "Using this discretization (assuming $\\Delta x = \\Delta y$) we can build a $(n-2)^2\\times (n-2)^2$ matrix $A$ where each row of $A$ correspond to the discretization in a particular point of the domain. For instance, assuming a $5\\times 5$ grid, the discretization in the point $(1,1)$ and $(2,3)$ will be respectivelly:\n",
    "\n",
    "![alt text](grid.png)\n",
    "\n",
    "$$\n",
    "-4f_{1,1}+f_{1,2}+f{2,1}=-(b[0,1]+b[3,1])\n",
    "$$\n",
    "and\n",
    "$$\n",
    "-4f_{2,3}+f_{3,3}+f_{1,3}+f_{2,4}+f_{2,2}=0\n",
    "$$\n",
    "\n",
    "In matrix form $Af=y$:\n",
    "$$\n",
    "    \\left[\\begin{array}{cccccccccccc}\n",
    "    -4 & 1 & 0 & 0 & 1 & \\cdots & 0 & 0 & 0 & 0 & 0 & 0  \\\\\n",
    "    \\vdots \\\\\n",
    "    0 & 0 & 1 & 0 & \\ldots & 1 & -4 & 1 & 0 & \\ldots & 1 & 0 \\\\\n",
    "    \\vdots\n",
    "    \\end{array}\\right]\n",
    "    \\left[\\begin{array}{c} f_{1,1} \\\\  f_{1,2} \\\\ \\vdots \\\\ f_{4,4} \\end{array}\\right]=\n",
    "     \\left[\\begin{array}{c} -(b[0,1]+b[3,1]) \\\\  \\vdots \\\\ 0 \\\\ \\vdots \\\\ -(b[1,4]+b[2,4]) \\end{array}\\right]\n",
    "$$"
   ]
  },
  {
   "cell_type": "markdown",
   "metadata": {},
   "source": [
    "Assuming the heat equation is defined in a square $[0,1]\\times[0,1]$ regular domain, write a code to build the matrix A and vector y such that the solution of:\n",
    "$$\n",
    "Af=y\n",
    "$$\n",
    "gives the values of f in each point of the grid.\n",
    "\n",
    "Essentially you have to fill up the funciton __build_matrix_and_vector(m,b)__ below."
   ]
  },
  {
   "cell_type": "code",
   "execution_count": 1,
   "metadata": {
    "collapsed": true
   },
   "outputs": [],
   "source": [
    "%load_ext line_profiler"
   ]
  },
  {
   "cell_type": "code",
   "execution_count": 5,
   "metadata": {
    "collapsed": true
   },
   "outputs": [],
   "source": [
    "import numpy as np\n",
    "import scipy.sparse as ss\n",
    "import scipy.sparse.linalg as ssl\n",
    "\n",
    "def set_boundary_values(n):\n",
    "    b = np.zeros((4,n))\n",
    "    b[2]=0\n",
    "    b[3]=0\n",
    "    return(b)\n",
    "\n",
    "def insert_grid_values(i, j, G):\n",
    "    G[i,j] = -4\n",
    "    G[i+1,j] = 1\n",
    "    G[i-1,j] = 1\n",
    "    G[i,j+1] = 1\n",
    "    G[i,j-1] = 1\n",
    "    \n",
    "def form_point_vector(G,n):\n",
    "    G = G[1:n-1,1:n-1]\n",
    "    G = np.reshape(G, (1,(n-2)*(n-2)))\n",
    "    return G\n",
    "    \n",
    "def form_y_point(G, n):\n",
    "    point_array = np.zeros((2,n))\n",
    "    point_array[0,:] = G[:,0]\n",
    "    point_array[1,:] = G[:,n-1]\n",
    "    return np.sum(point_array)\n",
    "    \n",
    "def build_matrix_and_vector(n,b):\n",
    "    M = np.zeros(((n-2)*(n-2),(n-2)*(n-2)))\n",
    "    M_insert_index = 0\n",
    "    y = []\n",
    "    for i in range(1, n-1):\n",
    "        for j in range(1, n-1):\n",
    "            G = build_grid(n)\n",
    "            set_boundary_grid(G,b)\n",
    "            insert_grid_values(i, j, G)\n",
    "            point_sum = form_y_point(G, n)\n",
    "            y.append(-point_sum)\n",
    "            G = form_point_vector(G,n)\n",
    "            M[M_insert_index,:] = G\n",
    "            M_insert_index += 1\n",
    "\n",
    "    #return(M,y)  # not sparce\n",
    "    return(ss.csr_matrix(M),y)\n",
    "\n",
    "def build_grid(n):\n",
    "    '''defines the grid'''\n",
    "    G = np.zeros((n,n))\n",
    "    return(G)\n",
    "\n",
    "def set_boundary_grid(G,b):\n",
    "    '''set the boundary values: b[0]=botton, b[1]=top, b[2]=left, b[3]=right'''\n",
    "\n",
    "    G[0,:]=b[0]\n",
    "    G[-1,:]=b[1]\n",
    "    G[:,0]=b[2]\n",
    "    G[:,-1]=b[3]\n",
    "    \n",
    "def solve_heat_equation(n):\n",
    "    b = set_boundary_values(n)\n",
    "    M,y = build_matrix_and_vector(n,b)\n",
    "    #f = np.linalg.solve(M,y)        # not sparse\n",
    "    f = ssl.spsolve(M,y)\n",
    "    G = np.zeros((n,n)) \n",
    "    G[1:n-1,1:n-1]=f.reshape(n-2,n-2) \n",
    "\n",
    "    return(G)"
   ]
  },
  {
   "cell_type": "code",
   "execution_count": 6,
   "metadata": {},
   "outputs": [],
   "source": [
    "G = solve_heat_equation(100)"
   ]
  },
  {
   "cell_type": "code",
   "execution_count": 7,
   "metadata": {},
   "outputs": [
    {
     "name": "stdout",
     "output_type": "stream",
     "text": [
      " "
     ]
    }
   ],
   "source": [
    "%prun G = solve_heat_equation(100)"
   ]
  },
  {
   "cell_type": "code",
   "execution_count": 5,
   "metadata": {
    "collapsed": true
   },
   "outputs": [],
   "source": [
    "n = 100\n",
    "b = set_boundary_values(n)\n",
    "#%lprun -f build_matrix_and_vector build_matrix_and_vector(n,b)\n",
    "#%lprun -f form_y_point form_y_point(G,n)\n",
    "%lprun -f solve_heat_equation solve_heat_equation(100)"
   ]
  },
  {
   "cell_type": "markdown",
   "metadata": {},
   "source": [
    "Your solution should result in an image like this:\n",
    "\n",
    "![image](solution.png)"
   ]
  },
  {
   "cell_type": "code",
   "execution_count": 6,
   "metadata": {},
   "outputs": [
    {
     "data": {
      "image/png": "[encoded data removed]",
      "text/plain": [
       "<matplotlib.figure.Figure at 0x106df0c88>"
      ]
     },
     "metadata": {},
     "output_type": "display_data"
    }
   ],
   "source": [
    "import matplotlib.pyplot as plt\n",
    "\n",
    "img=plt.imshow(G)\n",
    "img.set_cmap('rainbow')\n",
    "plt.axis('off')\n",
    "plt.show()"
   ]
  },
  {
   "cell_type": "markdown",
   "metadata": {},
   "source": [
    "Profile our code and compare it with the code done in class. Is your code quicker? If not, why?\n",
    "The code is not quicker. I did not implement iterators for my code.\n",
    "\n",
    "Hint: the sparce solver __spsolve__ might be using a much more error threshold."
   ]
  },
  {
   "cell_type": "markdown",
   "metadata": {},
   "source": [
    "Can you implement the function __build_matrix_and_vector__ without using any __if__ statement condition?\n",
    "\n",
    "I attempted to code it without any If statements. Please give feedback on the implementation."
   ]
  }
 ],
 "metadata": {
  "kernelspec": {
   "display_name": "Python 3",
   "language": "python",
   "name": "python3"
  },
  "language_info": {
   "codemirror_mode": {
    "name": "ipython",
    "version": 3
   },
   "file_extension": ".py",
   "mimetype": "text/x-python",
   "name": "python",
   "nbconvert_exporter": "python",
   "pygments_lexer": "ipython3",
   "version": "3.6.3"
  }
 },
 "nbformat": 4,
 "nbformat_minor": 2
}
