{
 "cells": [
  {
   "cell_type": "markdown",
   "metadata": {},
   "source": [
    "## Assigment 6: heat equation with Numba"
   ]
  },
  {
   "cell_type": "markdown",
   "metadata": {},
   "source": [
    "Consider the code below to solve the heat equation \n",
    "$$\n",
    "\\frac{\\partial^2 f}{\\partial x^2}+\\frac{\\partial^2 f}{\\partial y^2}=0\n",
    "$$\n",
    "in a square $[0,1]\\times[0,1]$ regular domain."
   ]
  },
  {
   "cell_type": "code",
   "execution_count": null,
   "metadata": {
    "collapsed": true
   },
   "outputs": [],
   "source": [
    "#Student: Arsen Akishev"
   ]
  },
  {
   "cell_type": "code",
   "execution_count": 1,
   "metadata": {
    "collapsed": true
   },
   "outputs": [],
   "source": [
    "%load_ext line_profiler"
   ]
  },
  {
   "cell_type": "code",
   "execution_count": 3,
   "metadata": {
    "collapsed": true
   },
   "outputs": [],
   "source": [
    "import numpy as np\n",
    "\n",
    "def build_grid(n):\n",
    "    '''defines the grid'''\n",
    "    G = np.zeros((n,n))\n",
    "    return(G)\n",
    "\n",
    "def set_boundary_values(n):\n",
    "    b = np.zeros((4,n))\n",
    "    b[2]=1\n",
    "    b[3]=1\n",
    "    return(b)\n",
    "\n",
    "def set_boundary_grid(G,b):\n",
    "    '''set the boundary values: b[0]=botton, b[1]=top, b[2]=left, b[3]=right'''\n",
    "    G[0,:]=b[0]\n",
    "    G[-1,:]=b[1]\n",
    "    G[:,0]=b[2]\n",
    "    G[:,-1]=b[3]\n",
    "    \n",
    "def itera(G):\n",
    "    n = G.shape[0]\n",
    "    for i in range(1,n-1):\n",
    "        for j in range(1,n-1):\n",
    "            G[i,j]=(G[i+1,j]+G[i-1,j]+G[i,j+1]+G[i,j-1])/4\n",
    "            \n",
    "def solve_heat_equation(n):\n",
    "    G = build_grid(n)\n",
    "    b = set_boundary_values(n)\n",
    "    set_boundary_grid(G,b)\n",
    "    G_prev = build_grid(n)\n",
    "    G_prev[:] = G[:]\n",
    "    error = 1e10\n",
    "    square = np.square\n",
    "    subtract = np.subtract\n",
    "    while error > 1e-10:\n",
    "        itera(G)\n",
    "        error = square(subtract(G, G_prev)).mean()  \n",
    "        G_prev[:] = G[:]             \n",
    "        \n",
    "    return(G)"
   ]
  },
  {
   "cell_type": "code",
   "execution_count": 4,
   "metadata": {},
   "outputs": [
    {
     "name": "stdout",
     "output_type": "stream",
     "text": [
      " "
     ]
    }
   ],
   "source": [
    "%prun G = solve_heat_equation(100)\n",
    "#44099 function calls in 47.209 seconds"
   ]
  },
  {
   "cell_type": "code",
   "execution_count": 5,
   "metadata": {},
   "outputs": [
    {
     "data": {
      "image/png": "[encoded data removed]",
      "text/plain": [
       "<matplotlib.figure.Figure at 0x109cec8d0>"
      ]
     },
     "metadata": {},
     "output_type": "display_data"
    }
   ],
   "source": [
    "import matplotlib.pyplot as plt\n",
    "\n",
    "img=plt.imshow(G)\n",
    "img.set_cmap('rainbow')\n",
    "plt.axis('off')\n",
    "plt.show()"
   ]
  },
  {
   "cell_type": "markdown",
   "metadata": {},
   "source": [
    "## Exercise 1\n",
    "Use **numba** to compile the function **itera()** and compare the performance against the pure python code (you have to profiling the codes). "
   ]
  },
  {
   "cell_type": "code",
   "execution_count": 11,
   "metadata": {
    "collapsed": true
   },
   "outputs": [],
   "source": [
    "from numba import jit \n",
    "\n",
    "@jit(\"void(float64[:,:])\", nopython=True)\n",
    "def itera(G):\n",
    "    n = G.shape[0]\n",
    "    for i in range(1,n-1):\n",
    "        for j in range(1,n-1):\n",
    "            G[i,j]=(G[i+1,j]+G[i-1,j]+G[i,j+1]+G[i,j-1])/4\n",
    "            \n",
    "def solve_heat_equation_jit(n):\n",
    "    G = build_grid(n)\n",
    "    b = set_boundary_values(n)\n",
    "    set_boundary_grid(G,b)\n",
    "    G_prev = build_grid(n)\n",
    "    G_prev[:] = G[:]\n",
    "    error = 1e10\n",
    "    square = np.square\n",
    "    subtract = np.subtract\n",
    "    while error > 1e-10:\n",
    "        itera(G)\n",
    "        error = square(subtract(G, G_prev)).mean()  \n",
    "        G_prev[:] = G[:]             \n",
    "        \n",
    "    return(G)"
   ]
  },
  {
   "cell_type": "code",
   "execution_count": 7,
   "metadata": {},
   "outputs": [
    {
     "name": "stdout",
     "output_type": "stream",
     "text": [
      " "
     ]
    }
   ],
   "source": [
    "%prun G = solve_heat_equation_jit(100)\n",
    "#44099 function calls in 0.329 seconds\n",
    "#44099 function calls in 47.209 seconds\n",
    "#Numba is 143 times faster"
   ]
  },
  {
   "cell_type": "markdown",
   "metadata": {},
   "source": [
    "## Exercise 2\n",
    "Compare the performance of the Numba version against the code you develop for assignment 4 (solve the heat equation via linear system solve)."
   ]
  },
  {
   "cell_type": "code",
   "execution_count": 8,
   "metadata": {
    "collapsed": true
   },
   "outputs": [],
   "source": [
    "# Put the solution of exercise 2 here\n",
    "import numpy as np\n",
    "import scipy.sparse as ss\n",
    "import scipy.sparse.linalg as ssl\n",
    "\n",
    "def set_boundary_values(n):\n",
    "    b = np.zeros((4,n))\n",
    "    b[2]=0\n",
    "    b[3]=0\n",
    "    return(b)\n",
    "\n",
    "def insert_grid_values(i, j, G):\n",
    "    G[i,j] = -4\n",
    "    G[i+1,j] = 1\n",
    "    G[i-1,j] = 1\n",
    "    G[i,j+1] = 1\n",
    "    G[i,j-1] = 1\n",
    "    \n",
    "def form_point_vector(G,n):\n",
    "    G = G[1:n-1,1:n-1]\n",
    "    G = np.reshape(G, (1,(n-2)*(n-2)))\n",
    "    return G\n",
    "    \n",
    "def form_y_point(G, n):\n",
    "    point_array = np.zeros((2,n))\n",
    "    point_array[0,:] = G[:,0]\n",
    "    point_array[1,:] = G[:,n-1]\n",
    "    return np.sum(point_array)\n",
    "    \n",
    "def build_matrix_and_vector(n,b):\n",
    "    M = np.zeros(((n-2)*(n-2),(n-2)*(n-2)))\n",
    "    M_insert_index = 0\n",
    "    y = []\n",
    "    for i in range(1, n-1):\n",
    "        for j in range(1, n-1):\n",
    "            G = build_grid(n)\n",
    "            set_boundary_grid(G,b)\n",
    "            insert_grid_values(i, j, G)\n",
    "            point_sum = form_y_point(G, n)\n",
    "            y.append(-point_sum)\n",
    "            G = form_point_vector(G,n)\n",
    "            M[M_insert_index,:] = G\n",
    "            M_insert_index += 1\n",
    "\n",
    "    #return(M,y)  # not sparce\n",
    "    return(ss.csr_matrix(M),y)\n",
    "\n",
    "def build_grid(n):\n",
    "    '''defines the grid'''\n",
    "    G = np.zeros((n,n))\n",
    "    return(G)\n",
    "\n",
    "def set_boundary_grid(G,b):\n",
    "    '''set the boundary values: b[0]=botton, b[1]=top, b[2]=left, b[3]=right'''\n",
    "\n",
    "    G[0,:]=b[0]\n",
    "    G[-1,:]=b[1]\n",
    "    G[:,0]=b[2]\n",
    "    G[:,-1]=b[3]\n",
    "    \n",
    "def solve_heat_equation_orig(n):\n",
    "    b = set_boundary_values(n)\n",
    "    M,y = build_matrix_and_vector(n,b)\n",
    "    #f = np.linalg.solve(M,y)        # not sparse\n",
    "    f = ssl.spsolve(M,y)\n",
    "    G = np.zeros((n,n)) \n",
    "    G[1:n-1,1:n-1]=f.reshape(n-2,n-2) \n",
    "\n",
    "    return(G)"
   ]
  },
  {
   "cell_type": "code",
   "execution_count": 9,
   "metadata": {},
   "outputs": [
    {
     "name": "stdout",
     "output_type": "stream",
     "text": [
      " "
     ]
    }
   ],
   "source": [
    "%prun G = solve_heat_equation_orig(100)\n",
    "#153965 function calls (153963 primitive calls) in 1.887 second"
   ]
  },
  {
   "cell_type": "code",
   "execution_count": 12,
   "metadata": {},
   "outputs": [
    {
     "name": "stdout",
     "output_type": "stream",
     "text": [
      " "
     ]
    }
   ],
   "source": [
    "%prun G = solve_heat_equation_jit(100)\n",
    "#44099 function calls in 0.329 seconds\n",
    "#About 5.6 times faster"
   ]
  },
  {
   "cell_type": "markdown",
   "metadata": {},
   "source": [
    "## Exercise 3\n",
    "Use Numba in the code you develop for assignment 4 and compare the result against the version with Cython."
   ]
  },
  {
   "cell_type": "code",
   "execution_count": 14,
   "metadata": {},
   "outputs": [],
   "source": [
    "# Put the solution of exercise 3 here\n",
    "import numpy as np\n",
    "import scipy.sparse as ss\n",
    "import scipy.sparse.linalg as ssl\n",
    "\n",
    "@jit\n",
    "def set_boundary_values(n):\n",
    "    b = np.zeros((4,n))\n",
    "    b[2]=0\n",
    "    b[3]=0\n",
    "    return(b)\n",
    "\n",
    "@jit\n",
    "def insert_grid_values(i, j, G):\n",
    "    G[i,j] = -4\n",
    "    G[i+1,j] = 1\n",
    "    G[i-1,j] = 1\n",
    "    G[i,j+1] = 1\n",
    "    G[i,j-1] = 1\n",
    "@jit    \n",
    "def form_point_vector(G,n):\n",
    "    G = G[1:n-1,1:n-1]\n",
    "    G = np.reshape(G, (1,(n-2)*(n-2)))\n",
    "    return G\n",
    "\n",
    "@jit    \n",
    "def form_y_point(G, n):\n",
    "    point_array = np.zeros((2,n))\n",
    "    point_array[0,:] = G[:,0]\n",
    "    point_array[1,:] = G[:,n-1]\n",
    "    return np.sum(point_array)\n",
    "\n",
    "@jit    \n",
    "def build_matrix_and_vector(n,b):\n",
    "    M = np.zeros(((n-2)*(n-2),(n-2)*(n-2)))\n",
    "    M_insert_index = 0\n",
    "    y = []\n",
    "    for i in range(1, n-1):\n",
    "        for j in range(1, n-1):\n",
    "            G = build_grid(n)\n",
    "            set_boundary_grid(G,b)\n",
    "            insert_grid_values(i, j, G)\n",
    "            point_sum = form_y_point(G, n)\n",
    "            y.append(-point_sum)\n",
    "            G = form_point_vector(G,n)\n",
    "            M[M_insert_index,:] = G\n",
    "            M_insert_index += 1\n",
    "\n",
    "    #return(M,y)  # not sparce\n",
    "    return(ss.csr_matrix(M),y)\n",
    "\n",
    "@jit\n",
    "def build_grid(n):\n",
    "    '''defines the grid'''\n",
    "    G = np.zeros((n,n))\n",
    "    return(G)\n",
    "\n",
    "@jit\n",
    "def set_boundary_grid(G,b):\n",
    "    '''set the boundary values: b[0]=botton, b[1]=top, b[2]=left, b[3]=right'''\n",
    "\n",
    "    G[0,:]=b[0]\n",
    "    G[-1,:]=b[1]\n",
    "    G[:,0]=b[2]\n",
    "    G[:,-1]=b[3]\n",
    "    \n",
    "@jit\n",
    "def solve_heat_equation_fulljit(n):\n",
    "    b = set_boundary_values(n)\n",
    "    M,y = build_matrix_and_vector(n,b)\n",
    "    #f = np.linalg.solve(M,y)        # not sparse\n",
    "    f = ssl.spsolve(M,y)\n",
    "    G = np.zeros((n,n)) \n",
    "    G[1:n-1,1:n-1]=f.reshape(n-2,n-2) \n",
    "\n",
    "    return(G)"
   ]
  },
  {
   "cell_type": "code",
   "execution_count": 17,
   "metadata": {},
   "outputs": [
    {
     "name": "stdout",
     "output_type": "stream",
     "text": [
      " "
     ]
    }
   ],
   "source": [
    "%prun G = solve_heat_equation_fulljit(100)\n",
    "#153963 function calls (153961 primitive calls) in 1.866 seconds\n",
    "#77127 function calls (77125 primitive calls) in 1.910 seconds\n",
    "#When initially running the Numba code the runtime ends up approximately 3 seconds\n",
    "#Afterwards the runtime decreases to 1.86"
   ]
  }
 ],
 "metadata": {
  "kernelspec": {
   "display_name": "Python 3",
   "language": "python",
   "name": "python3"
  },
  "language_info": {
   "codemirror_mode": {
    "name": "ipython",
    "version": 3
   },
   "file_extension": ".py",
   "mimetype": "text/x-python",
   "name": "python",
   "nbconvert_exporter": "python",
   "pygments_lexer": "ipython3",
   "version": "3.6.3"
  }
 },
 "nbformat": 4,
 "nbformat_minor": 2
}
